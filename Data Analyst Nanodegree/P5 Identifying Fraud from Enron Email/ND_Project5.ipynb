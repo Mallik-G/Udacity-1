{
 "cells": [
  {
   "cell_type": "code",
   "execution_count": 1,
   "metadata": {
    "collapsed": false
   },
   "outputs": [
    {
     "data": {
      "text/html": [
       "<script>\n",
       "code_show=true; \n",
       "function code_toggle() {\n",
       " if (code_show){\n",
       " $('div.input').hide();\n",
       " } else {\n",
       " $('div.input').show();\n",
       " }\n",
       " code_show = !code_show\n",
       "} \n",
       "$( document ).ready(code_toggle);\n",
       "</script>\n",
       "<form action=\"javascript:code_toggle()\"><input type=\"submit\" value=\"Click here to toggle on/off the raw code.\"></form>"
      ],
      "text/plain": [
       "<IPython.core.display.HTML object>"
      ]
     },
     "execution_count": 1,
     "metadata": {},
     "output_type": "execute_result"
    }
   ],
   "source": [
    "from IPython.display import HTML\n",
    "\n",
    "HTML('''<script>\n",
    "code_show=true; \n",
    "function code_toggle() {\n",
    " if (code_show){\n",
    " $('div.input').hide();\n",
    " } else {\n",
    " $('div.input').show();\n",
    " }\n",
    " code_show = !code_show\n",
    "} \n",
    "$( document ).ready(code_toggle);\n",
    "</script>\n",
    "<form action=\"javascript:code_toggle()\"><input type=\"submit\" value=\"Click here to toggle on/off the raw code.\"></form>''')"
   ]
  },
  {
   "cell_type": "markdown",
   "metadata": {},
   "source": [
    "#Data Analyst Nanodegree\n",
    "##Project 5: Identifying Fraud from Enron Email"
   ]
  },
  {
   "cell_type": "markdown",
   "metadata": {},
   "source": [
    "###1.0 Introduction"
   ]
  },
  {
   "cell_type": "markdown",
   "metadata": {},
   "source": [
    "This document presents the results of Project 5: Identifying Fraud from Enron Email for the Udacity Data Science Nanodegree. This assessment required the student to 'play detective', and put machine learning skills to use by building an algorithm to identify Enron Employees who may have committed fraud based on the public Enron financial and email dataset."
   ]
  },
  {
   "cell_type": "markdown",
   "metadata": {},
   "source": [
    "###2.0 Background"
   ]
  },
  {
   "cell_type": "markdown",
   "metadata": {},
   "source": [
    "####Enron Fraud"
   ]
  },
  {
   "cell_type": "markdown",
   "metadata": {},
   "source": [
    "In 2000, Enron was one of the largest companies in the United States. By 2002, it had collapsed into bankruptcy due to widespread corporate fraud. In the resulting Federal investigation, there was a significant amount of typically confidential information entered into public record, including tens of thousands of emails and detailed financial data for top executives. In this project, you will play detective, and put your new skills to use by building a person of interest identifier based on financial and email data made public as a result of the Enron scandal. To assist you in your detective work, we've combined this data with a hand-generated list of persons of interest in the fraud case, which means individuals who were indicted, reached a settlement, or plea deal with the government, or testified in exchange for prosecution immunity."
   ]
  },
  {
   "cell_type": "markdown",
   "metadata": {},
   "source": [
    "####Goal of the Project"
   ]
  },
  {
   "cell_type": "markdown",
   "metadata": {},
   "source": [
    "The goal of this assessment is to build a predictive model which is able to identify and label Enron employee's as a Person of Interst (POI). By assigning a label of POI, the employee is said to have committed fraud. In order to achieve this goal, machine learning practices are employed in order to generate predictions of POI’s based on an existing employee dataset. The dataset for this assessment was made public through Case No. 01-16034 of the Southern District of New York US District Court. The data includes financial features for each employee such as salaries and bonus payouts, as well as email features such as who the employee has sent/received emails to/from."
   ]
  },
  {
   "cell_type": "markdown",
   "metadata": {},
   "source": [
    "###3.0 Data"
   ]
  },
  {
   "cell_type": "markdown",
   "metadata": {},
   "source": [
    "####Original Dataset"
   ]
  },
  {
   "cell_type": "markdown",
   "metadata": {},
   "source": [
    "Resources (incl. dataset) can be found on the Udacity Github repo: [ud120-projects.git](https://github.com/udacity/ud120-projects.git)\n",
    "\n",
    "Features in the data fall into three major types, namely financial features, email features and POI labels. \n",
    "* Financial features: ['salary', 'deferral_payments', 'total_payments', 'loan_advances', 'bonus', 'restricted_stock_deferred', 'deferred_income', 'total_stock_value', 'expenses', 'exercised_stock_options', 'other', 'long_term_incentive', 'restricted_stock', 'director_fees'] (all units are in US dollars) \n",
    "* Email features: ['to_messages', 'email_address', 'from_poi_to_this_person', 'from_messages', 'from_this_person_to_poi', 'poi', 'shared_receipt_with_poi'] (units are generally number of emails messages; notable exception is ‘email_address’, which is a text string)\n",
    "* POI label: [‘poi’] (boolean, represented as integer)"
   ]
  },
  {
   "cell_type": "markdown",
   "metadata": {},
   "source": [
    "####Data Pre-Processing "
   ]
  },
  {
   "cell_type": "code",
   "execution_count": 2,
   "metadata": {
    "collapsed": false
   },
   "outputs": [
    {
     "data": {
      "text/html": [
       "<div>\n",
       "<table border=\"1\" class=\"dataframe\">\n",
       "  <thead>\n",
       "    <tr style=\"text-align: right;\">\n",
       "      <th></th>\n",
       "      <th>salary</th>\n",
       "      <th>to_messages</th>\n",
       "      <th>deferral_payments</th>\n",
       "      <th>total_payments</th>\n",
       "      <th>exercised_stock_options</th>\n",
       "      <th>bonus</th>\n",
       "      <th>restricted_stock</th>\n",
       "      <th>shared_receipt_with_poi</th>\n",
       "      <th>restricted_stock_deferred</th>\n",
       "      <th>total_stock_value</th>\n",
       "      <th>...</th>\n",
       "      <th>loan_advances</th>\n",
       "      <th>from_messages</th>\n",
       "      <th>other</th>\n",
       "      <th>from_this_person_to_poi</th>\n",
       "      <th>poi</th>\n",
       "      <th>director_fees</th>\n",
       "      <th>deferred_income</th>\n",
       "      <th>long_term_incentive</th>\n",
       "      <th>email_address</th>\n",
       "      <th>from_poi_to_this_person</th>\n",
       "    </tr>\n",
       "  </thead>\n",
       "  <tbody>\n",
       "    <tr>\n",
       "      <th>ALLEN PHILLIP K</th>\n",
       "      <td>201955</td>\n",
       "      <td>2902</td>\n",
       "      <td>2869717</td>\n",
       "      <td>4484442</td>\n",
       "      <td>1729541</td>\n",
       "      <td>4175000</td>\n",
       "      <td>126027</td>\n",
       "      <td>1407</td>\n",
       "      <td>-126027</td>\n",
       "      <td>1729541</td>\n",
       "      <td>...</td>\n",
       "      <td>NaN</td>\n",
       "      <td>2195</td>\n",
       "      <td>152</td>\n",
       "      <td>65</td>\n",
       "      <td>False</td>\n",
       "      <td>NaN</td>\n",
       "      <td>-3081055</td>\n",
       "      <td>304805</td>\n",
       "      <td>phillip.allen@enron.com</td>\n",
       "      <td>47</td>\n",
       "    </tr>\n",
       "    <tr>\n",
       "      <th>BADUM JAMES P</th>\n",
       "      <td>NaN</td>\n",
       "      <td>NaN</td>\n",
       "      <td>178980</td>\n",
       "      <td>182466</td>\n",
       "      <td>257817</td>\n",
       "      <td>NaN</td>\n",
       "      <td>NaN</td>\n",
       "      <td>NaN</td>\n",
       "      <td>NaN</td>\n",
       "      <td>257817</td>\n",
       "      <td>...</td>\n",
       "      <td>NaN</td>\n",
       "      <td>NaN</td>\n",
       "      <td>NaN</td>\n",
       "      <td>NaN</td>\n",
       "      <td>False</td>\n",
       "      <td>NaN</td>\n",
       "      <td>NaN</td>\n",
       "      <td>NaN</td>\n",
       "      <td>NaN</td>\n",
       "      <td>NaN</td>\n",
       "    </tr>\n",
       "    <tr>\n",
       "      <th>BANNANTINE JAMES M</th>\n",
       "      <td>477</td>\n",
       "      <td>566</td>\n",
       "      <td>NaN</td>\n",
       "      <td>916197</td>\n",
       "      <td>4046157</td>\n",
       "      <td>NaN</td>\n",
       "      <td>1757552</td>\n",
       "      <td>465</td>\n",
       "      <td>-560222</td>\n",
       "      <td>5243487</td>\n",
       "      <td>...</td>\n",
       "      <td>NaN</td>\n",
       "      <td>29</td>\n",
       "      <td>864523</td>\n",
       "      <td>0</td>\n",
       "      <td>False</td>\n",
       "      <td>NaN</td>\n",
       "      <td>-5104</td>\n",
       "      <td>NaN</td>\n",
       "      <td>james.bannantine@enron.com</td>\n",
       "      <td>39</td>\n",
       "    </tr>\n",
       "    <tr>\n",
       "      <th>BAXTER JOHN C</th>\n",
       "      <td>267102</td>\n",
       "      <td>NaN</td>\n",
       "      <td>1295738</td>\n",
       "      <td>5634343</td>\n",
       "      <td>6680544</td>\n",
       "      <td>1200000</td>\n",
       "      <td>3942714</td>\n",
       "      <td>NaN</td>\n",
       "      <td>NaN</td>\n",
       "      <td>10623258</td>\n",
       "      <td>...</td>\n",
       "      <td>NaN</td>\n",
       "      <td>NaN</td>\n",
       "      <td>2660303</td>\n",
       "      <td>NaN</td>\n",
       "      <td>False</td>\n",
       "      <td>NaN</td>\n",
       "      <td>-1386055</td>\n",
       "      <td>1586055</td>\n",
       "      <td>NaN</td>\n",
       "      <td>NaN</td>\n",
       "    </tr>\n",
       "    <tr>\n",
       "      <th>BAY FRANKLIN R</th>\n",
       "      <td>239671</td>\n",
       "      <td>NaN</td>\n",
       "      <td>260455</td>\n",
       "      <td>827696</td>\n",
       "      <td>NaN</td>\n",
       "      <td>400000</td>\n",
       "      <td>145796</td>\n",
       "      <td>NaN</td>\n",
       "      <td>-82782</td>\n",
       "      <td>63014</td>\n",
       "      <td>...</td>\n",
       "      <td>NaN</td>\n",
       "      <td>NaN</td>\n",
       "      <td>69</td>\n",
       "      <td>NaN</td>\n",
       "      <td>False</td>\n",
       "      <td>NaN</td>\n",
       "      <td>-201641</td>\n",
       "      <td>NaN</td>\n",
       "      <td>frank.bay@enron.com</td>\n",
       "      <td>NaN</td>\n",
       "    </tr>\n",
       "  </tbody>\n",
       "</table>\n",
       "<p>5 rows × 21 columns</p>\n",
       "</div>"
      ],
      "text/plain": [
       "                    salary to_messages deferral_payments total_payments  \\\n",
       "ALLEN PHILLIP K     201955        2902           2869717        4484442   \n",
       "BADUM JAMES P          NaN         NaN            178980         182466   \n",
       "BANNANTINE JAMES M     477         566               NaN         916197   \n",
       "BAXTER JOHN C       267102         NaN           1295738        5634343   \n",
       "BAY FRANKLIN R      239671         NaN            260455         827696   \n",
       "\n",
       "                   exercised_stock_options    bonus restricted_stock  \\\n",
       "ALLEN PHILLIP K                    1729541  4175000           126027   \n",
       "BADUM JAMES P                       257817      NaN              NaN   \n",
       "BANNANTINE JAMES M                 4046157      NaN          1757552   \n",
       "BAXTER JOHN C                      6680544  1200000          3942714   \n",
       "BAY FRANKLIN R                         NaN   400000           145796   \n",
       "\n",
       "                   shared_receipt_with_poi restricted_stock_deferred  \\\n",
       "ALLEN PHILLIP K                       1407                   -126027   \n",
       "BADUM JAMES P                          NaN                       NaN   \n",
       "BANNANTINE JAMES M                     465                   -560222   \n",
       "BAXTER JOHN C                          NaN                       NaN   \n",
       "BAY FRANKLIN R                         NaN                    -82782   \n",
       "\n",
       "                   total_stock_value           ...           loan_advances  \\\n",
       "ALLEN PHILLIP K              1729541           ...                     NaN   \n",
       "BADUM JAMES P                 257817           ...                     NaN   \n",
       "BANNANTINE JAMES M           5243487           ...                     NaN   \n",
       "BAXTER JOHN C               10623258           ...                     NaN   \n",
       "BAY FRANKLIN R                 63014           ...                     NaN   \n",
       "\n",
       "                   from_messages    other from_this_person_to_poi    poi  \\\n",
       "ALLEN PHILLIP K             2195      152                      65  False   \n",
       "BADUM JAMES P                NaN      NaN                     NaN  False   \n",
       "BANNANTINE JAMES M            29   864523                       0  False   \n",
       "BAXTER JOHN C                NaN  2660303                     NaN  False   \n",
       "BAY FRANKLIN R               NaN       69                     NaN  False   \n",
       "\n",
       "                   director_fees deferred_income long_term_incentive  \\\n",
       "ALLEN PHILLIP K              NaN        -3081055              304805   \n",
       "BADUM JAMES P                NaN             NaN                 NaN   \n",
       "BANNANTINE JAMES M           NaN           -5104                 NaN   \n",
       "BAXTER JOHN C                NaN        -1386055             1586055   \n",
       "BAY FRANKLIN R               NaN         -201641                 NaN   \n",
       "\n",
       "                                 email_address from_poi_to_this_person  \n",
       "ALLEN PHILLIP K        phillip.allen@enron.com                      47  \n",
       "BADUM JAMES P                              NaN                     NaN  \n",
       "BANNANTINE JAMES M  james.bannantine@enron.com                      39  \n",
       "BAXTER JOHN C                              NaN                     NaN  \n",
       "BAY FRANKLIN R             frank.bay@enron.com                     NaN  \n",
       "\n",
       "[5 rows x 21 columns]"
      ]
     },
     "execution_count": 2,
     "metadata": {},
     "output_type": "execute_result"
    }
   ],
   "source": [
    "#!/usr/bin/python\n",
    "\n",
    "import pickle\n",
    "import pandas\n",
    "\n",
    "#Load data dict.\n",
    "data_dict = pickle.load(open(\"data/final_project_dataset.pkl\", \"r\"))\n",
    "\n",
    "#Total data points\n",
    "points = len(data_dict.keys())\n",
    "\n",
    "#POI count\n",
    "poi_count = 0\n",
    "for k in data_dict:\n",
    "   if data_dict[k][\"poi\"] == 1:\n",
    "       poi_count += 1\n",
    "        \n",
    "#Features per person\n",
    "perfeat = len(data_dict[data_dict.keys()[0]].keys())\n",
    "\n",
    "#Data head\n",
    "df = pandas.DataFrame.from_dict(data_dict, orient = 'index')\n",
    "df.head()"
   ]
  },
  {
   "cell_type": "markdown",
   "metadata": {},
   "source": [
    "Some initial probing of the dataset revealed that there are 146 total records (people) and 18 POI. For each person in the dataset, there are 21 features available. As part of the pre-processing routine, an investigation for outliers and data anomaly was conducted. Visual representations of features were used in order to identify extreme outliers."
   ]
  },
  {
   "cell_type": "code",
   "execution_count": 3,
   "metadata": {
    "collapsed": false
   },
   "outputs": [
    {
     "data": {
      "text/plain": [
       "<matplotlib.text.Text at 0xe5b1128>"
      ]
     },
     "execution_count": 3,
     "metadata": {},
     "output_type": "execute_result"
    },
    {
     "data": {
      "image/png": "[encoded data removed]",
      "text/plain": [
       "<matplotlib.figure.Figure at 0xc5652b0>"
      ]
     },
     "metadata": {},
     "output_type": "display_data"
    }
   ],
   "source": [
    "#!/usr/bin/python\n",
    "\n",
    "import sys\n",
    "import pickle\n",
    "import matplotlib.pyplot as plt\n",
    "sys.path.append(\"tools/\")\n",
    "from feature_format import featureFormat, targetFeatureSplit\n",
    "%matplotlib inline\n",
    "\n",
    "#Load data dict.\n",
    "data_dict = pickle.load(open(\"data/final_project_dataset.pkl\", \"r\"))\n",
    "\n",
    "#Retrieve formatted features\n",
    "features = [\"salary\", \"bonus\"]\n",
    "data = featureFormat(data_dict, features)\n",
    "labels, features = targetFeatureSplit(data)\n",
    "\n",
    "# Plot bonus vs salary\n",
    "for point in data:\n",
    "   salary = point[0]\n",
    "   bonus = point[1]\n",
    "   plt.scatter( salary, bonus )\n",
    "\n",
    "plt.title(\"Bonus vs Salary\")\n",
    "plt.xlabel(\"Salary\")\n",
    "plt.ylabel(\"Bonus\")"
   ]
  },
  {
   "cell_type": "code",
   "execution_count": 4,
   "metadata": {
    "collapsed": false
   },
   "outputs": [
    {
     "name": "stdout",
     "output_type": "stream",
     "text": [
      "[('TOTAL', 26704229), ('SKILLING JEFFREY K', 1111258)]\n"
     ]
    }
   ],
   "source": [
    "import pickle\n",
    "from pprint import pprint\n",
    "\n",
    "#Load data dict.\n",
    "data_dict = pickle.load(open(\"data/final_project_dataset.pkl\", \"r\"))\n",
    "\n",
    "outlier = []\n",
    "for key in data_dict:\n",
    "    val = data_dict[key]['salary']\n",
    "    if val == 'NaN':\n",
    "        continue\n",
    "    outlier.append((key,int(val)))\n",
    "\n",
    "pprint(sorted(outlier,key=lambda x:x[1],reverse=True)[:2])"
   ]
  },
  {
   "cell_type": "markdown",
   "metadata": {},
   "source": [
    "A plot of 'bonus' and 'salary' features showed an extreme outlier. Upon further investigation, the extreme outlier was found be related to a 'TOTAL' entry, which represents the sum for each each feature within the financial dataset. As such, this entry was removed from the dataset and the outlier assessment repeated."
   ]
  },
  {
   "cell_type": "code",
   "execution_count": 5,
   "metadata": {
    "collapsed": false
   },
   "outputs": [
    {
     "data": {
      "text/plain": [
       "<matplotlib.text.Text at 0xeae04a8>"
      ]
     },
     "execution_count": 5,
     "metadata": {},
     "output_type": "execute_result"
    },
    {
     "data": {
      "image/png": "[encoded data removed]",
      "text/plain": [
       "<matplotlib.figure.Figure at 0x3743fd0>"
      ]
     },
     "metadata": {},
     "output_type": "display_data"
    }
   ],
   "source": [
    "#!/usr/bin/python\n",
    "\n",
    "import sys\n",
    "import matplotlib.pyplot as plt\n",
    "sys.path.append(\"tools/\")\n",
    "from feature_format import featureFormat, targetFeatureSplit\n",
    "%matplotlib inline\n",
    "\n",
    "#Load data dict.\n",
    "data_dict = pickle.load(open(\"data/final_project_dataset.pkl\", \"r\"))\n",
    "\n",
    "#Drop 'TOTAL'\n",
    "data_dict.pop('TOTAL',0)\n",
    "\n",
    "#Retrieve formatted features\n",
    "features = [\"salary\", \"bonus\"]\n",
    "data = featureFormat(data_dict, features)\n",
    "labels, features = targetFeatureSplit(data)\n",
    "\n",
    "# Plot bonus vs salary\n",
    "for point in data:\n",
    "   salary = point[0]\n",
    "   bonus = point[1]\n",
    "   plt.scatter( salary, bonus )\n",
    "\n",
    "plt.title(\"Bonus vs Salary\")\n",
    "plt.xlabel(\"Salary\")\n",
    "plt.ylabel(\"Bonus\")"
   ]
  },
  {
   "cell_type": "code",
   "execution_count": 6,
   "metadata": {
    "collapsed": false
   },
   "outputs": [
    {
     "name": "stdout",
     "output_type": "stream",
     "text": [
      "[('SKILLING JEFFREY K', 1111258), ('LAY KENNETH L', 1072321)]\n"
     ]
    }
   ],
   "source": [
    "import pickle\n",
    "from pprint import pprint\n",
    "\n",
    "#Load data dict.\n",
    "data_dict = pickle.load(open(\"data/final_project_dataset.pkl\", \"r\"))\n",
    "\n",
    "#Drop 'TOTAL'\n",
    "data_dict.pop('TOTAL',0)\n",
    "\n",
    "outlier = []\n",
    "for key in data_dict:\n",
    "    val = data_dict[key]['salary']\n",
    "    if val == 'NaN':\n",
    "        continue\n",
    "    outlier.append((key,int(val)))\n",
    "\n",
    "pprint(sorted(outlier,key=lambda x:x[1],reverse=True)[:2])"
   ]
  },
  {
   "cell_type": "markdown",
   "metadata": {},
   "source": [
    "Two outliers remain, 'SKILLING JEFFREY K' and 'LAY KENNETH L'. However both are be retained as part of the pre-processed dataset since they are POI candidates."
   ]
  },
  {
   "cell_type": "code",
   "execution_count": 7,
   "metadata": {
    "collapsed": false,
    "scrolled": true
   },
   "outputs": [],
   "source": [
    "#!/usr/bin/python\n",
    "\n",
    "import pickle\n",
    "import pandas\n",
    "import numpy\n",
    "\n",
    "data_dict = pickle.load( open(\"data/final_project_dataset.pkl\", \"r\") )\n",
    "\n",
    "df = pandas.DataFrame.from_dict(data_dict, orient = 'index')\n",
    "\n",
    "\n",
    "#Replace 'NaN' and 'inf' strings with 0's\n",
    "replace = ['NaN', 'inf', '-inf']\n",
    "\n",
    "for i in replace:\n",
    "    df = df.replace(i, 0)\n",
    "\n",
    "    \n",
    "#Return empty index\n",
    "emptyindex = numpy.where(~df.any(axis = 1))[0]\n",
    "#print \"Empty index:\"\n",
    "#for i in emptyindex:\n",
    "    #print df.iloc[i]\n",
    "\n",
    "    \n",
    "#Drop 'TOTAL', 'THE TRAVEL AGENCY IN THE PARK', 'LOCKHART EUGENE E'\n",
    "drop = ['TOTAL', \n",
    "    'THE TRAVEL AGENCY IN THE PARK',\n",
    "    'LOCKHART EUGENE E']\n",
    "\n",
    "\n",
    "#Drop 'email address' feature\n",
    "for i in drop:\n",
    "    df = df.drop(i, axis = 0)\n",
    "\n",
    "df = df.drop('email_address', axis = 1)\n",
    "\n",
    "\n",
    "#List email features\n",
    "feat_email = numpy.array(['from_messages',\n",
    "    'to_messages',\n",
    "    'shared_receipt_with_poi', \n",
    "    'from_this_person_to_poi',\n",
    "    'from_poi_to_this_person',\n",
    "    'email_address'])\n",
    "\n",
    "\n",
    "#List financial features\n",
    "feat_financial = numpy.array(['salary',\n",
    "    'deferral_payments',\n",
    "    'total_payments',\n",
    "    'exercised_stock_options', \n",
    "    'bonus',\n",
    "    'restricted_stock',\n",
    "    'restricted_stock_deferred',\n",
    "    'total_stock_value',\n",
    "    'expenses',\n",
    "    'loan_advances',\n",
    "    'other',\n",
    "    'director_fees',\n",
    "    'deferred_income', \n",
    "    'long_term_incentive'])"
   ]
  },
  {
   "cell_type": "markdown",
   "metadata": {},
   "source": [
    "In addition to the 'TOTAL' feature mentioned above, 'THE TRAVEL AGENCY IN THE PARK' was also removed as it was found to refer to an entity rather than a person, and ‘LOCKHART EUGENE E’ was removed this entry had missing data for all data features. As a final step in the pre-processing routine, 'NaN', 'inf' and '-inf' strings were replaces with zero values, and any records with all missing data were dropped."
   ]
  },
  {
   "cell_type": "markdown",
   "metadata": {},
   "source": [
    "###4.0: Features"
   ]
  },
  {
   "cell_type": "markdown",
   "metadata": {},
   "source": [
    "####Additional Features"
   ]
  },
  {
   "cell_type": "markdown",
   "metadata": {},
   "source": [
    "Prior to performing any form of feature selection, a number of additional features were derived from the existing set."
   ]
  },
  {
   "cell_type": "code",
   "execution_count": 8,
   "metadata": {
    "collapsed": false,
    "scrolled": true
   },
   "outputs": [],
   "source": [
    "#!/usr/bin/python\n",
    "\n",
    "#Make a copy of the pre-processed dataset\n",
    "df_orig = df.copy(deep = True)\n",
    "df_addf = df.copy(deep = True)\n",
    "\n",
    "\n",
    "#Add financial ratio features\n",
    "feat_payment = ['salary',\n",
    "    'deferral_payments',\n",
    "    'bonus',\n",
    "    'expenses',\n",
    "    'loan_advances',\n",
    "    'other',\n",
    "    'director_fees',\n",
    "    'deferred_income',\n",
    "    'long_term_incentive']\n",
    "\n",
    "feat_stock = ['exercised_stock_options',\n",
    "    'restricted_stock',\n",
    "    'restricted_stock_deferred',]\n",
    "\n",
    "for i in feat_payment:\n",
    "    df_addf['{0}_{1}_ratio'.format(i, 'total_pay')] = df_addf[i] / df_addf['total_payments']\n",
    "\n",
    "for i in feat_stock:\n",
    "    df_addf['{0}_{1}_ratio'.format(i, 'total_stock')] = df_addf[i] / df_addf['total_stock_value']\n",
    "\n",
    "\n",
    "#Add email ratio features\n",
    "feat_emailtrans = ['shared_receipt_with_poi',\n",
    "    'from_this_person_to_poi',\n",
    "    'from_poi_to_this_person' ]\n",
    "\n",
    "df_addf['total_poi_interaction'] = df_addf['shared_receipt_with_poi'] +\\\n",
    "    df_addf['from_this_person_to_poi'] +\\\n",
    "    df_addf['from_poi_to_this_person']\n",
    "\n",
    "for i in feat_emailtrans:\n",
    "    df_addf['{0}_{1}_ratio'.format(i, 'total_poi_interaction')] = df_addf[i] / df_addf['total_poi_interaction']\n",
    "\n",
    "\n",
    "#Add squared features\n",
    "feat_squared = ['total_payments',\n",
    "    'total_stock_value',\n",
    "    'exercised_stock_options',\n",
    "    'salary']\n",
    "\n",
    "for i in feat_payment:\n",
    "    df_addf['{0}_squared'.format(i)] = df_addf[i] ** 2\n",
    "    \n",
    "for i in feat_stock:\n",
    "    df_addf['{0}_squared'.format(i)] = df_addf[i] ** 2\n",
    "    \n",
    "for i in feat_emailtrans:\n",
    "    df_addf['{0}_squared'.format(i)] = df_addf[i] ** 2"
   ]
  },
  {
   "cell_type": "markdown",
   "metadata": {},
   "source": [
    "New features added to a copy of the pre-processed dataset:\n",
    "* Ratio of payment features: Ratio of each payment feature (i.e. salary, bonus and expenses) to total income. Expect that those individuals which have a greater bonus or expense as a proportion of their total income, are more likely to be poi's.\n",
    "\n",
    "* Ratio of stock features: Ratio of each stock feature (i.e. stock option value, restricted/deferred stock value) to total stock value. Expect those individuals which have a greater value of stock options as a proportion of their total stock value, are more likely to be poi's.\n",
    "\n",
    "* Ratio of email features: Ratio of each email feature (i.e. number of shared receipts with poi, number of emails from this person to poi) to total amount of receipts/emails to and from poi. Expect that individuals can be further identified by the relative amount of contact they have had with other poi's and by which means they have had contact.\n",
    "\n",
    "* Square of features: The square of each existing and newly generated features."
   ]
  },
  {
   "cell_type": "code",
   "execution_count": 9,
   "metadata": {
    "collapsed": false
   },
   "outputs": [],
   "source": [
    "#Replace 'NaN' and 'inf' strings with 0's\n",
    "replace = ['NaN', 'inf', '-inf']\n",
    "\n",
    "for i in replace:\n",
    "    df_addf = df_addf.replace(i, 0)\n",
    "\n",
    "#Extract POI label\n",
    "df_label = df['poi']\n",
    "\n",
    "#Drop POI from dataset and convert new features to floats for MinMaxScaler\n",
    "feat_orig = df_orig.drop(['poi'], axis = 1).astype(float)\n",
    "feat_addf = df_addf.drop(['poi'], axis = 1).astype(float)\n",
    "\n",
    "#Return final list of feature names\n",
    "feat_list_orig = feat_orig.columns\n",
    "feat_list_addf = feat_addf.columns\n",
    "\n",
    "#print feat_list_orig\n",
    "#print feat_list_addf"
   ]
  },
  {
   "cell_type": "markdown",
   "metadata": {},
   "source": [
    "As with the original pre-processed dataset, any 'NaN', 'inf' and '-inf' values (which may have been generated as part of the feature creation routine) were replaced with zero values. And finally, the POI feature was dropped from both the original and additional feature datasets with all remaining features converted to floats."
   ]
  },
  {
   "cell_type": "markdown",
   "metadata": {},
   "source": [
    "####Optimal Feature Selection"
   ]
  },
  {
   "cell_type": "markdown",
   "metadata": {},
   "source": [
    "In order to get some insight into the relevancy of the newly added features, the SelectKBest<sup>1</sup> univariate feature selection algorithm was used, with an ANOVA F-value classification for ranking. This alogrithm was applied to both the original and additional feature datasets."
   ]
  },
  {
   "cell_type": "code",
   "execution_count": 10,
   "metadata": {
    "collapsed": false
   },
   "outputs": [
    {
     "data": {
      "image/png": "[encoded data removed]",
      "text/plain": [
       "<matplotlib.figure.Figure at 0x10fc3390>"
      ]
     },
     "metadata": {},
     "output_type": "display_data"
    },
    {
     "data": {
      "image/png": "[encoded data removed]",
      "text/plain": [
       "<matplotlib.figure.Figure at 0x10fc3400>"
      ]
     },
     "metadata": {},
     "output_type": "display_data"
    }
   ],
   "source": [
    "#!/usr/bin/python\n",
    "\n",
    "from sklearn.feature_selection import SelectKBest\n",
    "from sklearn.feature_selection import f_classif\n",
    "import pandas\n",
    "import numpy\n",
    "import matplotlib.pyplot as plt\n",
    "%matplotlib inline\n",
    "\n",
    "\n",
    "feat = [feat_orig, feat_addf]\n",
    "feat_list = [feat_list_orig, feat_list_addf]\n",
    "\n",
    "for feat, feat_list in zip(feat, feat_list):\n",
    "   \n",
    "    #Score features using KBest and Anova F-value\n",
    "    kbsel = SelectKBest(k = 'all', score_func = f_classif).fit(feat, df_label)\n",
    "\n",
    "    #Create tables for the K-best features Anova F-value.\n",
    "    kbfeat = pandas.DataFrame([feat_list, kbsel.scores_]).T\n",
    "    kbfeat.columns = ['Feature', 'Anova F-value']\n",
    "    kbfeat = kbfeat.sort(['Anova F-value'], ascending = True).reset_index(drop = True)\n",
    "\n",
    "    #Generate vertical bar chart\n",
    "    y = kbfeat['Feature']\n",
    "    y_pos = numpy.arange(len(y))\n",
    "    x = kbfeat['Anova F-value']\n",
    "\n",
    "    fig = plt.figure(figsize=(15, 10));\n",
    "    plt.barh(y_pos, x)\n",
    "    plt.yticks(y_pos, y)\n",
    "    plt.title(\"F-value by Feature\")\n",
    "    plt.xlabel(\"F-value\")\n",
    "    plt.ylabel(\"Feature\")\n",
    "\n",
    "    #kbfeat.plot(kind = 'barh')"
   ]
  },
  {
   "cell_type": "markdown",
   "metadata": {
    "collapsed": true
   },
   "source": [
    "As it can be seen from the above plots, the new features within the additional feature dataset are unable to significantly out-perform any of the original features. 'EXERCISED_STOCK_OPTIONS', 'TOTAL_STOCK_VALUE', 'BONUS' and 'SALARY' are the top performing features in the original dataset, while 'EXERCISED_STOCK_OPTIONS_SQUARED', 'BONUS_TOTAL_PAY_RATIO' within the additional feature dataset perform similarly. As such, the additional feature dataset is dropped from subsequent analysis in order to avoid potential multi-collinearity issues associated with fitting predictive models around similar based features."
   ]
  },
  {
   "cell_type": "code",
   "execution_count": 11,
   "metadata": {
    "collapsed": false
   },
   "outputs": [],
   "source": [
    "import numpy\n",
    "\n",
    "feat_final_list = numpy.array(['exercised_stock_options',\n",
    "    'total_stock_value',\n",
    "    'bonus',\n",
    "    'salary',\n",
    "    'deferred_income',\n",
    "    'long_term_incentive',\n",
    "    'restricted_stock',\n",
    "    'total_payments',\n",
    "    'shared_receipt_with_poi',\n",
    "    'loan_advances',\n",
    "    'expenses', #including this will generate 'UserWarning: Features are constant'\n",
    "    'from_poi_to_this_person', #including this will generate 'UserWarning: Features are constant'\n",
    "    'other',\n",
    "    'from_this_person_to_poi',\n",
    "    'director_fees', #including this will generate 'UserWarning: Features are constant'\n",
    "    'to_messages',\n",
    "    'deferral_payments', #including this will generate 'UserWarning: Features are constant'\n",
    "    'from_messages',\n",
    "    'restricted_stock_deferred'])\n",
    "\n",
    "df_final_list = numpy.array(['poi',\n",
    "    'exercised_stock_options',\n",
    "    'total_stock_value',\n",
    "    'bonus',\n",
    "    'salary',\n",
    "    'deferred_income',\n",
    "    'long_term_incentive',\n",
    "    'restricted_stock',\n",
    "    'total_payments',\n",
    "    'shared_receipt_with_poi',\n",
    "    'loan_advances',\n",
    "    'expenses', #including this will generate 'UserWarning: Features are constant'\n",
    "    'from_poi_to_this_person', #including this will generate 'UserWarning: Features are constant'\n",
    "    'other',\n",
    "    'from_this_person_to_poi',\n",
    "    'director_fees', #including this will generate 'UserWarning: Features are constant'\n",
    "    'to_messages',\n",
    "    'deferral_payments', #including this will generate 'UserWarning: Features are constant'\n",
    "    'from_messages',\n",
    "    'restricted_stock_deferred'])\n",
    "\n",
    "feat_final = df_orig[feat_final_list]\n",
    "df_final = df_orig[df_final_list]"
   ]
  },
  {
   "cell_type": "markdown",
   "metadata": {},
   "source": [
    "###5.0 Estimation"
   ]
  },
  {
   "cell_type": "markdown",
   "metadata": {},
   "source": [
    "In order to select the optimal set of estimation algorithm for the final predictive model, a GridSearchCV<sup>2</sup> Pipeline was conducted. According to the sklearn documentation, GridSearchCV implements a 'fit' and 'predict' method like any classifier except that the parameters of the classifier used to predict are optimized by cross-validation.\n",
    "\n",
    "For this analysis, a collection of pre-processors and estimators were added to a list which are able to be passed to the GridSearchCV. Pre-processors and estimators included within the list and their parameter optimization ranges are noted below.\n",
    "\n",
    "Pre-processors:\n",
    "* MinMaxScaler<sup>3</sup>()\n",
    "* SelectKBest(\n",
    "            'k':[2, 4, 6, 8, 10, 12, 14, 16, 'all']\n",
    "  )\n",
    "* KNeighborsClassifier<sup>4</sup>()\n",
    "\n",
    "Estimators:\n",
    "* GaussianNB<sup>5</sup>()\n",
    "* LinearSVC<sup>6</sup>(\n",
    "            'C':[0.05, 0.025, 0.5, 1, 10, 10^2, 10^4, 10^8],\n",
    "            'tol':[10^-1, 10^-2, 10^-4, 10^-8],\n",
    "            'class_weight':['auto']\n",
    "  )\n",
    "* DecisionTreeClassifier<sup>7</sup>(\n",
    "                        'criterion':['gini', 'entropy'],\n",
    "                        'splitter':['random', 'best'],\n",
    "                        'max_depth':[None, 2, 4, 6, 8, 10, 15, 20]\n",
    "  )\n",
    "* RandomForestClassifier<sup>8</sup>(\n",
    "                        'n_estimators':[5, 10, 15, 20],\n",
    "                        'min_samples_split':[2, 3, 4, 5],\n",
    "                        'random_state':[42]\n",
    "  )\n",
    "* LogisticRegression<sup>9</sup>(\n",
    "                    'C':[0.05, 0.025, 0.5, 1, 10, 10^2, 10^4, 10^8],\n",
    "                    'tol':[10^-1, 10^-2, 10^-4, 10^-8],\n",
    "                    'class_weight':['auto']\n",
    "  )\n",
    "  \n",
    "Tuning parameters allows the user to optimize the models performance over desired performance criteria. For example, a certain set of parameters may allow more information to be extracted from a given set of features (varying validation scores as a result) while another set may allow for lower amount of computational processing. In this case GridSearchCV has been set to optimize parameter selection against the F1 score."
   ]
  },
  {
   "cell_type": "code",
   "execution_count": 12,
   "metadata": {
    "collapsed": false
   },
   "outputs": [],
   "source": [
    "#GridSearchCV estimation library\n",
    "\n",
    "from sklearn.preprocessing import MinMaxScaler\n",
    "from sklearn.feature_selection import SelectKBest\n",
    "from sklearn.neighbors import KNeighborsClassifier\n",
    "from sklearn.feature_selection import f_classif\n",
    "from sklearn.naive_bayes import GaussianNB\n",
    "from sklearn.svm import LinearSVC\n",
    "from sklearn.tree import DecisionTreeClassifier\n",
    "from sklearn.ensemble import RandomForestClassifier\n",
    "from sklearn.linear_model import LogisticRegression\n",
    "from sklearn.decomposition import PCA\n",
    "from sklearn.pipeline import Pipeline\n",
    "\n",
    "\n",
    "def build_clf_list(clf_select):\n",
    "    ref_list = []\n",
    "    clf_list = []\n",
    "    param_list = []\n",
    "\n",
    "    if 1 in clf_select:\n",
    "        ref = 'minmax'\n",
    "        clf = 'MinMaxScaler()'\n",
    "        param = {}\n",
    "        ref_list.append( (ref) )\n",
    "        clf_list.append( (clf) )\n",
    "        param_list.append( (param) )\n",
    "    \n",
    "    if 2 in clf_select:\n",
    "        ref = 'skb'\n",
    "        clf = 'SelectKBest()'\n",
    "        param = { 'k':[2, 4, 6, 8, 10, 12, 14, 16, 'all'] }\n",
    "        ref_list.append( (ref) )\n",
    "        clf_list.append( (clf) )\n",
    "        param_list.append( (param) )\n",
    "    \n",
    "    if 3 in clf_select:\n",
    "        ref = 'knn'\n",
    "        clf = 'KNeighborsClassifier()'\n",
    "        param = {}\n",
    "        ref_list.append( (ref) )\n",
    "        clf_list.append( (clf) )\n",
    "        param_list.append( (param) )\n",
    "    \n",
    "    if 4 in clf_select:\n",
    "        ref = 'naive'\n",
    "        clf = 'GaussianNB()'\n",
    "        param = {}\n",
    "        ref_list.append( (ref) )\n",
    "        clf_list.append( (clf) )\n",
    "        param_list.append( (param) )\n",
    "\n",
    "    if 5 in clf_select:\n",
    "        ref = 'linsvc'\n",
    "        clf = 'LinearSVC()'\n",
    "        param = { 'C':[0.05, 0.025, 0.5, 1, 10, 10**2, 10**4, 10**8],\n",
    "            'tol':[10**-1, 10**-2, 10**-4, 10**-8],\n",
    "            'class_weight':['auto'] }\n",
    "        ref_list.append( (ref) )\n",
    "        clf_list.append( (clf) )\n",
    "        param_list.append( (param) )\n",
    "    \n",
    "    if 6 in clf_select:\n",
    "        ref = 'dt'\n",
    "        clf = 'DecisionTreeClassifier()'\n",
    "        param = { 'criterion':['gini', 'entropy'],\n",
    "            'splitter':['random', 'best'],\n",
    "            'max_depth':[None, 2, 4, 6, 8, 10, 15, 20] }\n",
    "        ref_list.append( (ref) )\n",
    "        clf_list.append( (clf) )\n",
    "        param_list.append( (param) )\n",
    "\n",
    "    if 7 in clf_select:\n",
    "        ref = 'rf'\n",
    "        clf = 'RandomForestClassifier()'\n",
    "        param = { 'n_estimators':[5, 10, 15, 20],\n",
    "            'min_samples_split':[2, 3, 4, 5],\n",
    "            'random_state':[42] }\n",
    "        ref_list.append( (ref) )\n",
    "        clf_list.append( (clf) )\n",
    "        param_list.append( (param) )\n",
    "\n",
    "    if 8 in clf_select:\n",
    "        ref = 'lr'\n",
    "        clf = 'LogisticRegression()'\n",
    "        param = { 'C':[0.05, 0.025, 0.5, 1, 10, 10**2, 10**4, 10**8],\n",
    "            'tol':[10**-1, 10**-2, 10**-4, 10**-8],\n",
    "            'class_weight':['auto'] }\n",
    "        ref_list.append( (ref) )\n",
    "        clf_list.append( (clf) )\n",
    "        param_list.append( (param) )\n",
    "    \n",
    "    if 9 in clf_select:\n",
    "        ref = 'pca'\n",
    "        clf = 'PCA()'\n",
    "        param = { 'n_components':[1, 2, 3, 4, 5],\n",
    "            'whiten':[True, False] }\n",
    "        ref_list.append( (ref) )\n",
    "        clf_list.append( (clf) )\n",
    "        param_list.append( (param) )\n",
    "    \n",
    "    return ref_list, clf_list, param_list\n",
    "\n",
    "\n",
    "def build_pipe(ref, clf, param):\n",
    "    pipe_ref = []\n",
    "    pipe_param = {}\n",
    "    \n",
    "    pipe_ref.append( (ref, eval(clf)) )\n",
    "    \n",
    "    for key, value in param.iteritems():\n",
    "        pipe_param[ref + \"__\" + key] = value\n",
    "    \n",
    "    return pipe_ref, pipe_param\n",
    "\n",
    "\n",
    "def build_pipe_list(ref_list, clf_list, param_list):\n",
    "    import itertools\n",
    "    \n",
    "    pipe_ref_list = []\n",
    "    pipe_param_list = {}\n",
    "    \n",
    "    for ref, clf, param in itertools.izip(ref_list, clf_list, param_list):\n",
    "        pipe_ref, pipe_param = build_pipe(ref, clf, param)\n",
    "        \n",
    "        pipe_ref_list.append( (pipe_ref[0][0], pipe_ref[0][1]) ) \n",
    "        pipe_param_list.update(pipe_param) \n",
    "    \n",
    "    return pipe_ref_list, pipe_param_list\n",
    "\n",
    "\n",
    "def optim_clf(clf, param, cv, feat, label):\n",
    "    from sklearn.grid_search import GridSearchCV\n",
    "    from sklearn.metrics import make_scorer\n",
    "    from sklearn.metrics import f1_score\n",
    "    \n",
    "    f1score = make_scorer(f1_score)\n",
    "    \n",
    "    clf = GridSearchCV(clf, param, scoring = f1score, cv = cv)\n",
    "    clf = clf.fit(feat, label)\n",
    "    \n",
    "    return clf.best_estimator_\n",
    "\n",
    "\n",
    "def optim_clf_list(clf_list, param_list, cv, feat, label):\n",
    "    import itertools\n",
    "    \n",
    "    clf_list_bestest = []\n",
    "    \n",
    "    for clf, param in itertools.izip(clf_list, param_list):\n",
    "        clf.best_estimator_ = optim_clf(clf, param, cv, feat, label)\n",
    "        clf_list_bestest.append( (clf.best_estimator_) ) \n",
    "    \n",
    "    return clf_list_bestest\n",
    "\n",
    "\n",
    "def eval_clf(clf, feat, label): \n",
    "    from sklearn.metrics import f1_score\n",
    "    from sklearn.metrics import recall_score\n",
    "    from sklearn.metrics import precision_score\n",
    "    \n",
    "    label_pred = clf.predict(feat) \n",
    "    \n",
    "    f1score = f1_score(label, label_pred) \n",
    "    recall = recall_score(label, label_pred) \n",
    "    precision = precision_score(label, label_pred) \n",
    "    \n",
    "    return f1score, recall, precision\n",
    "\n",
    "\n",
    "def eval_clf_list(clf_list, feat, label): \n",
    "    clf_list_score = []\n",
    "    \n",
    "    for clf in clf_list: \n",
    "        f1score, recall, precision = eval_clf(clf, feat, label)\n",
    "        clf_list_score.append( (f1score, recall, precision) ) \n",
    "    \n",
    "    return clf_list_score"
   ]
  },
  {
   "cell_type": "markdown",
   "metadata": {},
   "source": [
    "Tested pipelines are shown in the following section. Each combination involved the use of MinMaxScaler to account for the large variation in range of scale between features, and SelectKBest based on an ANOVA F-value to prioritize the passed-through features."
   ]
  },
  {
   "cell_type": "markdown",
   "metadata": {},
   "source": [
    "###6.0: Validation"
   ]
  },
  {
   "cell_type": "markdown",
   "metadata": {},
   "source": [
    "Validation involves separating a dataset into two subsets of data, one for training and the other for testing. This allows you to train a prediction model on a training dataset and test the same model specification on a seperate/independent dataset. This practice minimizes the potential for the model to overfit the data, which would translate into good in-sample performance, but poor out-of-sample performance.\n",
    "\n",
    "For this assessment, each of the various combinations of estimators were trained/tested against a cross-validation loop (StratifiedShuffleSplit) as part of the pipeline search. StratifiedShuffleSplit forms an validation method for potential estimators as the dataset used for this analysis is both small and unbalanced between the classes. As such, simply reserving 10% of the training data for testing would not provide enough data for robust training."
   ]
  },
  {
   "cell_type": "code",
   "execution_count": 20,
   "metadata": {
    "collapsed": false
   },
   "outputs": [
    {
     "name": "stdout",
     "output_type": "stream",
     "text": [
      "Pipeline(steps=[('minmax', MinMaxScaler(copy=True, feature_range=(0, 1))), ('skb', SelectKBest(k=2, score_func=<function f_classif at 0x0000000010E9CAC8>)), ('lr', LogisticRegression(C=0.05, class_weight='auto', dual=False,\n",
      "          fit_intercept=True, intercept_scaling=1, max_iter=100,\n",
      "          multi_class='ovr', penalty='l2', random_state=None,\n",
      "          solver='liblinear', tol=0.1, verbose=0))])\n",
      "{'lr__tol': 0.1, 'lr__class_weight': 'auto', 'lr__C': 0.05, 'skb__k': 2}\n"
     ]
    }
   ],
   "source": [
    "from sklearn.pipeline import Pipeline\n",
    "from sklearn.cross_validation import StratifiedShuffleSplit\n",
    "from sklearn.grid_search import GridSearchCV\n",
    "\n",
    "\n",
    "#clf_select = [1, 2, 4] #Accuracy: 0.83687\tPrecision: 0.31665\tRecall: 0.19300\tF1: 0.23983\tF2: 0.20935\n",
    "#clf_select = [1, 2, 5] #Accuracy: 0.78620\tPrecision: 0.23772\tRecall: 0.27350\tF1: 0.25436\tF2: 0.26551\n",
    "#clf_select = [1, 2, 6] #Accuracy: 0.78087\tPrecision: 0.18096\tRecall: 0.18250\tF1: 0.18173\tF2: 0.18219\n",
    "#clf_select = [1, 2, 7] #Accuracy: 0.82547\tPrecision: 0.27179\tRecall: 0.18400\tF1: 0.21944\tF2: 0.19671\n",
    "clf_select = [1, 2, 8] #Accuracy: 0.67980\tPrecision: 0.19041\tRecall: 0.43100\tF1: 0.26413\tF2: 0.34406\n",
    "\n",
    "ref_list, clf_list, param_list = build_clf_list(clf_select)\n",
    "\n",
    "#pipe_ref, pipe_param = build_pipe(ref, clf, param)\n",
    "\n",
    "pipe_ref_list, pipe_param_list = build_pipe_list(ref_list, clf_list, param_list)\n",
    "\n",
    "pipe = Pipeline(pipe_ref_list)\n",
    "param = pipe_param_list\n",
    "\n",
    "#from sklearn.cross_validation import train_test_split\n",
    "#feat_train, feat_test, label_train, label_test = train_test_split(feat, label, test_size = 0.2)\n",
    "\n",
    "cv = StratifiedShuffleSplit(df_label, test_size = 0.1)\n",
    "\n",
    "grid_search = GridSearchCV(pipe, param, n_jobs = 1, cv = cv)\n",
    "grid_search.fit(feat_final, df_label)\n",
    "\n",
    "clf = grid_search.best_estimator_\n",
    "print clf\n",
    "\n",
    "param_bestest = grid_search.best_params_\n",
    "print param_bestest\n",
    "\n",
    "\n",
    "clf = Pipeline(steps=[('minmax', MinMaxScaler(copy=True, feature_range=(0, 1))),\n",
    "    ('skb', SelectKBest(k=16, score_func=f_classif)),\n",
    "    ('lr', LogisticRegression(C=0.05, class_weight='auto', dual=False,\n",
    "    fit_intercept=True, intercept_scaling=1, max_iter=100,\n",
    "    multi_class='ovr', penalty='l2', random_state=None,\n",
    "    solver='liblinear', tol=0.1, verbose=0))])\n",
    "\n",
    "#clf_select = [1, 2, 8], k = 2, Accuracy: 0.67980\tPrecision: 0.19041\tRecall: 0.43100\tF1: 0.26413\tF2: 0.34406\n",
    "#clf_select = [1, 2, 8], k = 4, Accuracy: 0.58513\tPrecision: 0.23085\tRecall: 0.90550\tF1: 0.36790\tF2: 0.57147\n",
    "#clf_select = [1, 2, 8], k = 6, Accuracy: 0.72280\tPrecision: 0.25477\tRecall: 0.56050\tF1: 0.35031\tF2: 0.45202\n",
    "#clf_select = [1, 2, 8], k = 8, Accuracy: 0.72553\tPrecision: 0.25006\tRecall: 0.52950\tF1: 0.33970\tF2: 0.43277\n",
    "#clf_select = [1, 2, 8], k = 10, Accuracy: 0.73607\tPrecision: 0.25940\tRecall: 0.52800\tF1: 0.34788\tF2: 0.43741\n",
    "#clf_select = [1, 2, 8], k = 12, Accuracy: 0.75507\tPrecision: 0.28906\tRecall: 0.57350\tF1: 0.38438\tF2: 0.47919\n",
    "#clf_select = [1, 2, 8], k = 14, Accuracy: 0.76320\tPrecision: 0.31018\tRecall: 0.63400\tF1: 0.41656\tF2: 0.52449\n",
    "#clf_select = [1, 2, 8], k = 16, Accuracy: 0.76333\tPrecision: 0.31530\tRecall: 0.66150\tF1: 0.42705\tF2: 0.54239\n",
    "#clf_select = [1, 2, 8], k = 18, Accuracy: 0.76247\tPrecision: 0.31397\tRecall: 0.65950\tF1: 0.42542\tF2: 0.54053"
   ]
  },
  {
   "cell_type": "markdown",
   "metadata": {},
   "source": [
    "It should be noted that accuracy (the ratio of correct positive labels to total labels assigned) would form a sub-optimal evaluation metric due to the sparsity of POI’s being predicted. For example, if we labeled all persons as a non-POI, an accuracy measure of 87.5% would be achieved. Therefore priority will be given to optimizing precision and recall measures.\n",
    "\n",
    "Precision can be thought of as the ratio of how often the model is correct in identifying a positive label to the total times it guesses a positive label. In the context of this assessment, precision indicates the ratio of true positives to the records that are actually POI's, which suggests how often a false alarm is generated.\n",
    "\n",
    "Recall can be thought of as the ratio of how often the model correctly identifies a label as positive to how many total positive labels there actually are. In the context of this assessment, recall is the ratio of true positives to the records flagged as POI's, which suggests how sensitive the classifier is.\n",
    "\n",
    "Do note, in the context of this assement, it could be argued that recall forms a more important metric than precision as we would like to identify and label as many 'potential' fraud cases as possible.\n",
    "\n",
    "Below shows the StratifiedShuffleSplit evaluation metrics for each of the evaluated estimators, post GridSearchCV parameter calibration:\n",
    "\n",
    "* GaussianNB(): Accuracy: 0.83687\tPrecision: 0.31665\tRecall: 0.19300\tF1: 0.23983\tF2: 0.20935\n",
    "* LinearSVC(): Accuracy: 0.78620\tPrecision: 0.23772\tRecall: 0.27350\tF1: 0.25436\tF2: 0.26551\n",
    "* DecisionTreeClassifier(): Accuracy: 0.78087\tPrecision: 0.18096\tRecall: 0.18250\tF1: 0.18173\tF2: 0.18219\n",
    "* RandomForestClassifier(): Accuracy: 0.82547\tPrecision: 0.27179\tRecall: 0.18400\tF1: 0.21944\tF2: 0.19671\n",
    "* LogisticRegression(): Accuracy: 0.67980\tPrecision: 0.19041\tRecall: 0.43100\tF1: 0.26413\tF2: 0.34406\n",
    "\n",
    "The results suggest a trade-off between precision and recall which must be balanced according to the desired priority evaluation metric. Of the above, the logisticRegression estimator was ultimately selected due to its more favourable F1 score (0.264).\n",
    "\n",
    "As a further parameter optimization routine, the SelectKBest 'k' parameter for the selected estimator (which limits the feature selection for estimation) is varied from a range of 'k' = 2 through to 'k' = 18. The results are shown below.\n",
    "\n",
    "* 'k' = 2: Accuracy: 0.67980\tPrecision: 0.19041\tRecall: 0.43100\tF1: 0.26413\tF2: 0.34406\n",
    "* 'k' = 4: Accuracy: 0.58513\tPrecision: 0.23085\tRecall: 0.90550\tF1: 0.36790\tF2: 0.57147\n",
    "* 'k' = 6: Accuracy: 0.72280\tPrecision: 0.25477\tRecall: 0.56050\tF1: 0.35031\tF2: 0.45202\n",
    "* 'k' = 8: Accuracy: 0.72553\tPrecision: 0.25006\tRecall: 0.52950\tF1: 0.33970\tF2: 0.43277\n",
    "* 'k' = 10: Accuracy: 0.73607\tPrecision: 0.25940\tRecall: 0.52800\tF1: 0.34788\tF2: 0.43741\n",
    "* 'k' = 12: Accuracy: 0.75507\tPrecision: 0.28906\tRecall: 0.57350\tF1: 0.38438\tF2: 0.47919\n",
    "* 'k' = 14: Accuracy: 0.76320\tPrecision: 0.31018\tRecall: 0.63400\tF1: 0.41656\tF2: 0.52449\n",
    "* 'k' = 16: Accuracy: 0.76333\tPrecision: 0.31530\tRecall: 0.66150\tF1: 0.42705\tF2: 0.54239\n",
    "* 'k' = 18: Accuracy: 0.76247\tPrecision: 0.31397\tRecall: 0.65950\tF1: 0.42542\tF2: 0.54053\n",
    "\n",
    "As noted above, there may be an argument to set a value of 4 for the SelectKBest 'k' parameter when considering the context of this assement. Doing so would maximize recall while accepting the greater precision trade-off. However, 'k' = 16 is ultimately selected since this estimator generated the most favourable F1 score whilst achieving both a precision and recall score greater than 0.30. The final Pipeline and evaluation metrics are shown below."
   ]
  },
  {
   "cell_type": "code",
   "execution_count": 21,
   "metadata": {
    "collapsed": false
   },
   "outputs": [
    {
     "name": "stdout",
     "output_type": "stream",
     "text": [
      "Pipeline(steps=[('minmax', MinMaxScaler(copy=True, feature_range=(0, 1))), ('skb', SelectKBest(k=16, score_func=<function f_classif at 0x0000000010E9CAC8>)), ('lr', LogisticRegression(C=0.05, class_weight='auto', dual=False,\n",
      "          fit_intercept=True, intercept_scaling=1, max_iter=100,\n",
      "          multi_class='ovr', penalty='l2', random_state=None,\n",
      "          solver='liblinear', tol=0.1, verbose=0))])\n",
      "\tAccuracy: 0.76333\tPrecision: 0.31530\tRecall: 0.66150\tF1: 0.42705\tF2: 0.54239\n",
      "\tTotal predictions: 15000\tTrue positives: 1323\tFalse positives: 2873\tFalse negatives:  677\tTrue negatives: 10127\n",
      "\n"
     ]
    }
   ],
   "source": [
    "import sys\n",
    "sys.path.append(\"tools/\")\n",
    "from tester import test_classifier\n",
    "\n",
    "data_dict = pickle.load( open(\"data/final_project_dataset.pkl\", \"r\") )\n",
    "\n",
    "#Drop 'TOTAL', 'THE TRAVEL AGENCY IN THE PARK', 'LOCKHART EUGENE E'\n",
    "data_dict.pop('TOTAL',0)\n",
    "data_dict.pop('THE TRAVEL AGENCY IN THE PARK',0)\n",
    "data_dict.pop('LOCKHART EUGENE E',0)\n",
    "\n",
    "test_classifier(clf, data_dict, df_final_list)"
   ]
  },
  {
   "cell_type": "markdown",
   "metadata": {},
   "source": [
    "###7.0 References"
   ]
  },
  {
   "cell_type": "markdown",
   "metadata": {},
   "source": [
    "* <sup>1</sup>: http://scikit-learn.org/stable/modules/generated/sklearn.feature_selection.SelectKBest.html\n",
    "* <sup>2</sup>: http://scikit-learn.org/stable/modules/generated/sklearn.grid_search.GridSearchCV.html\n",
    "* <sup>3</sup>: http://scikit-learn.org/stable/modules/generated/sklearn.preprocessing.MinMaxScaler.html\n",
    "* <sup>4</sup>: http://scikit-learn.org/stable/modules/generated/sklearn.neighbors.KNeighborsClassifier.html\n",
    "* <sup>5</sup>: http://scikit-learn.org/stable/modules/generated/sklearn.naive_bayes.GaussianNB.html\n",
    "* <sup>6</sup>: http://scikit-learn.org/stable/modules/generated/sklearn.svm.LinearSVC.html\n",
    "* <sup>7</sup>: http://scikit-learn.org/stable/modules/generated/sklearn.tree.DecisionTreeClassifier.html\n",
    "* <sup>8</sup>: http://scikit-learn.org/stable/modules/generated/sklearn.ensemble.RandomForestClassifier.html\n",
    "* <sup>9</sup>: http://scikit-learn.org/stable/modules/generated/sklearn.linear_model.LogisticRegression.html"
   ]
  },
  {
   "cell_type": "code",
   "execution_count": 22,
   "metadata": {
    "collapsed": false
   },
   "outputs": [],
   "source": [
    "# %%writefile poi_id.py\n",
    "# %load poi_id.py\n",
    "#!/usr/bin/python\n",
    "\n",
    "import sys\n",
    "import pickle\n",
    "\n",
    "from sklearn.preprocessing import MinMaxScaler\n",
    "from sklearn.feature_selection import SelectKBest\n",
    "#from sklearn.neighbors import KNeighborsClassifier\n",
    "from sklearn.feature_selection import f_classif\n",
    "#from sklearn.naive_bayes import GaussianNB\n",
    "#from sklearn.svm import LinearSVC\n",
    "#from sklearn.tree import DecisionTreeClassifier\n",
    "#from sklearn.ensemble import RandomForestClassifier\n",
    "from sklearn.linear_model import LogisticRegression\n",
    "#from sklearn.decomposition import PCA\n",
    "from sklearn.pipeline import Pipeline\n",
    "\n",
    "sys.path.append(\"tools/\")\n",
    "from feature_format import featureFormat, targetFeatureSplit\n",
    "from tester import test_classifier, dump_classifier_and_data\n",
    "\n",
    "#from feature_format import featureFormat, targetFeatureSplit\n",
    "#from tester import dump_classifier_and_data\n",
    "\n",
    "### Task 1: Select what features you'll use.\n",
    "### features_list is a list of strings, each of which is a feature name.\n",
    "### The first feature must be \"poi\".\n",
    "features_list = ['poi',\n",
    "    'exercised_stock_options',\n",
    "    'total_stock_value',\n",
    "    'bonus',\n",
    "    'salary',\n",
    "    'deferred_income',\n",
    "    'long_term_incentive',\n",
    "    'restricted_stock',\n",
    "    'total_payments',\n",
    "    'shared_receipt_with_poi',\n",
    "    'loan_advances',\n",
    "    'expenses', #including this will generate 'UserWarning: Features are constant'\n",
    "    'from_poi_to_this_person', #including this will generate 'UserWarning: Features are constant'\n",
    "    'other',\n",
    "    'from_this_person_to_poi',\n",
    "    'director_fees', #including this will generate 'UserWarning: Features are constant'\n",
    "    'to_messages',\n",
    "    'deferral_payments', #including this will generate 'UserWarning: Features are constant'\n",
    "    'from_messages',\n",
    "    'restricted_stock_deferred']\n",
    "\n",
    "### Load the dictionary containing the dataset\n",
    "data_dict = pickle.load(open(\"data/final_project_dataset.pkl\", \"r\") )\n",
    "\n",
    "### Task 2: Remove outliers\n",
    "data_dict.pop('TOTAL',0)\n",
    "data_dict.pop('THE TRAVEL AGENCY IN THE PARK',0)\n",
    "data_dict.pop('LOCKHART EUGENE E',0)\n",
    "\n",
    "### Task 3: Create new feature(s)\n",
    "### Store to my_dataset for easy export below.\n",
    "my_dataset = data_dict\n",
    "\n",
    "### Extract features and labels from dataset for local testing\n",
    "data = featureFormat(my_dataset, features_list, sort_keys = True)\n",
    "labels, features = targetFeatureSplit(data)\n",
    "\n",
    "### Task 4: Try a varity of classifiers\n",
    "### Please name your classifier clf for easy export below.\n",
    "### Note that if you want to do PCA or other multi-stage operations,\n",
    "### you'll need to use Pipelines. For more info:\n",
    "### http://scikit-learn.org/stable/modules/pipeline.html\n",
    "\n",
    "# Provided to give you a starting point. Try a variety of classifiers.\n",
    "clf = grid_search.best_estimator_\n",
    "\n",
    "### Task 5: Tune your classifier to achieve better than .3 precision and recall \n",
    "### using our testing script. Check the tester.py script in the final project\n",
    "### folder for details on the evaluation method, especially the test_classifier\n",
    "### function. Because of the small size of the dataset, the script uses\n",
    "### stratified shuffle split cross validation. For more info: \n",
    "### http://scikit-learn.org/stable/modules/generated/sklearn.cross_validation.StratifiedShuffleSplit.html\n",
    "\n",
    "# Example starting point. Try investigating other evaluation techniques!\n",
    "from sklearn.cross_validation import train_test_split\n",
    "features_train, features_test, labels_train, labels_test = \\\n",
    "    train_test_split(features, labels, test_size=0.3, random_state=42)\n",
    "\n",
    "### Task 6: Dump your classifier, dataset, and features_list so anyone can\n",
    "### check your results. You do not need to change anything below, but make sure\n",
    "### that the version of poi_id.py that you submit can be run on its own and\n",
    "### generates the necessary .pkl files for validating your results.\n",
    "\n",
    "dump_classifier_and_data(clf, my_dataset, features_list)"
   ]
  },
  {
   "cell_type": "code",
   "execution_count": null,
   "metadata": {
    "collapsed": true
   },
   "outputs": [],
   "source": []
  }
 ],
 "metadata": {
  "kernelspec": {
   "display_name": "Python 2",
   "language": "python",
   "name": "python2"
  },
  "language_info": {
   "codemirror_mode": {
    "name": "ipython",
    "version": 2
   },
   "file_extension": ".py",
   "mimetype": "text/x-python",
   "name": "python",
   "nbconvert_exporter": "python",
   "pygments_lexer": "ipython2",
   "version": "2.7.10"
  }
 },
 "nbformat": 4,
 "nbformat_minor": 0
}
