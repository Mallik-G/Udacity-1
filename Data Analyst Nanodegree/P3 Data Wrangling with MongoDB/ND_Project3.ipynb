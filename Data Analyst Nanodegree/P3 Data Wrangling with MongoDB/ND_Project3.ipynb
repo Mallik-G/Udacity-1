{
 "cells": [
  {
   "cell_type": "code",
   "execution_count": 1,
   "metadata": {
    "collapsed": false
   },
   "outputs": [
    {
     "data": {
      "text/html": [
       "<script>\n",
       "code_show=true; \n",
       "function code_toggle() {\n",
       " if (code_show){\n",
       " $('div.input').hide();\n",
       " } else {\n",
       " $('div.input').show();\n",
       " }\n",
       " code_show = !code_show\n",
       "} \n",
       "$( document ).ready(code_toggle);\n",
       "</script>\n",
       "<form action=\"javascript:code_toggle()\"><input type=\"submit\" value=\"Click here to toggle on/off the raw code.\"></form>"
      ],
      "text/plain": [
       "<IPython.core.display.HTML object>"
      ]
     },
     "execution_count": 1,
     "metadata": {},
     "output_type": "execute_result"
    }
   ],
   "source": [
    "from IPython.display import HTML\n",
    "\n",
    "HTML('''<script>\n",
    "code_show=true; \n",
    "function code_toggle() {\n",
    " if (code_show){\n",
    " $('div.input').hide();\n",
    " } else {\n",
    " $('div.input').show();\n",
    " }\n",
    " code_show = !code_show\n",
    "} \n",
    "$( document ).ready(code_toggle);\n",
    "</script>\n",
    "<form action=\"javascript:code_toggle()\"><input type=\"submit\" value=\"Click here to toggle on/off the raw code.\"></form>''')"
   ]
  },
  {
   "cell_type": "markdown",
   "metadata": {
    "collapsed": true
   },
   "source": [
    "#Data Analyst Nanodegree\n",
    "##Project 3: Data Wrangling with MongoDB"
   ]
  },
  {
   "cell_type": "markdown",
   "metadata": {
    "collapsed": true
   },
   "source": [
    "###1.0 Introduction"
   ]
  },
  {
   "cell_type": "markdown",
   "metadata": {},
   "source": [
    "This document presents the results of Project 3: Data Wrangling with MongoDB for the Udacity Data Science Nanodegree. This assessment required the student to choose any area of the world from OpenStreetMaps here https://www.openstreetmap.org and use data munging techniques, such as assessing the quality of the data for validity, accuracy, completeness, consistency and uniformity, to clean the map data."
   ]
  },
  {
   "cell_type": "markdown",
   "metadata": {
    "collapsed": true
   },
   "source": [
    "###2.0 Background"
   ]
  },
  {
   "cell_type": "markdown",
   "metadata": {
    "collapsed": true
   },
   "source": [
    "For this project, I chose my place of birth (Perth, Australia) and downloaded the according MapZen OSM XML metro extract here https://mapzen.com/data/metro-extracts. Results within this document are based on data retrieved on the 7th of September 2015. Note that the boundary box geographical coordinate system ranges on the OpenStreetMap website for Perth, Australia are latitude: 115.4340, 116.2862, longitude -31.6867, -32.2174."
   ]
  },
  {
   "cell_type": "markdown",
   "metadata": {
    "collapsed": true
   },
   "source": [
    "###3.0 Data Wrangling"
   ]
  },
  {
   "cell_type": "markdown",
   "metadata": {},
   "source": [
    "####Data Audit"
   ]
  },
  {
   "cell_type": "markdown",
   "metadata": {
    "collapsed": true
   },
   "source": [
    "In order to audit the perth_australia.osm file, the map file was first processed to find tag properties. The output generated below is a dictionary with tag name as the key and number of times this tag can be found."
   ]
  },
  {
   "cell_type": "code",
   "execution_count": 2,
   "metadata": {
    "collapsed": false
   },
   "outputs": [
    {
     "name": "stdout",
     "output_type": "stream",
     "text": [
      "defaultdict(<type 'int'>, {'node': 1000411, 'nd': 1236818, 'bounds': 1, 'member': 10565, 'tag': 368028, 'osm': 1, 'way': 123824, 'relation': 1505})\n"
     ]
    }
   ],
   "source": [
    "import xml.etree.ElementTree as ET\n",
    "import collections\n",
    "import pprint\n",
    "\n",
    "osmfilenm = 'data/perth_australia.osm'\n",
    "\n",
    "\n",
    "def count_tags(filename):\n",
    "    count = collections.defaultdict(int)\n",
    "    for line in ET.iterparse(filename, events=(\"start\",)):\n",
    "        current = line[1].tag\n",
    "        count[current] += 1\n",
    "        \n",
    "    return count\n",
    "\n",
    "\n",
    "tags = count_tags(osmfilenm)\n",
    "pprint.pprint(tags)"
   ]
  },
  {
   "cell_type": "markdown",
   "metadata": {},
   "source": [
    "Each tag was checked against a string of valid keys in MongoDB in order to identify whether there are any problematic characters."
   ]
  },
  {
   "cell_type": "code",
   "execution_count": 3,
   "metadata": {
    "collapsed": false
   },
   "outputs": [
    {
     "name": "stdout",
     "output_type": "stream",
     "text": [
      "{'lower': 328169, 'lower_colon': 39185, 'other': 674, 'problemchars': 0}\n"
     ]
    }
   ],
   "source": [
    "import re\n",
    "import xml.etree.ElementTree as ET\n",
    "import pprint\n",
    "\n",
    "osmfilenm = 'data/perth_australia.osm'\n",
    "\n",
    "lower = re.compile(r'^([a-z]|_)*$')\n",
    "lower_colon = re.compile(r'^([a-z]|_)*:([a-z]|_)*$')\n",
    "problemchars = re.compile(r'[=\\+/&<>;\\'\"\\?%#$@\\,\\. \\t\\r\\n]')\n",
    "\n",
    "\n",
    "def key_type(element, keys):\n",
    "    if element.tag == \"tag\":\n",
    "        k_value = element.attrib['k']\n",
    "        if lower.search(k_value) is not None:\n",
    "            keys['lower'] += 1\n",
    "        elif lower_colon.search(k_value) is not None:\n",
    "            keys['lower_colon'] += 1\n",
    "        elif problemchars.search(k_value) is not None:\n",
    "            keys[\"problemchars\"] += 1\n",
    "        else:\n",
    "            keys['other'] += 1\n",
    "            \n",
    "    return keys\n",
    "\n",
    "\n",
    "def process_map(filename):\n",
    "    keys = {\"lower\": 0, \"lower_colon\": 0, \"problemchars\": 0, \"other\": 0}\n",
    "    for _, element in ET.iterparse(filename):\n",
    "        keys = key_type(element, keys)\n",
    "        \n",
    "    return keys\n",
    "\n",
    "\n",
    "keys = process_map(osmfilenm)\n",
    "pprint.pprint(keys)"
   ]
  },
  {
   "cell_type": "markdown",
   "metadata": {},
   "source": [
    "The below shows an audit the map file to return a list of contributing users. Note, only the first five users are shown."
   ]
  },
  {
   "cell_type": "code",
   "execution_count": 4,
   "metadata": {
    "collapsed": false
   },
   "outputs": [
    {
     "name": "stdout",
     "output_type": "stream",
     "text": [
      "['Lumina', 'explorer59', 'loewenthal', 'OSMcartay', 'resistance']\n"
     ]
    }
   ],
   "source": [
    "import xml.etree.ElementTree as ET\n",
    "import pprint\n",
    "\n",
    "osmfilenm = 'data/perth_australia.osm'\n",
    "\n",
    "\n",
    "def get_user(element):\n",
    "    user = element.attrib['user']\n",
    "    \n",
    "    return user\n",
    "\n",
    "\n",
    "def process_map(filename):\n",
    "    users = set()\n",
    "    for _, element in ET.iterparse(filename):\n",
    "        if element.tag == \"node\":\n",
    "            users.add(get_user(element))\n",
    "            \n",
    "    return users\n",
    "\n",
    "\n",
    "users = process_map(osmfilenm)\n",
    "pprint.pprint(list(users)[0:5])"
   ]
  },
  {
   "cell_type": "markdown",
   "metadata": {},
   "source": [
    "The below shows an audit the map file to return a list of street names. Note, only the first five street names are shown."
   ]
  },
  {
   "cell_type": "code",
   "execution_count": 5,
   "metadata": {
    "collapsed": false,
    "scrolled": true
   },
   "outputs": [
    {
     "name": "stdout",
     "output_type": "stream",
     "text": [
      "Ave: 6,  Avenue: 328,  Avenuet: 1,  Beaufort: 1,  Boulevard: 185, None\n",
      "\n"
     ]
    }
   ],
   "source": [
    "import re\n",
    "import xml.etree.ElementTree as ET\n",
    "import collections\n",
    "import pprint\n",
    "\n",
    "osmfilenm = 'data/perth_australia.osm'\n",
    "\n",
    "street_name_re = re.compile(r'\\b\\S+\\.?$', re.IGNORECASE)\n",
    "\n",
    "\n",
    "def is_street_name(elem):\n",
    "    return (elem.tag == \"tag\") and (elem.attrib['k'] == \"addr:street\")\n",
    "\n",
    "\n",
    "def audit_street_name(street_names, street_name):\n",
    "    m = street_name_re.search(street_name)\n",
    "    if m:\n",
    "        street = m.group()\n",
    "        street_names[street] += 1\n",
    "\n",
    "\n",
    "def audit(filename):\n",
    "    osm_file = open(filename, \"r\")\n",
    "    street_names = collections.defaultdict(int)\n",
    "    for event, elem in ET.iterparse(osm_file):\n",
    "        if is_street_name(elem):\n",
    "            audit_street_name(street_names, elem.attrib['v'])   \n",
    "    print_sorted_dict(street_names)\n",
    "\n",
    "\n",
    "def print_sorted_dict(d):\n",
    "    keys = d.keys()\n",
    "    keys = sorted(keys, key=lambda s: s.lower())\n",
    "    i = 0\n",
    "    for k in keys:\n",
    "        i += 1\n",
    "        if (i > 5):\n",
    "            break\n",
    "        else:    \n",
    "            v = d[k]\n",
    "            print \"%s: %d, \" % (k, v),\n",
    "\n",
    "        \n",
    "streets = audit(osmfilenm)\n",
    "pprint.pprint(streets)"
   ]
  },
  {
   "cell_type": "markdown",
   "metadata": {},
   "source": [
    "####Encountered Problems"
   ]
  },
  {
   "cell_type": "markdown",
   "metadata": {},
   "source": [
    "A number of street name abbreviations and errors were identified from the street name audit. In order to correct these for consistency, a list of expected street names were prepared and checked against. All street names which failed to match against the expected list were replaced with proposed correct names. A list of the identified street name errors and proposed changes are shown below."
   ]
  },
  {
   "cell_type": "code",
   "execution_count": 6,
   "metadata": {
    "collapsed": false,
    "scrolled": true
   },
   "outputs": [
    {
     "name": "stdout",
     "output_type": "stream",
     "text": [
      "TILLIA CRT => Tillia Court\n",
      "POPLAR CRT => Poplar Court\n",
      "SORREL CRT => Sorrel Court\n",
      "Barrow Cres => Barrow Crescent\n",
      "Hero Cres => Hero Crescent\n",
      "Fitzgerald St (corner View St) => Fitzgerald Street\n",
      "Scarborough Beach Rd => Scarborough Beach Road\n",
      "Morilla Rd => Morilla Road\n",
      "Rockeby Rd => Rockeby Road\n",
      "Runyon Rd => Runyon Road\n",
      "Cypress Rd => Cypress Road\n",
      "Reynolds Rd => Reynolds Road\n",
      "TARATA WY E/ENT (LANEWAY) => Tarata Way\n",
      "Starling st => Starling Street\n",
      "Boas Avenuet => Boas Avenue\n",
      "Beaufort St WA => Beaufort Street Way\n",
      "Beasley Road, => Beasley Road\n",
      "CYPRESS RD => Cypress Road\n",
      "REYNOLDS RD => Reynolds Road\n",
      "TARATA WY E/ENT => Tarata Way\n",
      "TARATA WAY E/ENT => Tarata Way\n",
      "Edjudina gate => Edjudina Gate\n",
      "Bradshaw Crs => Bradshaw Cross\n",
      "TARATA WAY SW ENTRANCE => Tarata Way\n",
      "Tillia Crt => Tillia Court\n",
      "Sorrel Crt => Sorrel Court\n",
      "Hay St => Hay Street\n",
      "William St => William Street\n",
      "Hill St => Hill Street\n",
      "Foundry St => Foundry Street\n",
      "Newcastle St => Newcastle Street\n",
      "Fitzgerald St => Fitzgerald Street\n",
      "Hicks St => Hicks Street\n",
      "CARISSA WAY => Carissa Way\n",
      "LINDEN WAY => Linden Way\n",
      "E Linden Way (In Laneway) => Linden Way\n",
      "St Georges Terriace => Street Georges Terrace\n",
      "Waterford plaza => Waterford Plaza\n",
      "TARATA WY W/ENT => Tarata Way\n",
      "Elderberry drive => Elderberry Drive\n",
      "HICKS ST => Hicks Street\n",
      "Tarata Wy E/Ent => Tarata Way\n",
      "Hobsons Ave => Hobsons Avenue\n",
      "Wordsworth Ave => Wordsworth Avenue\n",
      "Albion Ave => Albion Avenue\n",
      "Parmelia Ave => Parmelia Avenue\n",
      "Frobisher Ave => Frobisher Avenue\n",
      "St Georges Tce => Street Georges Terrace\n",
      "O'Kane Ct => O'kane Court\n",
      "Magazine Ct => Magazine Court\n"
     ]
    }
   ],
   "source": [
    "import re\n",
    "import xml.etree.ElementTree as ET\n",
    "import collections\n",
    "\n",
    "osmfilenm = 'data/perth_australia.osm'\n",
    "\n",
    "street_name_re = re.compile(r'\\b\\S+\\.?$', re.IGNORECASE)\n",
    "\n",
    "street_name_expected = [\"Avenue\", \"Beaufort\", \"Boulevard\", \"Boulevarde\", \"Broadway\", \"Circle\", \"Circuit\", \"Close\", \"Corner\",\n",
    "                        \"Court\", \"Courtyard\", \"Cove\", \"Crescent\", \"Cross\", \"Crossway\", \"Dale\", \"Drive\", \"East\", \"Edge\",\n",
    "                        \"Elbow\", \"Entrance\", \"Elbow\", \"Esplanade\", \"Fairway\", \"Gap\", \"Garden\", \"Gardens\", \"Gate\", \"Gates\",\n",
    "                        \"Gelderland\", \"Grade\", \"Grange\", \"Green\", \"Grove\", \"Haven\", \"Heights\", \"Highgate\", \"Highway\", \"Hill\",\n",
    "                        \"Lane\", \"Laneway\", \"Link\", \"Loop\", \"Mews\", \"Morrison\", \"North\", \"Oxford\", \"Parade\", \"Parkway\", \"Pass\",\n",
    "                        \"Place\", \"Promenade\", \"Quarry\", \"Quays\", \"Ramble\", \"Road\", \"Retreat\", \"Ridgeway\", \"Rise\", \"Sava\",\n",
    "                        \"Square\", \"Street\", \"Terrace\", \"Trail\", \"Turn\", \"University\",  \"Vale\", \"View\", \"Vista\", \"Way\", \"West\",\n",
    "                        \"Wharf\"]\n",
    "\n",
    "street_name_map = { \"ave\" : \"Avenue\",\n",
    "                    \"avenuet\" : \"Avenue\",\n",
    "                    \"cres\" : \"Crescent\",\n",
    "                    \"crs\" : \"Cross\",\n",
    "                    \"crt\" : \"Court\",\n",
    "                    \"ct\" : \"Court\",\n",
    "                    \"rd\" : \"Road\",\n",
    "                    \"st\" : \"Street\",\n",
    "                    \"tce\" : \"Terrace\",\n",
    "                    \"terriace\" : \"Terrace\",\n",
    "                    \"wa\" : \"Way\"}\n",
    "\n",
    "street_name_replace = { \"Fitzgerald St (corner View St)\" : \"Fitzgerald Street\",\n",
    "                        \"Tarata Wy E/Ent\" : \"Tarata Way\",\n",
    "                        \"TARATA WY E/ENT\" : \"Tarata Way\",\n",
    "                        \"TARATA WY W/ENT\" : \"Tarata Way\",\n",
    "                        \"TARATA WY E/ENT (LANEWAY)\" : \"Tarata Way\",\n",
    "                        \"TARATA WAY E/ENT\" : \"Tarata Way\",\n",
    "                        \"TARATA WAY SW ENTRANCE\" : \"Tarata Way\",\n",
    "                        \"E Linden Way (In Laneway)\" : \"Linden Way\" }\n",
    "\n",
    "\n",
    "def is_street_name(elem):\n",
    "    return (elem.attrib['k'] == \"addr:street\")\n",
    "\n",
    "\n",
    "def audit_street_name(invalid_street_names, street_name):\n",
    "    m = street_name_re.search(street_name)\n",
    "    if m:\n",
    "        street_names = m.group()\n",
    "        if street_names not in street_name_expected:\n",
    "            invalid_street_names[street_names].add(street_name)\n",
    "\n",
    "\n",
    "def audit(osmfile):\n",
    "    osm_file = open(osmfile, \"r\")\n",
    "    invalid_street_names = collections.defaultdict(set)\n",
    "    for event, elem in ET.iterparse(osm_file, events=(\"start\",)):\n",
    "        if elem.tag == \"node\" or elem.tag == \"way\":\n",
    "            for tag in elem.iter(\"tag\"):\n",
    "                if is_street_name(tag):\n",
    "                    audit_street_name(invalid_street_names, tag.attrib['v'])\n",
    "                    \n",
    "    return invalid_street_names\n",
    "  \n",
    "\n",
    "def update_street_name(street_name, street_name_map, street_name_replace):\n",
    "    if street_name in street_name_replace.keys():\n",
    "        new_name = street_name_replace[street_name]\n",
    "        return new_name\n",
    "    \n",
    "    after = []\n",
    "    for part in street_name.split(\" \"):\n",
    "        part = part.strip(\",\\.\").lower()\n",
    "               \n",
    "        if part in street_name_map.keys():\n",
    "            part = street_name_map[part]\n",
    "        after.append(part.capitalize())\n",
    "    \n",
    "    return \" \".join(after)\n",
    "\n",
    "\n",
    "ret_st_types = audit(osmfilenm)\n",
    "\n",
    "for st_type, ways in ret_st_types.iteritems():\n",
    "    for name in ways:\n",
    "        proposed_name = update_street_name(name, street_name_map, street_name_replace)\n",
    "        print name, \"=>\", proposed_name"
   ]
  },
  {
   "cell_type": "markdown",
   "metadata": {},
   "source": [
    "A number of postal code errors were also found within the original dataset. Each postcode was checked against a correct range (6000 to 6999), with errors replaced with a default code of 6000. Again, a list of the identified incorrect postal codes and proposed changes are shown below."
   ]
  },
  {
   "cell_type": "code",
   "execution_count": 7,
   "metadata": {
    "collapsed": false,
    "scrolled": true
   },
   "outputs": [
    {
     "name": "stdout",
     "output_type": "stream",
     "text": [
      "WA 6003 => 6000\n",
      "1 => 6000\n",
      "WA 6157 => 6000\n",
      "2 => 6000\n",
      "WA 6156 => 6000\n",
      "6 => 6000\n",
      "WA 6069 => 6000\n",
      "1 => 6000\n",
      "WA  6051 => 6000\n",
      "1 => 6000\n",
      "WA 6062 => 6000\n",
      "1 => 6000\n",
      "WA 6061 => 6000\n",
      "1 => 6000\n",
      "WA 6012 => 6000\n",
      "2 => 6000\n",
      "WA 6111 => 6000\n",
      "1 => 6000\n"
     ]
    }
   ],
   "source": [
    "import xml.etree.ElementTree as ET\n",
    "import collections\n",
    "\n",
    "osmfilenm = 'data/perth_australia.osm'\n",
    "\n",
    "postal_code_range = [6000,6999]\n",
    "postal_code_default = 6000\n",
    "\n",
    "\n",
    "def is_postal_code(elem):\n",
    "    return (elem.attrib['k'] == \"addr:postcode\")\n",
    "\n",
    "\n",
    "def audit_postal_code(invalid_postal_codes, postal_code):\n",
    "    try:\n",
    "        if not (postal_code_range[0] <= int(postal_code) <= postal_code_range[1]):\n",
    "            raise ValueError\n",
    "    except ValueError:\n",
    "        invalid_postal_codes[postal_code] += 1\n",
    "\n",
    "\n",
    "def audit(osmfile):\n",
    "    osm_file = open(osmfile, \"r\")\n",
    "    invalid_postal_codes = collections.defaultdict(int)\n",
    "    for event, elem in ET.iterparse(osm_file, events=(\"start\",)):\n",
    "\n",
    "        if elem.tag == \"node\" or elem.tag == \"way\":\n",
    "            for tag in elem.iter(\"tag\"):\n",
    "                if is_postal_code(tag):\n",
    "                    audit_postal_code(invalid_postal_codes, tag.attrib['v'])\n",
    "\n",
    "    return invalid_postal_codes\n",
    "\n",
    "\n",
    "def update_postal_code(postal_code):\n",
    "    try:\n",
    "        if not (postal_code_range[0] <= int(postal_code) <= postal_code_range[1]):\n",
    "            raise ValueError\n",
    "        else:\n",
    "            return int(postal_code)\n",
    "    except ValueError:\n",
    "        return postal_code_default\n",
    "\n",
    "\n",
    "ret_codes = audit(osmfilenm)\n",
    "\n",
    "for ways in ret_codes.iteritems():\n",
    "    for code in ways:\n",
    "        proposed_code = update_postal_code(code)\n",
    "        print code, \"=>\", proposed_code"
   ]
  },
  {
   "cell_type": "markdown",
   "metadata": {},
   "source": [
    "####Creating the .json map file"
   ]
  },
  {
   "cell_type": "code",
   "execution_count": 8,
   "metadata": {
    "collapsed": true
   },
   "outputs": [],
   "source": [
    "# %load dataparse.py\n",
    "# %%writefile dataparse.py\n",
    "\n",
    "import re\n",
    "import codecs\n",
    "import xml.etree.ElementTree as ET\n",
    "import json\n",
    "import pprint\n",
    "\n",
    "osmfilenm = 'data/perth_australia.osm'\n",
    "\n",
    "lower = re.compile(r'^([a-z]|_)*$')\n",
    "lower_colon = re.compile(r'^([a-z]|_)*:([a-z]|_)*$')\n",
    "problemchars = re.compile(r'[=\\+/&<>;\\'\"\\?%#$@\\,\\. \\t\\r\\n]')\n",
    "\n",
    "CREATED = [ \"version\", \"changeset\", \"timestamp\", \"user\", \"uid\"]\n",
    "\n",
    "street_name_map = { \"ave\" : \"Avenue\",\n",
    "                    \"avenuet\" : \"Avenue\",\n",
    "                    \"cres\" : \"Crescent\",\n",
    "                    \"crs\" : \"Cross\",\n",
    "                    \"crt\" : \"Court\",\n",
    "                    \"ct\" : \"Court\",\n",
    "                    \"rd\" : \"Road\",\n",
    "                    \"st\" : \"Street\",\n",
    "                    \"tce\" : \"Terrace\",\n",
    "                    \"terriace\" : \"Terrace\",\n",
    "                    \"wa\" : \"Way\"}\n",
    "\n",
    "street_name_replace = { \"Fitzgerald St (corner View St)\" : \"Fitzgerald Street\",\n",
    "                        \"Tarata Wy E/Ent\" : \"Tarata Way\",\n",
    "                        \"TARATA WY E/ENT\" : \"Tarata Way\",\n",
    "                        \"TARATA WY W/ENT\" : \"Tarata Way\",\n",
    "                        \"TARATA WY E/ENT (LANEWAY)\" : \"Tarata Way\",\n",
    "                        \"TARATA WAY E/ENT\" : \"Tarata Way\",\n",
    "                        \"TARATA WAY SW ENTRANCE\" : \"Tarata Way\",\n",
    "                        \"E Linden Way (In Laneway)\" : \"Linden Way\" }\n",
    "\n",
    "postal_code_range = [6000,6999]\n",
    "postal_code_default = 6000\n",
    "\n",
    "\n",
    "def is_street_name(elem):\n",
    "    return (elem.attrib['k'] == \"addr:street\")\n",
    "\n",
    "\n",
    "def is_postal_code(elem):\n",
    "    return (elem.attrib['k'] == \"addr:postcode\")\n",
    "\n",
    "\n",
    "def update_street_name(street_name, street_name_map, street_name_replace):\n",
    "    if street_name in street_name_replace.keys():\n",
    "        new_name = street_name_replace[street_name]\n",
    "        return new_name\n",
    "    \n",
    "    after = []\n",
    "    for part in street_name.split(\" \"):\n",
    "        part = part.strip(\",\\.\").lower()\n",
    "               \n",
    "        if part in street_name_map.keys():\n",
    "            part = street_name_map[part]\n",
    "        after.append(part.capitalize())\n",
    "    \n",
    "    return \" \".join(after)\n",
    "\n",
    "\n",
    "def update_postal_code(postal_code):\n",
    "    try:\n",
    "        if not (postal_code_range[0] <= int(postal_code) <= postal_code_range[1]):\n",
    "            raise ValueError\n",
    "        else:\n",
    "            return int(postal_code)\n",
    "    except ValueError:\n",
    "        return postal_code_default\n",
    "\n",
    "\n",
    "def shape_element(e):\n",
    "    node = {}\n",
    "    node['created'] = {}\n",
    "    node['pos'] = [0,0]\n",
    "    if e.tag == \"way\":\n",
    "        node['node_refs'] = []\n",
    "    if e.tag == \"node\" or e.tag == \"way\" :\n",
    "        node['type'] = e.tag\n",
    "        for k, v in e.attrib.iteritems():\n",
    "            #latitude\n",
    "            if k == 'lat':\n",
    "                try:\n",
    "                    lat = float(v)\n",
    "                    node['pos'][0] = lat\n",
    "                except ValueError:\n",
    "                    pass\n",
    "            #longitude\n",
    "            elif k == 'lon':\n",
    "                try:\n",
    "                    lon = float(v)\n",
    "                    node['pos'][1] = lon\n",
    "                except ValueError:\n",
    "                    pass\n",
    "            elif k in CREATED:\n",
    "                node['created'][k] = v\n",
    "            else:\n",
    "                node[k] = v\n",
    "        for tag in e.iter('tag'):\n",
    "            k = tag.attrib['k']\n",
    "            v = tag.attrib['v']\n",
    "            if problemchars.match(k):\n",
    "                continue\n",
    "            elif lower_colon.match(k):\n",
    "                k_split = k.split(':')\n",
    "                if k_split[0] == 'addr':\n",
    "                    k_item = k_split[1]\n",
    "                    if 'address' not in node:\n",
    "                        node['address'] = {}\n",
    "                    #streets\n",
    "                    if k_item == 'street':\n",
    "                        v = update_street_name(v, street_name_map, street_name_replace)                    \n",
    "                    #postal codes\n",
    "                    if k_item == 'postcode':\n",
    "                        v = update_postal_code(v)\n",
    "                    node['address'][k_item] = v\n",
    "                    continue\n",
    "            node[k] = v\n",
    "        if e.tag == \"way\":\n",
    "            for n in e.iter('nd'):\n",
    "                ref = n.attrib['ref']\n",
    "                node['node_refs'].append(ref);\n",
    "        return node\n",
    "    else:\n",
    "        return None\n",
    "\n",
    "\n",
    "def process_map(file_in, pretty = False):\n",
    "    file_out = \"{0}.json\".format(file_in)\n",
    "    data = []\n",
    "    with codecs.open(file_out, \"w\") as fo:\n",
    "        for _, element in ET.iterparse(file_in):\n",
    "            el = shape_element(element)\n",
    "            if el:\n",
    "                data.append(el)\n",
    "                if pretty:\n",
    "                    fo.write(json.dumps(el, indent=2)+\"\\n\")\n",
    "                else:\n",
    "                    fo.write(json.dumps(el) + \"\\n\")\n",
    "    return data\n",
    "\n",
    "\n",
    "data = process_map(osmfilenm, True)"
   ]
  },
  {
   "cell_type": "markdown",
   "metadata": {},
   "source": [
    "Check first five entries to see if data matches what is expected."
   ]
  },
  {
   "cell_type": "code",
   "execution_count": 9,
   "metadata": {
    "collapsed": false,
    "scrolled": true
   },
   "outputs": [
    {
     "name": "stdout",
     "output_type": "stream",
     "text": [
      "[{'created': {'changeset': '12341071',\n",
      "              'timestamp': '2012-07-19T17:00:36Z',\n",
      "              'uid': '722137',\n",
      "              'user': 'OSMF Redaction Account',\n",
      "              'version': '9'},\n",
      "  'id': '2306306',\n",
      "  'pos': [-32.0388963, 115.7735345],\n",
      "  'type': 'node'},\n",
      " {'created': {'changeset': '12548730',\n",
      "              'timestamp': '2012-07-30T14:14:36Z',\n",
      "              'uid': '142807',\n",
      "              'user': 'SDavies',\n",
      "              'version': '3'},\n",
      "  'id': '21390176',\n",
      "  'pos': [-31.9624823, 115.9130943],\n",
      "  'type': 'node'},\n",
      " {'created': {'changeset': '12543711',\n",
      "              'timestamp': '2012-07-30T06:41:54Z',\n",
      "              'uid': '189263',\n",
      "              'user': 'wildmyron',\n",
      "              'version': '3'},\n",
      "  'id': '21390184',\n",
      "  'pos': [-31.9566591, 115.9019806],\n",
      "  'type': 'node'},\n",
      " {'created': {'changeset': '12543711',\n",
      "              'timestamp': '2012-07-30T06:41:54Z',\n",
      "              'uid': '189263',\n",
      "              'user': 'wildmyron',\n",
      "              'version': '4'},\n",
      "  'id': '21390189',\n",
      "  'pos': [-31.9550943, 115.8999843],\n",
      "  'type': 'node'},\n",
      " {'created': {'changeset': '12543711',\n",
      "              'timestamp': '2012-07-30T06:43:33Z',\n",
      "              'uid': '189263',\n",
      "              'user': 'wildmyron',\n",
      "              'version': '3'},\n",
      "  'id': '21390190',\n",
      "  'pos': [-31.9545536, 115.8990236],\n",
      "  'type': 'node'}]\n"
     ]
    }
   ],
   "source": [
    "pprint.pprint(data[0:5])"
   ]
  },
  {
   "cell_type": "markdown",
   "metadata": {},
   "source": [
    "###4.0 Data Exploration"
   ]
  },
  {
   "cell_type": "markdown",
   "metadata": {},
   "source": [
    "####Load data into MongoDB instance"
   ]
  },
  {
   "cell_type": "code",
   "execution_count": 11,
   "metadata": {
    "collapsed": false,
    "scrolled": true
   },
   "outputs": [
    {
     "name": "stderr",
     "output_type": "stream",
     "text": [
      "C:\\Anaconda\\lib\\site-packages\\ipykernel\\__main__.py:10: DeprecationWarning: insert is deprecated. Use insert_one or insert_many instead.\n"
     ]
    }
   ],
   "source": [
    "from pymongo import MongoClient\n",
    "\n",
    "def get_db(db_name):\n",
    "    client = MongoClient('localhost:27017')\n",
    "    db = client[db_name]\n",
    "    return db\n",
    "\n",
    "\n",
    "def add_data(data):\n",
    "   [db.perth.insert(e) for e in data]\n",
    "\n",
    "\n",
    "db = get_db('test')\n",
    "db.perth.delete_many({})\n",
    "\n",
    "#data = process_map(osmfilenm, True)\n",
    "add_data(data)"
   ]
  },
  {
   "cell_type": "markdown",
   "metadata": {},
   "source": [
    "####Database structure"
   ]
  },
  {
   "cell_type": "markdown",
   "metadata": {},
   "source": [
    "File size comparison:\n",
    "perth_australia.osm: 204 MB (214,742,096 bytes)\n",
    "perth_australia.osm.json: 320 MB (335,878,944 bytes)"
   ]
  },
  {
   "cell_type": "code",
   "execution_count": 12,
   "metadata": {
    "collapsed": false
   },
   "outputs": [
    {
     "name": "stdout",
     "output_type": "stream",
     "text": [
      "Total number of documents in database:\n"
     ]
    },
    {
     "data": {
      "text/plain": [
       "1124235"
      ]
     },
     "execution_count": 12,
     "metadata": {},
     "output_type": "execute_result"
    }
   ],
   "source": [
    "print \"Total number of documents in database:\"\n",
    "db.perth.find().count()"
   ]
  },
  {
   "cell_type": "code",
   "execution_count": 13,
   "metadata": {
    "collapsed": false
   },
   "outputs": [
    {
     "name": "stdout",
     "output_type": "stream",
     "text": [
      "Number of nodes in database:\n"
     ]
    },
    {
     "data": {
      "text/plain": [
       "1000397"
      ]
     },
     "execution_count": 13,
     "metadata": {},
     "output_type": "execute_result"
    }
   ],
   "source": [
    "print \"Number of nodes in database:\"\n",
    "db.perth.find({'type':'node'}).count()"
   ]
  },
  {
   "cell_type": "code",
   "execution_count": 14,
   "metadata": {
    "collapsed": false
   },
   "outputs": [
    {
     "name": "stdout",
     "output_type": "stream",
     "text": [
      "Number of ways in database:\n"
     ]
    },
    {
     "data": {
      "text/plain": [
       "123800"
      ]
     },
     "execution_count": 14,
     "metadata": {},
     "output_type": "execute_result"
    }
   ],
   "source": [
    "print \"Number of ways in database:\"\n",
    "db.perth.find({'type':'way'}).count()"
   ]
  },
  {
   "cell_type": "code",
   "execution_count": 15,
   "metadata": {
    "collapsed": false
   },
   "outputs": [
    {
     "name": "stdout",
     "output_type": "stream",
     "text": [
      "Number of cafe's in database:\n"
     ]
    },
    {
     "data": {
      "text/plain": [
       "258"
      ]
     },
     "execution_count": 15,
     "metadata": {},
     "output_type": "execute_result"
    }
   ],
   "source": [
    "print \"Number of cafe's in database:\"\n",
    "db.perth.find({'amenity':'cafe'}).count()"
   ]
  },
  {
   "cell_type": "code",
   "execution_count": 16,
   "metadata": {
    "collapsed": false
   },
   "outputs": [
    {
     "name": "stdout",
     "output_type": "stream",
     "text": [
      "Number of cinema's in database:\n"
     ]
    },
    {
     "data": {
      "text/plain": [
       "18"
      ]
     },
     "execution_count": 16,
     "metadata": {},
     "output_type": "execute_result"
    }
   ],
   "source": [
    "print \"Number of cinema's in database:\"\n",
    "db.perth.find({'amenity':'cinema'}).count()"
   ]
  },
  {
   "cell_type": "code",
   "execution_count": 17,
   "metadata": {
    "collapsed": false
   },
   "outputs": [
    {
     "name": "stdout",
     "output_type": "stream",
     "text": [
      "Number of bank's in database:\n"
     ]
    },
    {
     "data": {
      "text/plain": [
       "69"
      ]
     },
     "execution_count": 17,
     "metadata": {},
     "output_type": "execute_result"
    }
   ],
   "source": [
    "print \"Number of bank's in database:\"\n",
    "db.perth.find({'amenity':'bank'}).count()"
   ]
  },
  {
   "cell_type": "code",
   "execution_count": 18,
   "metadata": {
    "collapsed": false
   },
   "outputs": [],
   "source": [
    "from pymongo import MongoClient\n",
    "from pprint import pprint\n",
    "\n",
    "class pipe_list(object):\n",
    "    def top_post_user(self):\n",
    "        return [\n",
    "                {'$group': {'_id': '$created.user',\n",
    "                            'count': {'$sum': 1}}},\n",
    "                {'$sort': {'count': -1}},\n",
    "                {'$limit': 1}\n",
    "        ]\n",
    "\n",
    "    def top_three_post_users(self):\n",
    "        return [\n",
    "                {'$group': {'_id': '$created.user',\n",
    "                            'count': {'$sum': 1}}},\n",
    "                {'$sort': {'count': -1}},\n",
    "                {'$limit': 3}\n",
    "        ]\n",
    "    \n",
    "    def single_post_users(self):\n",
    "        return [\n",
    "            {'$group': {'_id': '$created.user',\n",
    "                        'count': {'$sum': 1}}}, \n",
    "            {'$group': {'_id': '$count',\n",
    "                        'num_users': {'$sum': 1}}},\n",
    "            {'$sort': {'_id': 1}},\n",
    "            {'$limit': 1}\n",
    "        ]\n",
    "\n",
    "    def top_five_amenity(self):\n",
    "        return [\n",
    "            {'$match': {'amenity': {'$exists': 1}}},\n",
    "            {'$group': {'_id': '$amenity', 'count': {'$sum': 1}}},\n",
    "            {'$sort': {'count': -1}},\n",
    "            {'$limit': 5}\n",
    "        ]\n",
    "\n",
    "    def top_five_fastfood(self):\n",
    "        return [\n",
    "            {'$match': {'amenity': 'fast_food'}},\n",
    "            {'$group': {'_id': '$name', 'count': {'$sum': 1}}},\n",
    "            {'$sort': {'count': -1}},\n",
    "            {'$limit': 5}\n",
    "        ]\n",
    "    \n",
    "pipeline = pipe_list()"
   ]
  },
  {
   "cell_type": "code",
   "execution_count": 19,
   "metadata": {
    "collapsed": false
   },
   "outputs": [
    {
     "name": "stdout",
     "output_type": "stream",
     "text": [
      "Number of unique users who have made posts:\n"
     ]
    },
    {
     "data": {
      "text/plain": [
       "829"
      ]
     },
     "execution_count": 19,
     "metadata": {},
     "output_type": "execute_result"
    }
   ],
   "source": [
    "print \"Number of unique users who have made posts:\"\n",
    "len(db.perth.distinct('created.user'))"
   ]
  },
  {
   "cell_type": "code",
   "execution_count": 20,
   "metadata": {
    "collapsed": false
   },
   "outputs": [
    {
     "name": "stdout",
     "output_type": "stream",
     "text": [
      "User with highest post count:\n",
      "[{u'count': 362661, u'_id': u'SDavies'}]\n"
     ]
    }
   ],
   "source": [
    "print \"User with highest post count:\"\n",
    "print(list(db.perth.aggregate(pipeline.top_post_user())))"
   ]
  },
  {
   "cell_type": "code",
   "execution_count": 21,
   "metadata": {
    "collapsed": false
   },
   "outputs": [
    {
     "name": "stdout",
     "output_type": "stream",
     "text": [
      "Top three users by post count:\n",
      "[{u'count': 362661, u'_id': u'SDavies'}, {u'count': 150064, u'_id': u'browny_au'}, {u'count': 77782, u'_id': u'sb9576'}]\n"
     ]
    }
   ],
   "source": [
    "print \"Top three users by post count:\"\n",
    "print(list(db.perth.aggregate(pipeline.top_three_post_users())))"
   ]
  },
  {
   "cell_type": "code",
   "execution_count": 22,
   "metadata": {
    "collapsed": false
   },
   "outputs": [
    {
     "name": "stdout",
     "output_type": "stream",
     "text": [
      "Count of users who have made a single post:\n",
      "[{u'num_users': 169, u'_id': 1}]\n"
     ]
    }
   ],
   "source": [
    "print \"Count of users who have made a single post:\"\n",
    "print(list(db.perth.aggregate(pipeline.single_post_users())))"
   ]
  },
  {
   "cell_type": "code",
   "execution_count": 23,
   "metadata": {
    "collapsed": false
   },
   "outputs": [
    {
     "name": "stdout",
     "output_type": "stream",
     "text": [
      "Top five amenity by count:\n",
      "[{u'count': 2243, u'_id': u'parking'}, {u'count': 463, u'_id': u'school'}, {u'count': 296, u'_id': u'fast_food'}, {u'count': 293, u'_id': u'bench'}, {u'count': 271, u'_id': u'restaurant'}]\n"
     ]
    }
   ],
   "source": [
    "print \"Top five amenity by count:\"\n",
    "print(list(db.perth.aggregate(pipeline.top_five_amenity())))"
   ]
  },
  {
   "cell_type": "code",
   "execution_count": 24,
   "metadata": {
    "collapsed": false
   },
   "outputs": [
    {
     "name": "stdout",
     "output_type": "stream",
     "text": [
      "Top five fast food by count:\n",
      "[{u'count': 31, u'_id': None}, {u'count': 24, u'_id': u'Subway'}, {u'count': 21, u'_id': u\"McDonald's\"}, {u'count': 15, u'_id': u'Red Rooster'}, {u'count': 15, u'_id': u'KFC'}]\n"
     ]
    }
   ],
   "source": [
    "print \"Top five fast food by count:\"\n",
    "print(list(db.perth.aggregate(pipeline.top_five_fastfood())))"
   ]
  },
  {
   "cell_type": "markdown",
   "metadata": {},
   "source": [
    "####Create a sample database"
   ]
  },
  {
   "cell_type": "code",
   "execution_count": 25,
   "metadata": {
    "collapsed": true
   },
   "outputs": [],
   "source": [
    "#!/usr/bin/env python\n",
    "# -*- coding: utf-8 -*-\n",
    "\n",
    "import xml.etree.ElementTree as ET  # Use cElementTree or lxml if too slow\n",
    "\n",
    "OSM_FILE = \"data/perth_australia.osm\"  # Replace this with your osm file\n",
    "SAMPLE_FILE = \"data/perth_australia_sample.osm\"\n",
    "\n",
    "\n",
    "def get_element(osm_file, tags=('node', 'way', 'relation')):\n",
    "    \"\"\"Yield element if it is the right type of tag\n",
    "\n",
    "    Reference:\n",
    "    http://stackoverflow.com/questions/3095434/inserting-newlines-in-xml-file-generated-via-xml-etree-elementtree-in-python\n",
    "    \"\"\"\n",
    "    context = ET.iterparse(osm_file, events=('start', 'end'))\n",
    "    _, root = next(context)\n",
    "    for event, elem in context:\n",
    "        if event == 'end' and elem.tag in tags:\n",
    "            yield elem\n",
    "            root.clear()\n",
    "\n",
    "\n",
    "with open(SAMPLE_FILE, 'wb') as output:\n",
    "    output.write('<?xml version=\"1.0\" encoding=\"UTF-8\"?>\\n')\n",
    "    output.write('<osm>\\n  ')\n",
    "\n",
    "    # Write every 10th top level element\n",
    "    for i, element in enumerate(get_element(OSM_FILE)):\n",
    "        if i % 10 == 0:\n",
    "            output.write(ET.tostring(element, encoding='utf-8'))\n",
    "\n",
    "    output.write('</osm>')"
   ]
  },
  {
   "cell_type": "markdown",
   "metadata": {},
   "source": [
    "perth_australia_sample.osm: 20.7 MB (21,770,717 bytes)"
   ]
  },
  {
   "cell_type": "markdown",
   "metadata": {},
   "source": [
    "###5.0 Conclusion"
   ]
  },
  {
   "cell_type": "markdown",
   "metadata": {},
   "source": [
    "Overall, I didnt have too much trouble processing the dataset. There were no 'problemchars' identified as part of the first pass and the dataset was generally clean. Based on my memory of Perth, most of the reported amenity counts seem reasonable, however caution should be exercised when interpreting the presented results as the completeness of the data is unknown. For example, there were a large number of reported fast_food amenity which had no _id.\n",
    "\n",
    "There are a number of options for improving data completeness. OpenStreetMap.org could integrate with a greater amount of mobile applications and allow automatic upload tagged/GPS locations to be provided by users. Users could be ranked on the OpenStreetMap.org website based on the number of uploads provided in order to provide additional incentive.\n",
    "\n",
    "Finally, I did not get a chance to exercise MonogDB's geospatial querying, however the original dataset contains a large amount of latitude/longitude data, so this is one potential option to expand on the analysis."
   ]
  },
  {
   "cell_type": "markdown",
   "metadata": {},
   "source": [
    "###References"
   ]
  },
  {
   "cell_type": "markdown",
   "metadata": {},
   "source": [
    "* PyMongo Documentation: https://api.mongodb.org/python/current/\n",
    "* Udacity Data Wrangling with MonogoDB: https://www.udacity.com/course/data-wrangling-with-mongodb--ud032"
   ]
  }
 ],
 "metadata": {
  "kernelspec": {
   "display_name": "Python 2",
   "language": "python",
   "name": "python2"
  },
  "language_info": {
   "codemirror_mode": {
    "name": "ipython",
    "version": 2
   },
   "file_extension": ".py",
   "mimetype": "text/x-python",
   "name": "python",
   "nbconvert_exporter": "python",
   "pygments_lexer": "ipython2",
   "version": "2.7.10"
  }
 },
 "nbformat": 4,
 "nbformat_minor": 0
}
