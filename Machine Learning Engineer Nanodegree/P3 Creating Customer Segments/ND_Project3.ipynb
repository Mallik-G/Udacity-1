{
 "cells": [
  {
   "cell_type": "code",
   "execution_count": 1,
   "metadata": {
    "collapsed": true
   },
   "outputs": [],
   "source": [
    "from __future__ import print_function"
   ]
  },
  {
   "cell_type": "code",
   "execution_count": 2,
   "metadata": {
    "collapsed": false
   },
   "outputs": [],
   "source": [
    "import notebook\n",
    "#notebook.nbextensions.check_nbextension(\"usability/python-markdown/\", user = True)\n",
    "E = notebook.nbextensions.EnableNBExtensionApp()\n",
    "E.enable_nbextension(\"usability/python-markdown/main\")"
   ]
  },
  {
   "cell_type": "code",
   "execution_count": 3,
   "metadata": {
    "collapsed": false
   },
   "outputs": [
    {
     "data": {
      "text/html": [
       "<script>\n",
       "code_show=true; \n",
       "function code_toggle() {\n",
       " if (code_show){\n",
       " $('div.input').hide();\n",
       " } else {\n",
       " $('div.input').show();\n",
       " }\n",
       " code_show = !code_show\n",
       "} \n",
       "$( document ).ready(code_toggle);\n",
       "</script>\n",
       "<form action=\"javascript:code_toggle()\"><input type=\"submit\" value=\"Click here to toggle on/off the raw code.\"></form>"
      ],
      "text/plain": [
       "<IPython.core.display.HTML object>"
      ]
     },
     "execution_count": 3,
     "metadata": {},
     "output_type": "execute_result"
    }
   ],
   "source": [
    "from IPython.display import HTML\n",
    "\n",
    "HTML('''<script>\n",
    "code_show=true; \n",
    "function code_toggle() {\n",
    " if (code_show){\n",
    " $('div.input').hide();\n",
    " } else {\n",
    " $('div.input').show();\n",
    " }\n",
    " code_show = !code_show\n",
    "} \n",
    "$( document ).ready(code_toggle);\n",
    "</script>\n",
    "<form action=\"javascript:code_toggle()\"><input type=\"submit\" value=\"Click here to toggle on/off the raw code.\"></form>''')"
   ]
  },
  {
   "cell_type": "markdown",
   "metadata": {},
   "source": [
    "#Machine Learning Engineer Nanodegree"
   ]
  },
  {
   "cell_type": "markdown",
   "metadata": {},
   "source": [
    "##Project 3: Creating Customer Segments"
   ]
  },
  {
   "cell_type": "code",
   "execution_count": 4,
   "metadata": {
    "collapsed": false
   },
   "outputs": [],
   "source": [
    "import numpy as np\n",
    "\n",
    "np.random.seed(0)"
   ]
  },
  {
   "cell_type": "code",
   "execution_count": 5,
   "metadata": {
    "collapsed": false
   },
   "outputs": [],
   "source": [
    "import pandas as pd\n",
    "\n",
    "data = pd.read_csv(\"data/wholesale-customers.csv\")"
   ]
  },
  {
   "cell_type": "markdown",
   "metadata": {},
   "source": [
    "###Introduction"
   ]
  },
  {
   "cell_type": "markdown",
   "metadata": {},
   "source": [
    "This documents presents the results for the third project within the Machine Learning Engineer Nanodegree program. This assessment required the student to apply dimensionality reduction and classification techniques to a set of sales data from a wholesale grocery distributor, in order to categorize its customers into segments. "
   ]
  },
  {
   "cell_type": "markdown",
   "metadata": {},
   "source": [
    "###Data"
   ]
  },
  {
   "cell_type": "code",
   "execution_count": 6,
   "metadata": {
    "collapsed": false
   },
   "outputs": [
    {
     "name": "stdout",
     "output_type": "stream",
     "text": [
      "Table 1: Raw Dataset (first 5 records)\n"
     ]
    },
    {
     "data": {
      "text/html": [
       "<div>\n",
       "<table border=\"1\" class=\"dataframe\">\n",
       "  <thead>\n",
       "    <tr style=\"text-align: right;\">\n",
       "      <th></th>\n",
       "      <th>Fresh</th>\n",
       "      <th>Milk</th>\n",
       "      <th>Grocery</th>\n",
       "      <th>Frozen</th>\n",
       "      <th>Detergents_Paper</th>\n",
       "      <th>Delicatessen</th>\n",
       "    </tr>\n",
       "  </thead>\n",
       "  <tbody>\n",
       "    <tr>\n",
       "      <th>0</th>\n",
       "      <td>12669</td>\n",
       "      <td>9656</td>\n",
       "      <td>7561</td>\n",
       "      <td>214</td>\n",
       "      <td>2674</td>\n",
       "      <td>1338</td>\n",
       "    </tr>\n",
       "    <tr>\n",
       "      <th>1</th>\n",
       "      <td>7057</td>\n",
       "      <td>9810</td>\n",
       "      <td>9568</td>\n",
       "      <td>1762</td>\n",
       "      <td>3293</td>\n",
       "      <td>1776</td>\n",
       "    </tr>\n",
       "    <tr>\n",
       "      <th>2</th>\n",
       "      <td>6353</td>\n",
       "      <td>8808</td>\n",
       "      <td>7684</td>\n",
       "      <td>2405</td>\n",
       "      <td>3516</td>\n",
       "      <td>7844</td>\n",
       "    </tr>\n",
       "    <tr>\n",
       "      <th>3</th>\n",
       "      <td>13265</td>\n",
       "      <td>1196</td>\n",
       "      <td>4221</td>\n",
       "      <td>6404</td>\n",
       "      <td>507</td>\n",
       "      <td>1788</td>\n",
       "    </tr>\n",
       "    <tr>\n",
       "      <th>4</th>\n",
       "      <td>22615</td>\n",
       "      <td>5410</td>\n",
       "      <td>7198</td>\n",
       "      <td>3915</td>\n",
       "      <td>1777</td>\n",
       "      <td>5185</td>\n",
       "    </tr>\n",
       "  </tbody>\n",
       "</table>\n",
       "</div>"
      ],
      "text/plain": [
       "   Fresh  Milk  Grocery  Frozen  Detergents_Paper  Delicatessen\n",
       "0  12669  9656     7561     214              2674          1338\n",
       "1   7057  9810     9568    1762              3293          1776\n",
       "2   6353  8808     7684    2405              3516          7844\n",
       "3  13265  1196     4221    6404               507          1788\n",
       "4  22615  5410     7198    3915              1777          5185"
      ]
     },
     "execution_count": 6,
     "metadata": {},
     "output_type": "execute_result"
    }
   ],
   "source": [
    "print(\"Table 1: Raw Dataset (first 5 records)\")\n",
    "data.head(5)"
   ]
  },
  {
   "cell_type": "code",
   "execution_count": 7,
   "metadata": {
    "collapsed": false
   },
   "outputs": [
    {
     "name": "stdout",
     "output_type": "stream",
     "text": [
      "Dataset rows: 440\n",
      "Dataset columns: 6\n"
     ]
    }
   ],
   "source": [
    "data_nrows = data.shape[0]\n",
    "data_ncols = data.shape[1]\n",
    "\n",
    "print(\"Dataset rows:\", data_nrows)\n",
    "print(\"Dataset columns:\", data_ncols)"
   ]
  },
  {
   "cell_type": "markdown",
   "metadata": {
    "variables": {
     "data_ncols": "6",
     "data_nrows": "440"
    }
   },
   "source": [
    "This assessment uses data provided via the Udacity platform. The dataset has {{data_nrows}} rows and {{data_ncols}} columns."
   ]
  },
  {
   "cell_type": "markdown",
   "metadata": {},
   "source": [
    "###Question 1"
   ]
  },
  {
   "cell_type": "markdown",
   "metadata": {},
   "source": [
    "Before doing any computations, what do you think will show up in your computations? List one or two ideas for what might show up as the first PCA dimensions, or what type of vectors will show up as ICA dimensions."
   ]
  },
  {
   "cell_type": "markdown",
   "metadata": {},
   "source": [
    "####Answer"
   ]
  },
  {
   "cell_type": "markdown",
   "metadata": {
    "collapsed": true
   },
   "source": [
    "Under the PCA method, the first dimension will show the global direction of the data (maximum variance). According the dataset variance's shown below, it may be reasonable to suggest that the first component will carry a high load of the 'Fresh' feature since it has the highest variance."
   ]
  },
  {
   "cell_type": "code",
   "execution_count": 8,
   "metadata": {
    "collapsed": false
   },
   "outputs": [
    {
     "name": "stdout",
     "output_type": "stream",
     "text": [
      "Table 2: Raw Dataset Statistics\n"
     ]
    },
    {
     "data": {
      "text/html": [
       "<div>\n",
       "<table border=\"1\" class=\"dataframe\">\n",
       "  <thead>\n",
       "    <tr style=\"text-align: right;\">\n",
       "      <th></th>\n",
       "      <th>Fresh</th>\n",
       "      <th>Milk</th>\n",
       "      <th>Grocery</th>\n",
       "      <th>Frozen</th>\n",
       "      <th>Detergents_Paper</th>\n",
       "      <th>Delicatessen</th>\n",
       "    </tr>\n",
       "  </thead>\n",
       "  <tbody>\n",
       "    <tr>\n",
       "      <th>std dev</th>\n",
       "      <td>12647.329</td>\n",
       "      <td>7380.377</td>\n",
       "      <td>9503.163</td>\n",
       "      <td>4854.673</td>\n",
       "      <td>4767.854</td>\n",
       "      <td>2820.106</td>\n",
       "    </tr>\n",
       "  </tbody>\n",
       "</table>\n",
       "</div>"
      ],
      "text/plain": [
       "             Fresh      Milk   Grocery    Frozen  Detergents_Paper  \\\n",
       "std dev  12647.329  7380.377  9503.163  4854.673          4767.854   \n",
       "\n",
       "         Delicatessen  \n",
       "std dev      2820.106  "
      ]
     },
     "execution_count": 8,
     "metadata": {},
     "output_type": "execute_result"
    }
   ],
   "source": [
    "import pandas as pd\n",
    "import numpy as np\n",
    "\n",
    "data_std = data.std(axis=0)\n",
    "df_data_std = pd.DataFrame(data_std).T\n",
    "df_data_std = np.round(df_data_std, 3)\n",
    "df_data_std.index = [\"std dev\"]\n",
    "\n",
    "print(\"Table 2: Raw Dataset Statistics\")\n",
    "df_data_std"
   ]
  },
  {
   "cell_type": "markdown",
   "metadata": {},
   "source": [
    "ICA instead finds subcomponents according to which are statistically independent. Under this premise, it may be reasonable to suggest that the ICA method may also find 'Fresh' to be one of its components, however it is difficult to say which remaining components it would select as the components need not be orthogonal in the feature space, as opposed to PCA."
   ]
  },
  {
   "cell_type": "markdown",
   "metadata": {},
   "source": [
    "###Question 2"
   ]
  },
  {
   "cell_type": "markdown",
   "metadata": {},
   "source": [
    "How quickly does the variance drop off by dimension? If you were to use PCA on this dataset, how many dimensions would you choose for your analysis? Why?"
   ]
  },
  {
   "cell_type": "markdown",
   "metadata": {},
   "source": [
    "####Answer"
   ]
  },
  {
   "cell_type": "markdown",
   "metadata": {},
   "source": [
    "Fit PCA."
   ]
  },
  {
   "cell_type": "code",
   "execution_count": 9,
   "metadata": {
    "collapsed": false
   },
   "outputs": [
    {
     "data": {
      "text/plain": [
       "PCA(copy=True, n_components=6, whiten=False)"
      ]
     },
     "execution_count": 9,
     "metadata": {},
     "output_type": "execute_result"
    }
   ],
   "source": [
    "from sklearn.decomposition import PCA\n",
    "pca = PCA(n_components=6)\n",
    "pca.fit(data)"
   ]
  },
  {
   "cell_type": "markdown",
   "metadata": {},
   "source": [
    "Show PCA components."
   ]
  },
  {
   "cell_type": "code",
   "execution_count": 10,
   "metadata": {
    "collapsed": false
   },
   "outputs": [
    {
     "name": "stdout",
     "output_type": "stream",
     "text": [
      "Table 3: PCA Components\n"
     ]
    },
    {
     "data": {
      "text/html": [
       "<div>\n",
       "<table border=\"1\" class=\"dataframe\">\n",
       "  <thead>\n",
       "    <tr style=\"text-align: right;\">\n",
       "      <th></th>\n",
       "      <th>fresh</th>\n",
       "      <th>milk</th>\n",
       "      <th>grocery</th>\n",
       "      <th>frozen</th>\n",
       "      <th>detergentspaper</th>\n",
       "      <th>delicatessen</th>\n",
       "    </tr>\n",
       "  </thead>\n",
       "  <tbody>\n",
       "    <tr>\n",
       "      <th>0</th>\n",
       "      <td>-0.977</td>\n",
       "      <td>-0.121</td>\n",
       "      <td>-0.062</td>\n",
       "      <td>-0.152</td>\n",
       "      <td>0.007</td>\n",
       "      <td>-0.068</td>\n",
       "    </tr>\n",
       "    <tr>\n",
       "      <th>1</th>\n",
       "      <td>-0.111</td>\n",
       "      <td>0.516</td>\n",
       "      <td>0.765</td>\n",
       "      <td>-0.019</td>\n",
       "      <td>0.365</td>\n",
       "      <td>0.057</td>\n",
       "    </tr>\n",
       "    <tr>\n",
       "      <th>2</th>\n",
       "      <td>-0.179</td>\n",
       "      <td>0.510</td>\n",
       "      <td>-0.276</td>\n",
       "      <td>0.714</td>\n",
       "      <td>-0.204</td>\n",
       "      <td>0.283</td>\n",
       "    </tr>\n",
       "    <tr>\n",
       "      <th>3</th>\n",
       "      <td>-0.042</td>\n",
       "      <td>-0.646</td>\n",
       "      <td>0.375</td>\n",
       "      <td>0.646</td>\n",
       "      <td>0.149</td>\n",
       "      <td>-0.020</td>\n",
       "    </tr>\n",
       "    <tr>\n",
       "      <th>4</th>\n",
       "      <td>0.016</td>\n",
       "      <td>0.203</td>\n",
       "      <td>-0.160</td>\n",
       "      <td>0.220</td>\n",
       "      <td>0.208</td>\n",
       "      <td>-0.917</td>\n",
       "    </tr>\n",
       "    <tr>\n",
       "      <th>5</th>\n",
       "      <td>-0.016</td>\n",
       "      <td>0.033</td>\n",
       "      <td>0.411</td>\n",
       "      <td>-0.013</td>\n",
       "      <td>-0.871</td>\n",
       "      <td>-0.265</td>\n",
       "    </tr>\n",
       "  </tbody>\n",
       "</table>\n",
       "</div>"
      ],
      "text/plain": [
       "   fresh   milk  grocery  frozen  detergentspaper  delicatessen\n",
       "0 -0.977 -0.121   -0.062  -0.152            0.007        -0.068\n",
       "1 -0.111  0.516    0.765  -0.019            0.365         0.057\n",
       "2 -0.179  0.510   -0.276   0.714           -0.204         0.283\n",
       "3 -0.042 -0.646    0.375   0.646            0.149        -0.020\n",
       "4  0.016  0.203   -0.160   0.220            0.208        -0.917\n",
       "5 -0.016  0.033    0.411  -0.013           -0.871        -0.265"
      ]
     },
     "execution_count": 10,
     "metadata": {},
     "output_type": "execute_result"
    }
   ],
   "source": [
    "import pandas as pd\n",
    "import numpy as np\n",
    "\n",
    "#print(pca.components_)\n",
    "pca_components_header = [\"fresh\",\n",
    "                         \"milk\",\n",
    "                         \"grocery\",\n",
    "                         \"frozen\",\n",
    "                         \"detergentspaper\",\n",
    "                         \"delicatessen\"]\n",
    "\n",
    "df_pca_components = pd.DataFrame(pca.components_, columns = pca_components_header)\n",
    "df_pca_components = np.round(df_pca_components, 3)\n",
    "\n",
    "print(\"Table 3: PCA Components\")\n",
    "df_pca_components"
   ]
  },
  {
   "cell_type": "code",
   "execution_count": 11,
   "metadata": {
    "collapsed": false
   },
   "outputs": [],
   "source": [
    "pca_component_11 = format(pca.components_[0][0], \".4f\")\n",
    "pca_component_12 = format(pca.components_[0][1], \".4f\")\n",
    "pca_component_13 = format(pca.components_[0][2], \".4f\")\n",
    "pca_component_14 = format(pca.components_[0][3], \".4f\")\n",
    "pca_component_15 = format(pca.components_[0][4], \".4f\")\n",
    "pca_component_16 = format(pca.components_[0][5], \".4f\")\n",
    "pca_component_21 = format(pca.components_[1][0], \".4f\")\n",
    "pca_component_22 = format(pca.components_[1][1], \".4f\")\n",
    "pca_component_23 = format(pca.components_[1][2], \".4f\")\n",
    "pca_component_24 = format(pca.components_[1][3], \".4f\")\n",
    "pca_component_25 = format(pca.components_[1][4], \".4f\")\n",
    "pca_component_26 = format(pca.components_[1][5], \".4f\")"
   ]
  },
  {
   "cell_type": "markdown",
   "metadata": {},
   "source": [
    "Calculate PCA dimensions."
   ]
  },
  {
   "cell_type": "code",
   "execution_count": 12,
   "metadata": {
    "collapsed": false
   },
   "outputs": [
    {
     "name": "stdout",
     "output_type": "stream",
     "text": [
      "Table 4: PCA Dimensions\n"
     ]
    },
    {
     "data": {
      "text/html": [
       "<div>\n",
       "<table border=\"1\" class=\"dataframe\">\n",
       "  <thead>\n",
       "    <tr style=\"text-align: right;\">\n",
       "      <th></th>\n",
       "      <th>dimension1</th>\n",
       "      <th>dimension2</th>\n",
       "      <th>dimension3</th>\n",
       "      <th>dimension4</th>\n",
       "      <th>dimension5</th>\n",
       "      <th>dimension6</th>\n",
       "    </tr>\n",
       "  </thead>\n",
       "  <tbody>\n",
       "    <tr>\n",
       "      <th>0</th>\n",
       "      <td>0.46</td>\n",
       "      <td>0.405</td>\n",
       "      <td>0.07</td>\n",
       "      <td>0.044</td>\n",
       "      <td>0.015</td>\n",
       "      <td>0.006</td>\n",
       "    </tr>\n",
       "  </tbody>\n",
       "</table>\n",
       "</div>"
      ],
      "text/plain": [
       "   dimension1  dimension2  dimension3  dimension4  dimension5  dimension6\n",
       "0        0.46       0.405        0.07       0.044       0.015       0.006"
      ]
     },
     "execution_count": 12,
     "metadata": {},
     "output_type": "execute_result"
    }
   ],
   "source": [
    "import pandas as pd\n",
    "import numpy as np\n",
    "\n",
    "#print(pca.explained_variance_ratio_)\n",
    "pca_dimension_header = [\"dimension1\",\n",
    "                        \"dimension2\",\n",
    "                        \"dimension3\",\n",
    "                        \"dimension4\",\n",
    "                        \"dimension5\",\n",
    "                        \"dimension6\"]\n",
    "\n",
    "df_pca_dimension = pd.DataFrame([[pca.explained_variance_ratio_[0],\n",
    "                                  pca.explained_variance_ratio_[1],\n",
    "                                  pca.explained_variance_ratio_[2],\n",
    "                                  pca.explained_variance_ratio_[3],\n",
    "                                  pca.explained_variance_ratio_[4],\n",
    "                                  pca.explained_variance_ratio_[5]]], columns = pca_dimension_header)\n",
    "df_pca_dimension = np.round(df_pca_dimension, 3)\n",
    "\n",
    "print(\"Table 4: PCA Dimensions\")\n",
    "df_pca_dimension"
   ]
  },
  {
   "cell_type": "markdown",
   "metadata": {},
   "source": [
    "Plot the expected variance ratio for each component."
   ]
  },
  {
   "cell_type": "code",
   "execution_count": 13,
   "metadata": {
    "collapsed": false
   },
   "outputs": [
    {
     "data": {
      "image/png": "[encoded data removed]",
      "text/plain": [
       "<matplotlib.figure.Figure at 0x8e11358>"
      ]
     },
     "metadata": {},
     "output_type": "display_data"
    }
   ],
   "source": [
    "import matplotlib.pyplot as plt\n",
    "%matplotlib inline\n",
    "\n",
    "plt.plot(list(pca.explained_variance_ratio_),\"-o\")\n",
    "plt.title(\"Variance Ratio as a Function of PCA Components\")\n",
    "plt.ylabel(\"Explained Variance Ratio\")\n",
    "plt.xlabel(\"Component\")\n",
    "plt.show()"
   ]
  },
  {
   "cell_type": "code",
   "execution_count": 14,
   "metadata": {
    "collapsed": false
   },
   "outputs": [],
   "source": [
    "pca_var_1 = format(pca.explained_variance_ratio_[0], \".4f\")\n",
    "pca_var_2 = format(pca.explained_variance_ratio_[1], \".4f\")\n",
    "pca_var_3 = format(pca.explained_variance_ratio_[2], \".4f\")\n",
    "pca_varsum_12 = format(pca.explained_variance_ratio_[0] + pca.explained_variance_ratio_[1], \".4f\")\n",
    "pca_vardrop_23 = format(pca.explained_variance_ratio_[2] / pca.explained_variance_ratio_[1], \".4f\")"
   ]
  },
  {
   "cell_type": "markdown",
   "metadata": {
    "variables": {
     "pca_var_1": "0.4596",
     "pca_var_2": "0.4052",
     "pca_var_3": "0.0700",
     "pca_vardrop_23": "0.1728",
     "pca_varsum_12": "0.8648"
    }
   },
   "source": [
    "The variance ratio of the first two dimensions are {{pca_var_1}} and {{pca_var_2}} respectively, resulting in {{pca_varsum_12}} of the variance being along the first two dimensions. The variance along the third dimension is only {{pca_var_3}}, which is a {{pca_vardrop_23}} drop relative to the second dimension. We should therefore keep only the first two dimensions for our analysis. This will help to avoid the curse of dimensionality.\n",
    "\n",
    "Interpreting these results allows us to form an initial impression about the customer segments contained in the data. One possibility could be that many customers are able to be split into customers ordering mainly 'Fresh' items versus customers ordering ordering 'Grocery', 'Milk' and 'Detergents'."
   ]
  },
  {
   "cell_type": "markdown",
   "metadata": {},
   "source": [
    "###Question 3"
   ]
  },
  {
   "cell_type": "markdown",
   "metadata": {},
   "source": [
    "What do the dimensions seem to represent? How can you use this information?"
   ]
  },
  {
   "cell_type": "markdown",
   "metadata": {},
   "source": [
    "####Answer"
   ]
  },
  {
   "cell_type": "markdown",
   "metadata": {
    "variables": {
     "pca_component_11": "-0.9765",
     "pca_component_12": "-0.1212",
     "pca_component_14": "-0.1524",
     "pca_component_21": "-0.1106",
     "pca_component_22": "0.5158",
     "pca_component_23": "0.7646",
     "pca_component_25": "0.3654"
    }
   },
   "source": [
    "These dimensions are linear combinations of the datasets five features. We can read off these linear combinations from the pca component array shown above.\n",
    "\n",
    "Observing the first row, we see that the first dimension is almost completely (anti-) aligned along the 'Fresh' direction ({{pca_component_11}}) and slightly in the 'Milk' direction ({{pca_component_12}}) and the 'Frozen' direction ({{pca_component_14}}). It is almost orthogonal to the other directions.\n",
    "\n",
    "Observing the second row, we see that the second dimension is most strongly aligned in the 'Grocery' direction ({{pca_component_23}}) as well as the 'Milk' direction ({{pca_component_22}}) and 'Detergents_paper' direction ({{pca_component_25}}), and slightly in the 'Fresh' direction ({{pca_component_21}}). It is almost orthogonal to the other directions."
   ]
  },
  {
   "cell_type": "markdown",
   "metadata": {},
   "source": [
    "###Question 4"
   ]
  },
  {
   "cell_type": "markdown",
   "metadata": {},
   "source": [
    "For each vector in the ICA decomposition, write a sentence or two explaining what sort of object or property it corresponds to. What could these components be used for?"
   ]
  },
  {
   "cell_type": "markdown",
   "metadata": {},
   "source": [
    "####Answer"
   ]
  },
  {
   "cell_type": "markdown",
   "metadata": {},
   "source": [
    "Fit ICA."
   ]
  },
  {
   "cell_type": "code",
   "execution_count": 15,
   "metadata": {
    "collapsed": false
   },
   "outputs": [
    {
     "data": {
      "text/plain": [
       "FastICA(algorithm='parallel', fun='logcosh', fun_args=None, max_iter=200,\n",
       "    n_components=6, random_state=None, tol=0.0001, w_init=None,\n",
       "    whiten=True)"
      ]
     },
     "execution_count": 15,
     "metadata": {},
     "output_type": "execute_result"
    }
   ],
   "source": [
    "from sklearn.decomposition import FastICA\n",
    "ica = FastICA(n_components=6)\n",
    "ica.fit(data)"
   ]
  },
  {
   "cell_type": "markdown",
   "metadata": {},
   "source": [
    "Show ICA components."
   ]
  },
  {
   "cell_type": "code",
   "execution_count": 16,
   "metadata": {
    "collapsed": false
   },
   "outputs": [
    {
     "name": "stdout",
     "output_type": "stream",
     "text": [
      "Table 5: ICA Components (10^5)\n"
     ]
    },
    {
     "data": {
      "text/html": [
       "<div>\n",
       "<table border=\"1\" class=\"dataframe\">\n",
       "  <thead>\n",
       "    <tr style=\"text-align: right;\">\n",
       "      <th></th>\n",
       "      <th>fresh</th>\n",
       "      <th>milk</th>\n",
       "      <th>grocery</th>\n",
       "      <th>frozen</th>\n",
       "      <th>detergentspaper</th>\n",
       "      <th>delicatessen</th>\n",
       "    </tr>\n",
       "  </thead>\n",
       "  <tbody>\n",
       "    <tr>\n",
       "      <th>0</th>\n",
       "      <td>-0.396</td>\n",
       "      <td>0.095</td>\n",
       "      <td>0.047</td>\n",
       "      <td>0.071</td>\n",
       "      <td>-0.160</td>\n",
       "      <td>0.103</td>\n",
       "    </tr>\n",
       "    <tr>\n",
       "      <th>1</th>\n",
       "      <td>0.030</td>\n",
       "      <td>-0.104</td>\n",
       "      <td>-1.365</td>\n",
       "      <td>0.132</td>\n",
       "      <td>2.778</td>\n",
       "      <td>0.538</td>\n",
       "    </tr>\n",
       "    <tr>\n",
       "      <th>2</th>\n",
       "      <td>-0.039</td>\n",
       "      <td>-0.031</td>\n",
       "      <td>-0.061</td>\n",
       "      <td>-0.053</td>\n",
       "      <td>0.044</td>\n",
       "      <td>1.818</td>\n",
       "    </tr>\n",
       "    <tr>\n",
       "      <th>3</th>\n",
       "      <td>-0.022</td>\n",
       "      <td>0.699</td>\n",
       "      <td>-0.527</td>\n",
       "      <td>-0.076</td>\n",
       "      <td>-0.460</td>\n",
       "      <td>-0.332</td>\n",
       "    </tr>\n",
       "    <tr>\n",
       "      <th>4</th>\n",
       "      <td>-0.034</td>\n",
       "      <td>-0.746</td>\n",
       "      <td>0.252</td>\n",
       "      <td>0.008</td>\n",
       "      <td>-0.401</td>\n",
       "      <td>0.536</td>\n",
       "    </tr>\n",
       "    <tr>\n",
       "      <th>5</th>\n",
       "      <td>-0.086</td>\n",
       "      <td>-0.019</td>\n",
       "      <td>0.087</td>\n",
       "      <td>1.115</td>\n",
       "      <td>-0.060</td>\n",
       "      <td>-0.594</td>\n",
       "    </tr>\n",
       "  </tbody>\n",
       "</table>\n",
       "</div>"
      ],
      "text/plain": [
       "   fresh   milk  grocery  frozen  detergentspaper  delicatessen\n",
       "0 -0.396  0.095    0.047   0.071           -0.160         0.103\n",
       "1  0.030 -0.104   -1.365   0.132            2.778         0.538\n",
       "2 -0.039 -0.031   -0.061  -0.053            0.044         1.818\n",
       "3 -0.022  0.699   -0.527  -0.076           -0.460        -0.332\n",
       "4 -0.034 -0.746    0.252   0.008           -0.401         0.536\n",
       "5 -0.086 -0.019    0.087   1.115           -0.060        -0.594"
      ]
     },
     "execution_count": 16,
     "metadata": {},
     "output_type": "execute_result"
    }
   ],
   "source": [
    "import pandas as pd\n",
    "import numpy as np\n",
    "\n",
    "#print(ica.components_)\n",
    "ica_components_header = [\"fresh\",\n",
    "                         \"milk\",\n",
    "                         \"grocery\",\n",
    "                         \"frozen\",\n",
    "                         \"detergentspaper\",\n",
    "                         \"delicatessen\"]\n",
    "\n",
    "df_ica_components = pd.DataFrame(ica.components_, columns = ica_components_header)\n",
    "df_ica_components = np.round(df_ica_components, 8)*10**5\n",
    "\n",
    "print(\"Table 5: ICA Components (10^5)\")\n",
    "df_ica_components"
   ]
  },
  {
   "cell_type": "code",
   "execution_count": 17,
   "metadata": {
    "collapsed": false
   },
   "outputs": [],
   "source": [
    "ica_component_1 = ica.components_[0]\n",
    "ica_component_11 = format(ica.components_[0][0]*10**5, \".4f\")\n",
    "ica_component_12 = format(ica.components_[0][1]*10**5, \".4f\")\n",
    "ica_component_13 = format(ica.components_[0][2]*10**5, \".4f\")\n",
    "ica_component_14 = format(ica.components_[0][3]*10**5, \".4f\")\n",
    "ica_component_15 = format(ica.components_[0][4]*10**5, \".4f\")\n",
    "ica_component_16 = format(ica.components_[0][5]*10**5, \".4f\")\n",
    "\n",
    "ica_component_2 = ica.components_[1]\n",
    "ica_component_21 = format(ica.components_[1][0]*10**5, \".4f\")\n",
    "ica_component_22 = format(ica.components_[1][1]*10**5, \".4f\")\n",
    "ica_component_23 = format(ica.components_[1][2]*10**5, \".4f\")\n",
    "ica_component_24 = format(ica.components_[1][3]*10**5, \".4f\")\n",
    "ica_component_25 = format(ica.components_[1][4]*10**5, \".4f\")\n",
    "ica_component_26 = format(ica.components_[1][5]*10**5, \".4f\")\n",
    "\n",
    "ica_component_3 = ica.components_[2]\n",
    "ica_component_31 = format(ica.components_[2][0]*10**5, \".4f\")\n",
    "ica_component_32 = format(ica.components_[2][1]*10**5, \".4f\")\n",
    "ica_component_33 = format(ica.components_[2][2]*10**5, \".4f\")\n",
    "ica_component_34 = format(ica.components_[2][3]*10**5, \".4f\")\n",
    "ica_component_35 = format(ica.components_[2][4]*10**5, \".4f\")\n",
    "ica_component_36 = format(ica.components_[2][5]*10**5, \".4f\")\n",
    "\n",
    "ica_component_4 = ica.components_[3]\n",
    "ica_component_41 = format(ica.components_[3][0]*10**5, \".4f\")\n",
    "ica_component_42 = format(ica.components_[3][1]*10**5, \".4f\")\n",
    "ica_component_43 = format(ica.components_[3][2]*10**5, \".4f\")\n",
    "ica_component_44 = format(ica.components_[3][3]*10**5, \".4f\")\n",
    "ica_component_45 = format(ica.components_[3][4]*10**5, \".4f\")\n",
    "ica_component_46 = format(ica.components_[3][5]*10**5, \".4f\")"
   ]
  },
  {
   "cell_type": "markdown",
   "metadata": {
    "variables": {
     "ica_component_11": "-0.3965",
     "ica_component_23": "-1.3651",
     "ica_component_25": "2.7780",
     "ica_component_36": "1.8180",
     "ica_component_42": "0.6986"
    }
   },
   "source": [
    "Observing the first row, we see that the first vector has a high representation of the 'Fresh' feature, with a coefficient of {{ica_component_11}}. The other features have weaker representation on the first dimension.\n",
    "\n",
    "Observing the second row, we see that the second vector has a high representation of both 'Grocery' and 'Detergents paper', however the coefficients of each are of different polarity ({{ica_component_23}} and {{ica_component_25}} respectively). This indicates that, with all else held equal, high spending in 'Grocery' is associated with low spending in 'Detergents paper', and visa versa.\n",
    "\n",
    "Observing the third row, we see that the third vector has a high representation of the 'Delicatessen' feature, with a negative coefficient of {{ica_component_36}}. Indicating low spending on this feature within the vector.\n",
    "\n",
    "Finally, observing the forth row, we see that the forth vector has a high representation of the 'Milk' feature, with a positive coefficient of {{ica_component_42}}. Indicating high spending on this feature within the vector.\n",
    "\n",
    "Like with the PCA analysis shown above, interpreting these results allows us to form an initial impression about the customer segments contained in the data."
   ]
  },
  {
   "cell_type": "markdown",
   "metadata": {},
   "source": [
    "###Question 5"
   ]
  },
  {
   "cell_type": "markdown",
   "metadata": {},
   "source": [
    "What are the advantages of using K Means clustering or Gaussian Mixture Models?"
   ]
  },
  {
   "cell_type": "markdown",
   "metadata": {},
   "source": [
    "####Answer"
   ]
  },
  {
   "cell_type": "markdown",
   "metadata": {
    "collapsed": false
   },
   "source": [
    "Gaussian Mixture Models (GMMs) make a probabilistic assignment of points to classes, whereas K Means makes a deterministic assignment.\n",
    "\n",
    "An advantage of GMMs is that prior uncertainty about the assignment of a point to a cluster can be inherently reflected in the probabilistic model (soft assignment). Therefore, a GMM would be more suitable if the underlying dataset is a representation of a mixture of Gaussians. Alternatively, if cluster assignments are expected to be deterministic, a K Means clustering algorithm has advantages.\n",
    "\n",
    "It is worth noting, when assessing computation speed, the EM algorithm with Gaussian mixtures is generally slightly slower than Lloyd's algorithm for K Means, since computing the normal probability (EM) is generally slower than computing the L2-norm (K Means).\n",
    "\n",
    "Since there is nothing to suggest that this data has been formed from a mixture of normals, and the goal of this assessment is to discretely characterise customers (not to assign probabilities), K Means would be a more suitable algorithm to apply."
   ]
  },
  {
   "cell_type": "markdown",
   "metadata": {},
   "source": [
    "###Question 6"
   ]
  },
  {
   "cell_type": "markdown",
   "metadata": {},
   "source": [
    "Generate a cluster visualization of the data."
   ]
  },
  {
   "cell_type": "markdown",
   "metadata": {},
   "source": [
    "####Answer"
   ]
  },
  {
   "cell_type": "markdown",
   "metadata": {},
   "source": [
    "Fit PCA with two components."
   ]
  },
  {
   "cell_type": "code",
   "execution_count": 18,
   "metadata": {
    "collapsed": false
   },
   "outputs": [
    {
     "data": {
      "text/plain": [
       "PCA(copy=True, n_components=2, whiten=False)"
      ]
     },
     "execution_count": 18,
     "metadata": {},
     "output_type": "execute_result"
    }
   ],
   "source": [
    "from sklearn.decomposition import PCA\n",
    "pca = PCA(n_components=2)\n",
    "pca.fit(data)"
   ]
  },
  {
   "cell_type": "markdown",
   "metadata": {},
   "source": [
    "Use PCA to transform the data under two components."
   ]
  },
  {
   "cell_type": "code",
   "execution_count": 19,
   "metadata": {
    "collapsed": false
   },
   "outputs": [
    {
     "name": "stdout",
     "output_type": "stream",
     "text": [
      "Table 6: PCA Reduced Data (first 5 records)\n"
     ]
    },
    {
     "data": {
      "text/html": [
       "<div>\n",
       "<table border=\"1\" class=\"dataframe\">\n",
       "  <thead>\n",
       "    <tr style=\"text-align: right;\">\n",
       "      <th></th>\n",
       "      <th>component1</th>\n",
       "      <th>component2</th>\n",
       "    </tr>\n",
       "  </thead>\n",
       "  <tbody>\n",
       "    <tr>\n",
       "      <th>0</th>\n",
       "      <td>-650.022</td>\n",
       "      <td>1585.519</td>\n",
       "    </tr>\n",
       "    <tr>\n",
       "      <th>1</th>\n",
       "      <td>4426.805</td>\n",
       "      <td>4042.452</td>\n",
       "    </tr>\n",
       "    <tr>\n",
       "      <th>2</th>\n",
       "      <td>4841.999</td>\n",
       "      <td>2578.762</td>\n",
       "    </tr>\n",
       "    <tr>\n",
       "      <th>3</th>\n",
       "      <td>-990.346</td>\n",
       "      <td>-6279.806</td>\n",
       "    </tr>\n",
       "    <tr>\n",
       "      <th>4</th>\n",
       "      <td>-10657.999</td>\n",
       "      <td>-2159.726</td>\n",
       "    </tr>\n",
       "  </tbody>\n",
       "</table>\n",
       "</div>"
      ],
      "text/plain": [
       "   component1  component2\n",
       "0    -650.022    1585.519\n",
       "1    4426.805    4042.452\n",
       "2    4841.999    2578.762\n",
       "3    -990.346   -6279.806\n",
       "4  -10657.999   -2159.726"
      ]
     },
     "execution_count": 19,
     "metadata": {},
     "output_type": "execute_result"
    }
   ],
   "source": [
    "import pandas as pd\n",
    "import numpy as np\n",
    "\n",
    "reduced_data_header = [\"component1\",\n",
    "                       \"component2\"]\n",
    "\n",
    "reduced_data = pca.fit_transform(data)\n",
    "df_reduced_data = pd.DataFrame(reduced_data, columns = reduced_data_header)\n",
    "df_reduced_data = np.round(df_reduced_data, 3)\n",
    "\n",
    "print(\"Table 6: PCA Reduced Data (first 5 records)\")\n",
    "df_reduced_data[:5]"
   ]
  },
  {
   "cell_type": "markdown",
   "metadata": {},
   "source": [
    "Fit KMeans clustering algorithm with five clusters to the PCA reduced dataset."
   ]
  },
  {
   "cell_type": "code",
   "execution_count": 20,
   "metadata": {
    "collapsed": false
   },
   "outputs": [
    {
     "data": {
      "text/plain": [
       "KMeans(copy_x=True, init='k-means++', max_iter=300, n_clusters=5, n_init=10,\n",
       "    n_jobs=1, precompute_distances='auto', random_state=None, tol=0.0001,\n",
       "    verbose=0)"
      ]
     },
     "execution_count": 20,
     "metadata": {},
     "output_type": "execute_result"
    }
   ],
   "source": [
    "from sklearn.cluster import KMeans\n",
    "\n",
    "clusters = KMeans(n_clusters=5)\n",
    "clusters.fit(reduced_data)"
   ]
  },
  {
   "cell_type": "markdown",
   "metadata": {},
   "source": [
    "Find the centroids for KMeans clusters."
   ]
  },
  {
   "cell_type": "code",
   "execution_count": 21,
   "metadata": {
    "collapsed": false
   },
   "outputs": [
    {
     "name": "stdout",
     "output_type": "stream",
     "text": [
      "Table 7: Centoids for KMeans\n"
     ]
    },
    {
     "data": {
      "text/html": [
       "<div>\n",
       "<table border=\"1\" class=\"dataframe\">\n",
       "  <thead>\n",
       "    <tr style=\"text-align: right;\">\n",
       "      <th></th>\n",
       "      <th>component1</th>\n",
       "      <th>component2</th>\n",
       "    </tr>\n",
       "  </thead>\n",
       "  <tbody>\n",
       "    <tr>\n",
       "      <th>0</th>\n",
       "      <td>6399.712</td>\n",
       "      <td>-4169.297</td>\n",
       "    </tr>\n",
       "    <tr>\n",
       "      <th>1</th>\n",
       "      <td>-9052.400</td>\n",
       "      <td>-4808.559</td>\n",
       "    </tr>\n",
       "    <tr>\n",
       "      <th>2</th>\n",
       "      <td>5607.917</td>\n",
       "      <td>14199.180</td>\n",
       "    </tr>\n",
       "    <tr>\n",
       "      <th>3</th>\n",
       "      <td>-37704.642</td>\n",
       "      <td>-5488.354</td>\n",
       "    </tr>\n",
       "    <tr>\n",
       "      <th>4</th>\n",
       "      <td>-14537.718</td>\n",
       "      <td>61715.671</td>\n",
       "    </tr>\n",
       "  </tbody>\n",
       "</table>\n",
       "</div>"
      ],
      "text/plain": [
       "   component1  component2\n",
       "0    6399.712   -4169.297\n",
       "1   -9052.400   -4808.559\n",
       "2    5607.917   14199.180\n",
       "3  -37704.642   -5488.354\n",
       "4  -14537.718   61715.671"
      ]
     },
     "execution_count": 21,
     "metadata": {},
     "output_type": "execute_result"
    }
   ],
   "source": [
    "import pandas as pd\n",
    "import numpy as np\n",
    "\n",
    "centroids_header = [\"component1\",\n",
    "                    \"component2\"]\n",
    "\n",
    "centroids = clusters.cluster_centers_\n",
    "df_centroids = pd.DataFrame(centroids, columns = centroids_header)\n",
    "df_centroids = np.round(df_centroids, 3)\n",
    "\n",
    "print(\"Table 7: Centoids for KMeans\")\n",
    "df_centroids[:5]"
   ]
  },
  {
   "cell_type": "markdown",
   "metadata": {},
   "source": [
    "Plot the KMeans clusters with centoids over the PCA reduced dataset."
   ]
  },
  {
   "cell_type": "code",
   "execution_count": 22,
   "metadata": {
    "collapsed": false
   },
   "outputs": [
    {
     "data": {
      "image/png": "[encoded data removed]",
      "text/plain": [
       "<matplotlib.figure.Figure at 0xb7db4e0>"
      ]
     },
     "metadata": {},
     "output_type": "display_data"
    }
   ],
   "source": [
    "# Plot the decision boundary by building a mesh grid to populate a graph.\n",
    "x_min, x_max = reduced_data[:, 0].min() - 1, reduced_data[:, 0].max() + 1\n",
    "y_min, y_max = reduced_data[:, 1].min() - 1, reduced_data[:, 1].max() + 1\n",
    "hx = (x_max-x_min)/1000.\n",
    "hy = (y_max-y_min)/1000.\n",
    "xx, yy = np.meshgrid(np.arange(x_min, x_max, hx), np.arange(y_min, y_max, hy))\n",
    "\n",
    "# Obtain labels for each point in mesh. Use last trained model.\n",
    "Z = clusters.predict(np.c_[xx.ravel(), yy.ravel()])\n",
    "\n",
    "# Put the result into a color plot\n",
    "Z = Z.reshape(xx.shape)\n",
    "plt.figure(1)\n",
    "plt.clf()\n",
    "plt.imshow(Z, interpolation='nearest',\n",
    "           extent=(xx.min(), xx.max(), yy.min(), yy.max()),\n",
    "           cmap=plt.cm.Paired,\n",
    "           aspect='auto', origin='lower')\n",
    "\n",
    "plt.plot(reduced_data[:, 0], reduced_data[:, 1], 'k.', markersize=2)\n",
    "plt.scatter(centroids[:, 0], centroids[:, 1],\n",
    "            marker='x', s=169, linewidths=3,\n",
    "            color='w', zorder=10)\n",
    "plt.title('Clustering on the wholesale grocery dataset (PCA-reduced data)\\n'\n",
    "          'Centroids are marked with white cross')\n",
    "plt.xlim(x_min, x_max)\n",
    "plt.ylim(y_min, y_max)\n",
    "plt.xticks(())\n",
    "plt.yticks(())\n",
    "plt.show()"
   ]
  },
  {
   "cell_type": "markdown",
   "metadata": {},
   "source": [
    "###Question 7"
   ]
  },
  {
   "cell_type": "markdown",
   "metadata": {},
   "source": [
    "What are the central objects in each cluster? Describe them as customers."
   ]
  },
  {
   "cell_type": "markdown",
   "metadata": {},
   "source": [
    "####Answer"
   ]
  },
  {
   "cell_type": "markdown",
   "metadata": {},
   "source": [
    "Convert centroids back to original space."
   ]
  },
  {
   "cell_type": "code",
   "execution_count": 23,
   "metadata": {
    "collapsed": false
   },
   "outputs": [
    {
     "name": "stdout",
     "output_type": "stream",
     "text": [
      "Table 8: Converted Centroids\n"
     ]
    },
    {
     "data": {
      "text/html": [
       "<div>\n",
       "<table border=\"1\" class=\"dataframe\">\n",
       "  <thead>\n",
       "    <tr style=\"text-align: right;\">\n",
       "      <th></th>\n",
       "      <th>fresh</th>\n",
       "      <th>milk</th>\n",
       "      <th>grocery</th>\n",
       "      <th>frozen</th>\n",
       "      <th>detergentspaper</th>\n",
       "      <th>delicatessen</th>\n",
       "      <th>total</th>\n",
       "    </tr>\n",
       "  </thead>\n",
       "  <tbody>\n",
       "    <tr>\n",
       "      <th>0</th>\n",
       "      <td>6211.925</td>\n",
       "      <td>2870.190</td>\n",
       "      <td>4369.565</td>\n",
       "      <td>2174.906</td>\n",
       "      <td>1403.382</td>\n",
       "      <td>851.040</td>\n",
       "      <td>17881.008</td>\n",
       "    </tr>\n",
       "    <tr>\n",
       "      <th>1</th>\n",
       "      <td>21372.193</td>\n",
       "      <td>4413.007</td>\n",
       "      <td>4831.711</td>\n",
       "      <td>4541.230</td>\n",
       "      <td>1060.825</td>\n",
       "      <td>1866.913</td>\n",
       "      <td>38085.879</td>\n",
       "    </tr>\n",
       "    <tr>\n",
       "      <th>2</th>\n",
       "      <td>4953.334</td>\n",
       "      <td>12440.644</td>\n",
       "      <td>18462.948</td>\n",
       "      <td>1951.626</td>\n",
       "      <td>8108.734</td>\n",
       "      <td>1953.423</td>\n",
       "      <td>47870.709</td>\n",
       "    </tr>\n",
       "    <tr>\n",
       "      <th>3</th>\n",
       "      <td>49427.357</td>\n",
       "      <td>7534.563</td>\n",
       "      <td>6075.205</td>\n",
       "      <td>8919.546</td>\n",
       "      <td>610.344</td>\n",
       "      <td>3779.463</td>\n",
       "      <td>76346.478</td>\n",
       "    </tr>\n",
       "    <tr>\n",
       "      <th>4</th>\n",
       "      <td>19370.306</td>\n",
       "      <td>39391.082</td>\n",
       "      <td>56034.130</td>\n",
       "      <td>4131.435</td>\n",
       "      <td>25326.809</td>\n",
       "      <td>6037.639</td>\n",
       "      <td>150291.401</td>\n",
       "    </tr>\n",
       "  </tbody>\n",
       "</table>\n",
       "</div>"
      ],
      "text/plain": [
       "       fresh       milk    grocery    frozen  detergentspaper  delicatessen  \\\n",
       "0   6211.925   2870.190   4369.565  2174.906         1403.382       851.040   \n",
       "1  21372.193   4413.007   4831.711  4541.230         1060.825      1866.913   \n",
       "2   4953.334  12440.644  18462.948  1951.626         8108.734      1953.423   \n",
       "3  49427.357   7534.563   6075.205  8919.546          610.344      3779.463   \n",
       "4  19370.306  39391.082  56034.130  4131.435        25326.809      6037.639   \n",
       "\n",
       "        total  \n",
       "0   17881.008  \n",
       "1   38085.879  \n",
       "2   47870.709  \n",
       "3   76346.478  \n",
       "4  150291.401  "
      ]
     },
     "execution_count": 23,
     "metadata": {},
     "output_type": "execute_result"
    }
   ],
   "source": [
    "import pandas as pd\n",
    "import numpy as np\n",
    "\n",
    "#print(pca.inverse_transform(centroids))\n",
    "converted_centoids_header = [\"fresh\",\n",
    "                             \"milk\",\n",
    "                             \"grocery\",\n",
    "                             \"frozen\",\n",
    "                             \"detergentspaper\",\n",
    "                             \"delicatessen\"]\n",
    "\n",
    "converted_centoids = pca.inverse_transform(centroids)\n",
    "df_converted_centoids = pd.DataFrame(converted_centoids, columns = converted_centoids_header)\n",
    "df_converted_centoids = np.round(df_converted_centoids, 3)\n",
    "df_converted_centoids[\"total\"] = df_converted_centoids.sum(axis=1)\n",
    "\n",
    "print(\"Table 8: Converted Centroids\")\n",
    "df_converted_centoids"
   ]
  },
  {
   "cell_type": "code",
   "execution_count": 24,
   "metadata": {
    "collapsed": true
   },
   "outputs": [],
   "source": [
    "converted_centoids_1 = converted_centoids[0]\n",
    "converted_centoids_11 = format(converted_centoids[0][0], \".4f\")\n",
    "converted_centoids_12 = format(converted_centoids[0][1], \".4f\")\n",
    "converted_centoids_13 = format(converted_centoids[0][2], \".4f\")\n",
    "converted_centoids_14 = format(converted_centoids[0][3], \".4f\")\n",
    "converted_centoids_15 = format(converted_centoids[0][4], \".4f\")\n",
    "converted_centoids_16 = format(converted_centoids[0][5], \".4f\")\n",
    "\n",
    "converted_centoids_2 = converted_centoids[1]\n",
    "converted_centoids_21 = format(converted_centoids[1][0], \".4f\")\n",
    "converted_centoids_22 = format(converted_centoids[1][1], \".4f\")\n",
    "converted_centoids_23 = format(converted_centoids[1][2], \".4f\")\n",
    "converted_centoids_24 = format(converted_centoids[1][3], \".4f\")\n",
    "converted_centoids_25 = format(converted_centoids[1][4], \".4f\")\n",
    "converted_centoids_26 = format(converted_centoids[1][5], \".4f\")\n",
    "\n",
    "converted_centoids_3 = converted_centoids[2]\n",
    "converted_centoids_31 = format(converted_centoids[2][0], \".4f\")\n",
    "converted_centoids_32 = format(converted_centoids[2][1], \".4f\")\n",
    "converted_centoids_33 = format(converted_centoids[2][2], \".4f\")\n",
    "converted_centoids_34 = format(converted_centoids[2][3], \".4f\")\n",
    "converted_centoids_35 = format(converted_centoids[2][4], \".4f\")\n",
    "converted_centoids_36 = format(converted_centoids[2][5], \".4f\")\n",
    "\n",
    "converted_centoids_4 = converted_centoids[3]\n",
    "converted_centoids_41 = format(converted_centoids[3][0], \".4f\")\n",
    "converted_centoids_42 = format(converted_centoids[3][1], \".4f\")\n",
    "converted_centoids_43 = format(converted_centoids[3][2], \".4f\")\n",
    "converted_centoids_44 = format(converted_centoids[3][3], \".4f\")\n",
    "converted_centoids_45 = format(converted_centoids[3][4], \".4f\")\n",
    "converted_centoids_46 = format(converted_centoids[3][5], \".4f\")"
   ]
  },
  {
   "cell_type": "markdown",
   "metadata": {
    "variables": {
     "converted_centoids_11": "6211.9254",
     "converted_centoids_13": "4369.5655",
     "converted_centoids_16": "851.0398",
     "converted_centoids_21": "21372.1927",
     "converted_centoids_23": "4831.7105",
     "converted_centoids_25": "1060.8253"
    }
   },
   "source": [
    "These converted centoids can be used to represent five classified customer segments, along with their expenses under each feature.\n",
    "\n",
    "Observing the first row, we see that the first customer spends the most on 'Fresh', followed by 'Grocery', {{converted_centoids_11}} and {{converted_centoids_13}} respectively. The same customer spends the least on 'Delicatessen', {{converted_centoids_16}}. This customer has the lowest spend of all five customer segments.\n",
    "\n",
    "Observing the second row, we see that the second customer spends the most on 'Fresh', followed by 'Grocery', {{converted_centoids_21}} and {{converted_centoids_23}} respectively. The same customer spends the least on 'Detergents Paper', {{converted_centoids_25}}. This customer has the second highest spend of all five customer segments.\n",
    "\n",
    "Observing the third row, we see that the third customer spends the most on 'Grocery', followed by 'Milk'. Observing the fourth row,  we see that the fourth customer spends the most on 'Frozen', followed by 'Fresh'. And finally, observing the fifth row, we see that the fifth customer spends the most on 'Milk' followed by 'Detergents Paper'."
   ]
  },
  {
   "cell_type": "markdown",
   "metadata": {},
   "source": [
    "###Question 8"
   ]
  },
  {
   "cell_type": "markdown",
   "metadata": {},
   "source": [
    "Which of these techniques did you feel gave you the most insight into the data?"
   ]
  },
  {
   "cell_type": "markdown",
   "metadata": {},
   "source": [
    "####Answer"
   ]
  },
  {
   "cell_type": "markdown",
   "metadata": {},
   "source": [
    "The PCA data reduction technique in combination with K-means-clustering technique provided the most insight into the data. The PCA reduction technique was able to reduce the six features of the original dataset according to two components which maximize variance. This enabled the data to be clustered within a 2-dimensional space using a K-means-clustering technique.\n",
    "\n",
    "By clustering the data and forming a number of customer segments, the client can now better disaggregate their customers by spending behaviour. Follow on analysis may attempt to draw relationships between spending behaviors of these customer segments. For example, of those customers who have a high total spend, which type of product do they spend the most on?"
   ]
  },
  {
   "cell_type": "markdown",
   "metadata": {},
   "source": [
    "###Question 9"
   ]
  },
  {
   "cell_type": "markdown",
   "metadata": {},
   "source": [
    "How would you use that technique to help the company design new experiments?"
   ]
  },
  {
   "cell_type": "markdown",
   "metadata": {},
   "source": [
    "####Answer"
   ]
  },
  {
   "cell_type": "markdown",
   "metadata": {},
   "source": [
    "If the client had plans to introduce or retire delivery strategies in the future, he or she could use the customer segmentation provided by the K-means technique in order to focus efforts on that specific segment. For example, the client could test whether a change in delivery strategy was able to shift item preferences for low spending customer segments from one particular item to another. The ability to understand preferences of each customer segment can help drive customer delivery experiences and ultimately improve customer experience."
   ]
  },
  {
   "cell_type": "markdown",
   "metadata": {},
   "source": [
    "###Question 10"
   ]
  },
  {
   "cell_type": "markdown",
   "metadata": {},
   "source": [
    "How would you use that data to help you predict future customer needs?"
   ]
  },
  {
   "cell_type": "markdown",
   "metadata": {},
   "source": [
    "####Answer"
   ]
  },
  {
   "cell_type": "markdown",
   "metadata": {},
   "source": [
    "The client could for example, monitor changes in the spending behavior of each of these identified customer segments, and potentially introduce supervised learning techniques in order to predict changes in product demand. Doing so would provide the client with a competitive advantage in being able to lead changes (i.e. adjust inventories, investment and staff training) which suit shifting customer preferences."
   ]
  }
 ],
 "metadata": {
  "kernelspec": {
   "display_name": "Python 3",
   "language": "python",
   "name": "python3"
  },
  "language_info": {
   "codemirror_mode": {
    "name": "ipython",
    "version": 3
   },
   "file_extension": ".py",
   "mimetype": "text/x-python",
   "name": "python",
   "nbconvert_exporter": "python",
   "pygments_lexer": "ipython3",
   "version": "3.5.1"
  }
 },
 "nbformat": 4,
 "nbformat_minor": 0
}
