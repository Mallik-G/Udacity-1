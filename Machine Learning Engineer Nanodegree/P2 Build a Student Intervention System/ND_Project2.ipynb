{
 "cells": [
  {
   "cell_type": "code",
   "execution_count": 1,
   "metadata": {
    "collapsed": true
   },
   "outputs": [],
   "source": [
    "from __future__ import print_function"
   ]
  },
  {
   "cell_type": "code",
   "execution_count": 2,
   "metadata": {
    "collapsed": false
   },
   "outputs": [],
   "source": [
    "import notebook\n",
    "#notebook.nbextensions.check_nbextension(\"usability/python-markdown/\", user = True)\n",
    "E = notebook.nbextensions.EnableNBExtensionApp()\n",
    "E.enable_nbextension(\"usability/python-markdown/main\")"
   ]
  },
  {
   "cell_type": "code",
   "execution_count": 3,
   "metadata": {
    "collapsed": false
   },
   "outputs": [
    {
     "data": {
      "text/html": [
       "<script>\n",
       "code_show=true; \n",
       "function code_toggle() {\n",
       " if (code_show){\n",
       " $('div.input').hide();\n",
       " } else {\n",
       " $('div.input').show();\n",
       " }\n",
       " code_show = !code_show\n",
       "} \n",
       "$( document ).ready(code_toggle);\n",
       "</script>\n",
       "<form action=\"javascript:code_toggle()\"><input type=\"submit\" value=\"Click here to toggle on/off the raw code.\"></form>"
      ],
      "text/plain": [
       "<IPython.core.display.HTML object>"
      ]
     },
     "execution_count": 3,
     "metadata": {},
     "output_type": "execute_result"
    }
   ],
   "source": [
    "from IPython.display import HTML\n",
    "\n",
    "HTML('''<script>\n",
    "code_show=true; \n",
    "function code_toggle() {\n",
    " if (code_show){\n",
    " $('div.input').hide();\n",
    " } else {\n",
    " $('div.input').show();\n",
    " }\n",
    " code_show = !code_show\n",
    "} \n",
    "$( document ).ready(code_toggle);\n",
    "</script>\n",
    "<form action=\"javascript:code_toggle()\"><input type=\"submit\" value=\"Click here to toggle on/off the raw code.\"></form>''')"
   ]
  },
  {
   "cell_type": "markdown",
   "metadata": {},
   "source": [
    "#Machine Learning Engineer Nanodegree"
   ]
  },
  {
   "cell_type": "markdown",
   "metadata": {},
   "source": [
    "##Project 2: Build a Student Intervention System"
   ]
  },
  {
   "cell_type": "code",
   "execution_count": 4,
   "metadata": {
    "collapsed": true
   },
   "outputs": [],
   "source": [
    "import pandas as pd\n",
    "from sklearn import cross_validation\n",
    "\n",
    "student_data = pd.read_csv(\"student-data.csv\")\n",
    "\n",
    "feature_cols = list(student_data.columns[:-1])  # all columns but last are features\n",
    "target_col = student_data.columns[-1]  # last column is the target/label\n",
    "X_all = student_data[feature_cols]  # feature values for all students\n",
    "y_all = student_data[target_col]  # corresponding targets/labels\n",
    "\n",
    "def preprocess_features(X):\n",
    "    outX = pd.DataFrame(index=X.index)  # output dataframe, initially empty\n",
    "    for col, col_data in X.iteritems():\n",
    "        if col_data.dtype == object:\n",
    "            col_data = col_data.replace([\"yes\", \"no\"], [1, 0])\n",
    "        if col_data.dtype == object:\n",
    "            col_data = pd.get_dummies(col_data, prefix=col)  # e.g. 'school' => 'school_GP', 'school_MS'\n",
    "        outX = outX.join(col_data)  # collect column(s) in output dataframe\n",
    "\n",
    "    return outX\n",
    "\n",
    "X_all = preprocess_features(X_all)\n",
    "\n",
    "num_all = student_data.shape[0]  # same as len(student_data)\n",
    "num_train = 300  # about 76% of the data\n",
    "num_test = num_all - num_train\n",
    "\n",
    "def split_data(X_all, y_all, num_train):\n",
    "    X_train, X_test, y_train, y_test = cross_validation.train_test_split(X_all, y_all, train_size = num_train)\n",
    "    return X_train, y_train, X_test, y_test\n",
    "\n",
    "X_train, y_train, X_test, y_test = split_data(X_all, y_all, num_train = 0.76)"
   ]
  },
  {
   "cell_type": "markdown",
   "metadata": {},
   "source": [
    "###Introduction"
   ]
  },
  {
   "cell_type": "markdown",
   "metadata": {},
   "source": [
    "This documents presents the results for the second project within the Machine Learning Engineer Nanodegree program. This assessment required the student to leverage machine learning techniques in order to build a student intervention system which is able to predict when a student is likely to fail."
   ]
  },
  {
   "cell_type": "markdown",
   "metadata": {},
   "source": [
    "###Data"
   ]
  },
  {
   "cell_type": "code",
   "execution_count": 5,
   "metadata": {
    "collapsed": false
   },
   "outputs": [
    {
     "name": "stdout",
     "output_type": "stream",
     "text": [
      "Table 1: Dataset Statistics Table\n"
     ]
    },
    {
     "data": {
      "text/html": [
       "<div>\n",
       "<table border=\"1\" class=\"dataframe\">\n",
       "  <thead>\n",
       "    <tr style=\"text-align: right;\">\n",
       "      <th></th>\n",
       "      <th>Statistic</th>\n",
       "      <th>Value</th>\n",
       "    </tr>\n",
       "  </thead>\n",
       "  <tbody>\n",
       "    <tr>\n",
       "      <th>0</th>\n",
       "      <td>Total students</td>\n",
       "      <td>395</td>\n",
       "    </tr>\n",
       "    <tr>\n",
       "      <th>1</th>\n",
       "      <td>Total features</td>\n",
       "      <td>30</td>\n",
       "    </tr>\n",
       "    <tr>\n",
       "      <th>2</th>\n",
       "      <td>Passed students</td>\n",
       "      <td>265</td>\n",
       "    </tr>\n",
       "    <tr>\n",
       "      <th>3</th>\n",
       "      <td>Failed students</td>\n",
       "      <td>130</td>\n",
       "    </tr>\n",
       "    <tr>\n",
       "      <th>4</th>\n",
       "      <td>Graduation rate</td>\n",
       "      <td>67.09%</td>\n",
       "    </tr>\n",
       "  </tbody>\n",
       "</table>\n",
       "</div>"
      ],
      "text/plain": [
       "         Statistic   Value\n",
       "0   Total students     395\n",
       "1   Total features      30\n",
       "2  Passed students     265\n",
       "3  Failed students     130\n",
       "4  Graduation rate  67.09%"
      ]
     },
     "execution_count": 5,
     "metadata": {},
     "output_type": "execute_result"
    }
   ],
   "source": [
    "n_students = student_data.shape[0]\n",
    "n_features = student_data.shape[1]-1\n",
    "passed = student_data[\"passed\"].value_counts()\n",
    "n_passed = passed[\"yes\"]\n",
    "n_failed = passed[\"no\"]\n",
    "grad_rate = float(n_passed) / n_students\n",
    "grad_rate_fm = \"{0:.2f}%\".format(grad_rate * 100)\n",
    "\n",
    "list_stats = [[\"Total students\", n_students],\n",
    "              [\"Total features\", n_features],\n",
    "              [\"Passed students\", n_passed],\n",
    "              [\"Failed students\", n_failed],\n",
    "              [\"Graduation rate\", grad_rate_fm]]\n",
    "\n",
    "print(\"Table 1: Dataset Statistics Table\")\n",
    "df_results = pd.DataFrame(list_stats, columns = [\"Statistic\", \"Value\"])\n",
    "df_results"
   ]
  },
  {
   "cell_type": "markdown",
   "metadata": {
    "variables": {
     "grad_rate_fm": "67.09%",
     "n_failed": "130",
     "n_features": "30",
     "n_passed": "265",
     "n_students": "395"
    }
   },
   "source": [
    "This assessment uses data provided via the Udacity platform. There are {{n_students}} students and {{n_features}} features within the dataset. {{n_passed}} students passed, while {{n_failed}} students failed, making the graduation rate of the class {{grad_rate_fm}}."
   ]
  },
  {
   "cell_type": "markdown",
   "metadata": {},
   "source": [
    "###Question 1"
   ]
  },
  {
   "cell_type": "markdown",
   "metadata": {},
   "source": [
    "Which type of supervised machine learning problem is this, classification or regression? Why?"
   ]
  },
  {
   "cell_type": "markdown",
   "metadata": {},
   "source": [
    "####Answer"
   ]
  },
  {
   "cell_type": "markdown",
   "metadata": {},
   "source": [
    "Based on the provided dataset and desired output, this is a classification learning problem. Classification problems involve mapping to class labels (discrete), while regression problems involve mapping to continuous values. Since this problem involves classifiying students who need early intervention, it falls neatly within the definition of a classification learning problem."
   ]
  },
  {
   "cell_type": "markdown",
   "metadata": {},
   "source": [
    "###Question 2"
   ]
  },
  {
   "cell_type": "markdown",
   "metadata": {},
   "source": [
    "Choose 3 supervised learning models that are available in scikit-learn, and appropriate for this problem."
   ]
  },
  {
   "cell_type": "markdown",
   "metadata": {},
   "source": [
    "####Answer"
   ]
  },
  {
   "cell_type": "markdown",
   "metadata": {},
   "source": [
    "For this assessment, I selected three supervised learning models including, a Decision Tree classifier, Support Vector Machine classifier, and a KNeighbors classifier. Justification for selection of these models is provided as part of the answer to the next question. The scikit-learn models with default parameters are printed below."
   ]
  },
  {
   "cell_type": "code",
   "execution_count": 6,
   "metadata": {
    "collapsed": false
   },
   "outputs": [
    {
     "name": "stdout",
     "output_type": "stream",
     "text": [
      "DecisionTreeClassifier(class_weight=None, criterion='gini', max_depth=None,\n",
      "            max_features=None, max_leaf_nodes=None, min_samples_leaf=1,\n",
      "            min_samples_split=2, min_weight_fraction_leaf=0.0,\n",
      "            presort=False, random_state=None, splitter='best')\n",
      "\n",
      "\n",
      "SVC(C=1.0, cache_size=200, class_weight=None, coef0=0.0,\n",
      "  decision_function_shape=None, degree=3, gamma='auto', kernel='rbf',\n",
      "  max_iter=-1, probability=False, random_state=None, shrinking=True,\n",
      "  tol=0.001, verbose=False)\n",
      "\n",
      "\n",
      "KNeighborsClassifier(algorithm='auto', leaf_size=30, metric='minkowski',\n",
      "           metric_params=None, n_jobs=1, n_neighbors=5, p=2,\n",
      "           weights='uniform')\n"
     ]
    }
   ],
   "source": [
    "from sklearn import tree\n",
    "from sklearn.svm import SVC\n",
    "from sklearn.neighbors import KNeighborsClassifier\n",
    "\n",
    "dtc = tree.DecisionTreeClassifier()\n",
    "svc = SVC()\n",
    "knn = KNeighborsClassifier(algorithm = \"auto\")\n",
    "\n",
    "print(dtc)\n",
    "print(\"\\n\")\n",
    "print(svc)\n",
    "print(\"\\n\")\n",
    "print(knn)"
   ]
  },
  {
   "cell_type": "markdown",
   "metadata": {},
   "source": [
    "###Question 3"
   ]
  },
  {
   "cell_type": "markdown",
   "metadata": {},
   "source": [
    "For each model, what are the general applications of this model? What are its strengths and weaknesses?"
   ]
  },
  {
   "cell_type": "markdown",
   "metadata": {},
   "source": [
    "####Answer"
   ]
  },
  {
   "cell_type": "markdown",
   "metadata": {},
   "source": [
    "####Decision Tree"
   ]
  },
  {
   "cell_type": "markdown",
   "metadata": {},
   "source": [
    "According to <a href = \"http://scikit-learn.org/stable/modules/tree.html#tree\">scikit learn</a>, Decision Trees (DTs) are a non-parametric supervised learning method used for classification and regression. The goal is to create a model that predicts the value of a target variable by learning simple decision rules inferred from the data features.\n",
    "\n",
    "Strengths:\n",
    "    - Fast training and testing phases.\n",
    "    - Low memory usage.\n",
    "    - Simple to understand and interpret.\n",
    "    - Implicitly performs variable screening or feature selection.\n",
    "    \n",
    "Weaknesses:\n",
    "    - Has the tendency to overfit data."
   ]
  },
  {
   "cell_type": "markdown",
   "metadata": {},
   "source": [
    "####Support Vector Machine"
   ]
  },
  {
   "cell_type": "markdown",
   "metadata": {},
   "source": [
    "According to <a href = \"http://scikit-learn.org/stable/modules/svm.html#svm\">scikit learn</a>, Support Vector Machines (SVMs) are a set of supervised learning methods used for classification, regression and outliers detection. SVMs use a linear hyperplane in order to separate data point, but can also be used as a non-linear classified through the use of kernels.\n",
    "\n",
    "Strengths:\n",
    "    - Low memory usage, as it only needs to store a subset of the data to make predictions.\n",
    "    - SVM is effective in high dimensional spaces.\n",
    "    - Versatile, as the kernel allows expert knowledge of the problem to be built into the classifier.\n",
    "    \n",
    "Weaknesses:\n",
    "    - Slow training and testing phases."
   ]
  },
  {
   "cell_type": "markdown",
   "metadata": {},
   "source": [
    "####KNeighbors Neighbors"
   ]
  },
  {
   "cell_type": "markdown",
   "metadata": {},
   "source": [
    "According to <a href = \"http://scikit-learn.org/stable/modules/neighbors.html#neighbors\">scikit learn</a>, supervised neighbors-based learning methods come in two flavors: classification for data with discrete labels, and regression for data with continuous labels. The principle behind nearest neighbor methods is to find a predefined number of training samples closest in distance to the new point, and predict the label from these.\n",
    "\n",
    "Strengths:\n",
    "    - Fast training phase.\n",
    "    - Versatile, as it does not make any assumption about the underlying data distribution.\n",
    "    \n",
    "Weaknesses:\n",
    "    - Slow testing phase.\n",
    "    - High memory usage, as it requires storing all training data."
   ]
  },
  {
   "cell_type": "markdown",
   "metadata": {},
   "source": [
    "###Question 4"
   ]
  },
  {
   "cell_type": "markdown",
   "metadata": {},
   "source": [
    "For each model, given what you know about the data so far, why did you choose this model to apply?"
   ]
  },
  {
   "cell_type": "markdown",
   "metadata": {},
   "source": [
    "####Answer"
   ]
  },
  {
   "cell_type": "markdown",
   "metadata": {},
   "source": [
    "The DT based classifier was included due the CPU/memory constraints related to the problem, as it requires relatively low memory usage and delivers fast training and testing phases. The SVM based classifier was also included due to its relatively low memory usage. And the KNeighbors based classifier was included due to its versatility over varying dataset distributions."
   ]
  },
  {
   "cell_type": "markdown",
   "metadata": {},
   "source": [
    "###Question 5"
   ]
  },
  {
   "cell_type": "markdown",
   "metadata": {},
   "source": [
    "For each model, fit the model to the training data, try to predict labels (for both training and test sets), and measure the F1 score. Repeat this process with different training set sizes (100, 200, 300), keeping test set constant."
   ]
  },
  {
   "cell_type": "markdown",
   "metadata": {},
   "source": [
    "####Answer"
   ]
  },
  {
   "cell_type": "code",
   "execution_count": 7,
   "metadata": {
    "collapsed": false
   },
   "outputs": [],
   "source": [
    "import time\n",
    "import pandas as pd\n",
    "import numpy as np\n",
    "from sklearn.metrics import f1_score\n",
    "\n",
    "def train_classifier(clf, X_train, y_train):\n",
    "    start = time.time()\n",
    "    clf.fit(X_train, y_train)\n",
    "    end = time.time()\n",
    "    tim = end - start\n",
    "    return tim\n",
    "\n",
    "def predict_labels(clf, features, target):\n",
    "    start = time.time()\n",
    "    y_pred = clf.predict(features)\n",
    "    end = time.time()\n",
    "    tim = end - start\n",
    "    f1_scor = f1_score(target.values, y_pred, pos_label='yes')\n",
    "    return tim, f1_scor\n",
    "\n",
    "def create_dataset(clf, X_train, y_train, X_test, y_test):\n",
    "    sample_size = len(X_train)\n",
    "    classifier_time = train_classifier(clf, X_train, y_train)\n",
    "    train_time, train_f1 = predict_labels(clf, X_train, y_train)\n",
    "    test_time, test_f1 = predict_labels(clf, X_test, y_test)\n",
    "    dataset = [clf, sample_size, classifier_time, train_time, train_f1, test_time, test_f1]\n",
    "    return dataset\n",
    "\n",
    "def create_df(clf):\n",
    "    samples = []\n",
    "    for size in [100, 200, 300]:\n",
    "        x_sample = X_train.sample(size,random_state = np.random.RandomState())\n",
    "        y_sample = y_train[x_sample.index]\n",
    "        samples.append((x_sample, y_sample))\n",
    "    \n",
    "    resultcols = [\"classifier\",\n",
    "                  \"sampleSize\",\n",
    "                  \"classifierTime\",\n",
    "                  \"trainTime\",\n",
    "                  \"trainf1Score\",\n",
    "                  \"testTime\",\n",
    "                  \"testf1Score\"]\n",
    "\n",
    "    df_results = pd.DataFrame([])\n",
    "    \n",
    "    i = 0\n",
    "    for x_sample, y_sample in samples:\n",
    "        dataset = create_dataset(clf, x_sample, y_sample, X_test, y_test)\n",
    "        df_temp = pd.DataFrame([[str(dataset[0]).split(\"(\",1)[0],\n",
    "                                 dataset[1],\n",
    "                                format(dataset[2], \".4f\"),\n",
    "                                format(dataset[3], \".4f\"),\n",
    "                                format(dataset[4], \".2f\"),\n",
    "                                format(dataset[5], \".4f\"),\n",
    "                                format(dataset[6], \".2f\")]], \n",
    "                               index = [i], columns = resultcols)\n",
    "        df_results = df_results.append(df_temp)\n",
    "        i += 1\n",
    "        \n",
    "    return df_results"
   ]
  },
  {
   "cell_type": "markdown",
   "metadata": {},
   "source": [
    "####Decision Tree Classifier"
   ]
  },
  {
   "cell_type": "markdown",
   "metadata": {},
   "source": [
    "The classifier parameters and results are shown below."
   ]
  },
  {
   "cell_type": "code",
   "execution_count": 8,
   "metadata": {
    "collapsed": false
   },
   "outputs": [
    {
     "name": "stdout",
     "output_type": "stream",
     "text": [
      "DecisionTreeClassifier(class_weight=None, criterion='gini', max_depth=None,\n",
      "            max_features=None, max_leaf_nodes=None, min_samples_leaf=1,\n",
      "            min_samples_split=2, min_weight_fraction_leaf=0.0,\n",
      "            presort=False, random_state=None, splitter='best')\n"
     ]
    },
    {
     "data": {
      "text/html": [
       "<div>\n",
       "<table border=\"1\" class=\"dataframe\">\n",
       "  <thead>\n",
       "    <tr style=\"text-align: right;\">\n",
       "      <th></th>\n",
       "      <th>classifier</th>\n",
       "      <th>sampleSize</th>\n",
       "      <th>classifierTime</th>\n",
       "      <th>trainTime</th>\n",
       "      <th>trainf1Score</th>\n",
       "      <th>testTime</th>\n",
       "      <th>testf1Score</th>\n",
       "    </tr>\n",
       "  </thead>\n",
       "  <tbody>\n",
       "    <tr>\n",
       "      <th>0</th>\n",
       "      <td>DecisionTreeClassifier</td>\n",
       "      <td>100</td>\n",
       "      <td>0.0010</td>\n",
       "      <td>0.0010</td>\n",
       "      <td>1.00</td>\n",
       "      <td>0.0000</td>\n",
       "      <td>0.69</td>\n",
       "    </tr>\n",
       "    <tr>\n",
       "      <th>1</th>\n",
       "      <td>DecisionTreeClassifier</td>\n",
       "      <td>200</td>\n",
       "      <td>0.0010</td>\n",
       "      <td>0.0000</td>\n",
       "      <td>1.00</td>\n",
       "      <td>0.0010</td>\n",
       "      <td>0.77</td>\n",
       "    </tr>\n",
       "    <tr>\n",
       "      <th>2</th>\n",
       "      <td>DecisionTreeClassifier</td>\n",
       "      <td>300</td>\n",
       "      <td>0.0020</td>\n",
       "      <td>0.0010</td>\n",
       "      <td>1.00</td>\n",
       "      <td>0.0000</td>\n",
       "      <td>0.64</td>\n",
       "    </tr>\n",
       "  </tbody>\n",
       "</table>\n",
       "</div>"
      ],
      "text/plain": [
       "               classifier  sampleSize classifierTime trainTime trainf1Score  \\\n",
       "0  DecisionTreeClassifier         100         0.0010    0.0010         1.00   \n",
       "1  DecisionTreeClassifier         200         0.0010    0.0000         1.00   \n",
       "2  DecisionTreeClassifier         300         0.0020    0.0010         1.00   \n",
       "\n",
       "  testTime testf1Score  \n",
       "0   0.0000        0.69  \n",
       "1   0.0010        0.77  \n",
       "2   0.0000        0.64  "
      ]
     },
     "execution_count": 8,
     "metadata": {},
     "output_type": "execute_result"
    }
   ],
   "source": [
    "print(dtc)\n",
    "df_dtc_results = create_df(dtc)\n",
    "df_dtc_results"
   ]
  },
  {
   "cell_type": "markdown",
   "metadata": {},
   "source": [
    "####C-Support Vector Classification"
   ]
  },
  {
   "cell_type": "markdown",
   "metadata": {},
   "source": [
    "The classifier parameters and results are shown below."
   ]
  },
  {
   "cell_type": "code",
   "execution_count": 9,
   "metadata": {
    "collapsed": false
   },
   "outputs": [
    {
     "name": "stdout",
     "output_type": "stream",
     "text": [
      "SVC(C=1.0, cache_size=200, class_weight=None, coef0=0.0,\n",
      "  decision_function_shape=None, degree=3, gamma='auto', kernel='rbf',\n",
      "  max_iter=-1, probability=False, random_state=None, shrinking=True,\n",
      "  tol=0.001, verbose=False)\n"
     ]
    },
    {
     "data": {
      "text/html": [
       "<div>\n",
       "<table border=\"1\" class=\"dataframe\">\n",
       "  <thead>\n",
       "    <tr style=\"text-align: right;\">\n",
       "      <th></th>\n",
       "      <th>classifier</th>\n",
       "      <th>sampleSize</th>\n",
       "      <th>classifierTime</th>\n",
       "      <th>trainTime</th>\n",
       "      <th>trainf1Score</th>\n",
       "      <th>testTime</th>\n",
       "      <th>testf1Score</th>\n",
       "    </tr>\n",
       "  </thead>\n",
       "  <tbody>\n",
       "    <tr>\n",
       "      <th>0</th>\n",
       "      <td>SVC</td>\n",
       "      <td>100</td>\n",
       "      <td>0.0010</td>\n",
       "      <td>0.0010</td>\n",
       "      <td>0.87</td>\n",
       "      <td>0.0010</td>\n",
       "      <td>0.72</td>\n",
       "    </tr>\n",
       "    <tr>\n",
       "      <th>1</th>\n",
       "      <td>SVC</td>\n",
       "      <td>200</td>\n",
       "      <td>0.0040</td>\n",
       "      <td>0.0020</td>\n",
       "      <td>0.87</td>\n",
       "      <td>0.0010</td>\n",
       "      <td>0.77</td>\n",
       "    </tr>\n",
       "    <tr>\n",
       "      <th>2</th>\n",
       "      <td>SVC</td>\n",
       "      <td>300</td>\n",
       "      <td>0.0070</td>\n",
       "      <td>0.0050</td>\n",
       "      <td>0.88</td>\n",
       "      <td>0.0020</td>\n",
       "      <td>0.78</td>\n",
       "    </tr>\n",
       "  </tbody>\n",
       "</table>\n",
       "</div>"
      ],
      "text/plain": [
       "  classifier  sampleSize classifierTime trainTime trainf1Score testTime  \\\n",
       "0        SVC         100         0.0010    0.0010         0.87   0.0010   \n",
       "1        SVC         200         0.0040    0.0020         0.87   0.0010   \n",
       "2        SVC         300         0.0070    0.0050         0.88   0.0020   \n",
       "\n",
       "  testf1Score  \n",
       "0        0.72  \n",
       "1        0.77  \n",
       "2        0.78  "
      ]
     },
     "execution_count": 9,
     "metadata": {},
     "output_type": "execute_result"
    }
   ],
   "source": [
    "print(svc)\n",
    "df_svc_results = create_df(svc)\n",
    "df_svc_results"
   ]
  },
  {
   "cell_type": "markdown",
   "metadata": {},
   "source": [
    "####KNeighbors Classifier"
   ]
  },
  {
   "cell_type": "markdown",
   "metadata": {},
   "source": [
    "The classifier parameters and results are shown below."
   ]
  },
  {
   "cell_type": "code",
   "execution_count": 10,
   "metadata": {
    "collapsed": false
   },
   "outputs": [
    {
     "name": "stdout",
     "output_type": "stream",
     "text": [
      "KNeighborsClassifier(algorithm='auto', leaf_size=30, metric='minkowski',\n",
      "           metric_params=None, n_jobs=1, n_neighbors=5, p=2,\n",
      "           weights='uniform')\n"
     ]
    },
    {
     "data": {
      "text/html": [
       "<div>\n",
       "<table border=\"1\" class=\"dataframe\">\n",
       "  <thead>\n",
       "    <tr style=\"text-align: right;\">\n",
       "      <th></th>\n",
       "      <th>classifier</th>\n",
       "      <th>sampleSize</th>\n",
       "      <th>classifierTime</th>\n",
       "      <th>trainTime</th>\n",
       "      <th>trainf1Score</th>\n",
       "      <th>testTime</th>\n",
       "      <th>testf1Score</th>\n",
       "    </tr>\n",
       "  </thead>\n",
       "  <tbody>\n",
       "    <tr>\n",
       "      <th>0</th>\n",
       "      <td>KNeighborsClassifier</td>\n",
       "      <td>100</td>\n",
       "      <td>0.0000</td>\n",
       "      <td>0.0020</td>\n",
       "      <td>0.82</td>\n",
       "      <td>0.0010</td>\n",
       "      <td>0.73</td>\n",
       "    </tr>\n",
       "    <tr>\n",
       "      <th>1</th>\n",
       "      <td>KNeighborsClassifier</td>\n",
       "      <td>200</td>\n",
       "      <td>0.0010</td>\n",
       "      <td>0.0030</td>\n",
       "      <td>0.86</td>\n",
       "      <td>0.0020</td>\n",
       "      <td>0.78</td>\n",
       "    </tr>\n",
       "    <tr>\n",
       "      <th>2</th>\n",
       "      <td>KNeighborsClassifier</td>\n",
       "      <td>300</td>\n",
       "      <td>0.0010</td>\n",
       "      <td>0.0060</td>\n",
       "      <td>0.87</td>\n",
       "      <td>0.0020</td>\n",
       "      <td>0.77</td>\n",
       "    </tr>\n",
       "  </tbody>\n",
       "</table>\n",
       "</div>"
      ],
      "text/plain": [
       "             classifier  sampleSize classifierTime trainTime trainf1Score  \\\n",
       "0  KNeighborsClassifier         100         0.0000    0.0020         0.82   \n",
       "1  KNeighborsClassifier         200         0.0010    0.0030         0.86   \n",
       "2  KNeighborsClassifier         300         0.0010    0.0060         0.87   \n",
       "\n",
       "  testTime testf1Score  \n",
       "0   0.0010        0.73  \n",
       "1   0.0020        0.78  \n",
       "2   0.0020        0.77  "
      ]
     },
     "execution_count": 10,
     "metadata": {},
     "output_type": "execute_result"
    }
   ],
   "source": [
    "print(knn)\n",
    "df_knn_results = create_df(knn)\n",
    "df_knn_results"
   ]
  },
  {
   "cell_type": "markdown",
   "metadata": {},
   "source": [
    "###Question 6"
   ]
  },
  {
   "cell_type": "markdown",
   "metadata": {},
   "source": [
    "Which model has the best test F1 score and time efficiency?"
   ]
  },
  {
   "cell_type": "markdown",
   "metadata": {},
   "source": [
    "####Answer"
   ]
  },
  {
   "cell_type": "markdown",
   "metadata": {},
   "source": [
    "The full set of results for each classifier is shown below, sorted according to the test time and test F1 score."
   ]
  },
  {
   "cell_type": "code",
   "execution_count": 11,
   "metadata": {
    "collapsed": false
   },
   "outputs": [
    {
     "data": {
      "text/html": [
       "<div>\n",
       "<table border=\"1\" class=\"dataframe\">\n",
       "  <thead>\n",
       "    <tr style=\"text-align: right;\">\n",
       "      <th></th>\n",
       "      <th>classifier</th>\n",
       "      <th>sampleSize</th>\n",
       "      <th>classifierTime</th>\n",
       "      <th>trainTime</th>\n",
       "      <th>trainf1Score</th>\n",
       "      <th>testTime</th>\n",
       "      <th>testf1Score</th>\n",
       "    </tr>\n",
       "  </thead>\n",
       "  <tbody>\n",
       "    <tr>\n",
       "      <th>0</th>\n",
       "      <td>DecisionTreeClassifier</td>\n",
       "      <td>100</td>\n",
       "      <td>0.0010</td>\n",
       "      <td>0.0010</td>\n",
       "      <td>1.00</td>\n",
       "      <td>0.0000</td>\n",
       "      <td>0.69</td>\n",
       "    </tr>\n",
       "    <tr>\n",
       "      <th>2</th>\n",
       "      <td>DecisionTreeClassifier</td>\n",
       "      <td>300</td>\n",
       "      <td>0.0020</td>\n",
       "      <td>0.0010</td>\n",
       "      <td>1.00</td>\n",
       "      <td>0.0000</td>\n",
       "      <td>0.64</td>\n",
       "    </tr>\n",
       "    <tr>\n",
       "      <th>1</th>\n",
       "      <td>DecisionTreeClassifier</td>\n",
       "      <td>200</td>\n",
       "      <td>0.0010</td>\n",
       "      <td>0.0000</td>\n",
       "      <td>1.00</td>\n",
       "      <td>0.0010</td>\n",
       "      <td>0.77</td>\n",
       "    </tr>\n",
       "    <tr>\n",
       "      <th>1</th>\n",
       "      <td>SVC</td>\n",
       "      <td>200</td>\n",
       "      <td>0.0040</td>\n",
       "      <td>0.0020</td>\n",
       "      <td>0.87</td>\n",
       "      <td>0.0010</td>\n",
       "      <td>0.77</td>\n",
       "    </tr>\n",
       "    <tr>\n",
       "      <th>0</th>\n",
       "      <td>KNeighborsClassifier</td>\n",
       "      <td>100</td>\n",
       "      <td>0.0000</td>\n",
       "      <td>0.0020</td>\n",
       "      <td>0.82</td>\n",
       "      <td>0.0010</td>\n",
       "      <td>0.73</td>\n",
       "    </tr>\n",
       "    <tr>\n",
       "      <th>0</th>\n",
       "      <td>SVC</td>\n",
       "      <td>100</td>\n",
       "      <td>0.0010</td>\n",
       "      <td>0.0010</td>\n",
       "      <td>0.87</td>\n",
       "      <td>0.0010</td>\n",
       "      <td>0.72</td>\n",
       "    </tr>\n",
       "    <tr>\n",
       "      <th>2</th>\n",
       "      <td>SVC</td>\n",
       "      <td>300</td>\n",
       "      <td>0.0070</td>\n",
       "      <td>0.0050</td>\n",
       "      <td>0.88</td>\n",
       "      <td>0.0020</td>\n",
       "      <td>0.78</td>\n",
       "    </tr>\n",
       "    <tr>\n",
       "      <th>1</th>\n",
       "      <td>KNeighborsClassifier</td>\n",
       "      <td>200</td>\n",
       "      <td>0.0010</td>\n",
       "      <td>0.0030</td>\n",
       "      <td>0.86</td>\n",
       "      <td>0.0020</td>\n",
       "      <td>0.78</td>\n",
       "    </tr>\n",
       "    <tr>\n",
       "      <th>2</th>\n",
       "      <td>KNeighborsClassifier</td>\n",
       "      <td>300</td>\n",
       "      <td>0.0010</td>\n",
       "      <td>0.0060</td>\n",
       "      <td>0.87</td>\n",
       "      <td>0.0020</td>\n",
       "      <td>0.77</td>\n",
       "    </tr>\n",
       "  </tbody>\n",
       "</table>\n",
       "</div>"
      ],
      "text/plain": [
       "               classifier  sampleSize classifierTime trainTime trainf1Score  \\\n",
       "0  DecisionTreeClassifier         100         0.0010    0.0010         1.00   \n",
       "2  DecisionTreeClassifier         300         0.0020    0.0010         1.00   \n",
       "1  DecisionTreeClassifier         200         0.0010    0.0000         1.00   \n",
       "1                     SVC         200         0.0040    0.0020         0.87   \n",
       "0    KNeighborsClassifier         100         0.0000    0.0020         0.82   \n",
       "0                     SVC         100         0.0010    0.0010         0.87   \n",
       "2                     SVC         300         0.0070    0.0050         0.88   \n",
       "1    KNeighborsClassifier         200         0.0010    0.0030         0.86   \n",
       "2    KNeighborsClassifier         300         0.0010    0.0060         0.87   \n",
       "\n",
       "  testTime testf1Score  \n",
       "0   0.0000        0.69  \n",
       "2   0.0000        0.64  \n",
       "1   0.0010        0.77  \n",
       "1   0.0010        0.77  \n",
       "0   0.0010        0.73  \n",
       "0   0.0010        0.72  \n",
       "2   0.0020        0.78  \n",
       "1   0.0020        0.78  \n",
       "2   0.0020        0.77  "
      ]
     },
     "execution_count": 11,
     "metadata": {},
     "output_type": "execute_result"
    }
   ],
   "source": [
    "import pandas as pd\n",
    "\n",
    "df_results = pd.DataFrame([])\n",
    "df_results = df_results.append(df_dtc_results)\n",
    "df_results = df_results.append(df_svc_results)\n",
    "df_results = df_results.append(df_knn_results)\n",
    "df_results.sort_values(by = [\"testTime\", \"testf1Score\"], ascending = [True, False])"
   ]
  },
  {
   "cell_type": "markdown",
   "metadata": {},
   "source": [
    "The DT based classifier looks to have overfitted the training data, producing a F1 score of 1.00 for all sample sizes. However, this classifier does produce quite low test times and high F1 scores. The SVM based classifier (SVC) with a sample size of 100 or 200 has both a low test time and relatively high test F1 score. Finally, the KNeighbours based classifier, although producing average test F1 scores, suffers from a high test time."
   ]
  },
  {
   "cell_type": "markdown",
   "metadata": {},
   "source": [
    "###Question 7"
   ]
  },
  {
   "cell_type": "markdown",
   "metadata": {},
   "source": [
    "Which model is generally the most appropriate based on the available data, limited resources, cost, and performance?"
   ]
  },
  {
   "cell_type": "markdown",
   "metadata": {},
   "source": [
    "####Answer"
   ]
  },
  {
   "cell_type": "markdown",
   "metadata": {},
   "source": [
    "Although the DT based classifier has produced superior test times and scores, its training results suggests that is has overfit the data. When considering the remaining two classifiers, it seems that the SVM based classifier has superior performance when applied to this particular dataset, both in terms to test time and test F1 score."
   ]
  },
  {
   "cell_type": "markdown",
   "metadata": {},
   "source": [
    "###Question 8"
   ]
  },
  {
   "cell_type": "markdown",
   "metadata": {},
   "source": [
    "Explain to the board of supervisors in layman’s terms how the final model chosen is supposed to work."
   ]
  },
  {
   "cell_type": "markdown",
   "metadata": {},
   "source": [
    "####Answer"
   ]
  },
  {
   "cell_type": "markdown",
   "metadata": {},
   "source": [
    "A SVM based classifier works by trying to build a hyperplane between points of two different classes with the highest margin. It does this by searching for the closest points between classess of data which it calls 'support vectors'. Once the closest points are found, SVM draws a line connecting them and declares the best separating line between classess as a perpendicular boundary to the connecting line. See the image below (<a href = \"http://www.robots.ox.ac.uk/~cvrg/bennett00duality.pdf\">ref</a>)."
   ]
  },
  {
   "cell_type": "code",
   "execution_count": 12,
   "metadata": {
    "collapsed": false
   },
   "outputs": [
    {
     "data": {
      "image/png": "[encoded data removed]",
      "text/plain": [
       "<IPython.core.display.Image object>"
      ]
     },
     "execution_count": 12,
     "metadata": {},
     "output_type": "execute_result"
    }
   ],
   "source": [
    "from IPython.display import Image\n",
    "\n",
    "Image(filename = \"data/svm_01.png\")"
   ]
  },
  {
   "cell_type": "markdown",
   "metadata": {},
   "source": [
    "If such as plane is not easy to find, it uses a kernal trick to bend the shape of the data environment, such that the hyperplane between points become easier to identify. Once hyperplanes are built between points, the classifier simply determines which side of the plane the point falls on, and classifies similar points within that category."
   ]
  },
  {
   "cell_type": "markdown",
   "metadata": {},
   "source": [
    "###Question 9"
   ]
  },
  {
   "cell_type": "markdown",
   "metadata": {},
   "source": [
    "For the final model, use gridsearch with at least one important parameter tuned and with at least 3 settings. Use the entire training set for this."
   ]
  },
  {
   "cell_type": "markdown",
   "metadata": {},
   "source": [
    "####Answer"
   ]
  },
  {
   "cell_type": "markdown",
   "metadata": {},
   "source": [
    "The SVM based classifier was passed to a GridSearchCV algorithm with the following parameter grid:\n",
    "\n",
    "    {\"kernel\": [\"linear\", \"poly\", \"rbf\"],\n",
    "    \"C\": [0.1, 1, 10], \n",
    "    \"cache_size\": [100, 200, 300],\n",
    "    \"gamma\": [0.0, 0.001, 0.0001, \"auto\"]}\n",
    "\n",
    "Descriptions of each of these parameters can be found on <a href = \"http://scikit-learn.org/stable/modules/generated/sklearn.svm.SVC.html#sklearn.svm.SVC\">scikit learn</a>:\n",
    "    - kernel: Specifies the kernel type to be used in the algorithm.\n",
    "    - C: Penalty parameter C of the error term.\n",
    "    - cache_size: Size of the kernel cache (in MB).\n",
    "    - gamma: Kernel coefficient. If gamma is ‘auto’ then 1/n_features will be used instead.\n",
    "\n",
    "The final tuned parameter set is shown below."
   ]
  },
  {
   "cell_type": "code",
   "execution_count": 13,
   "metadata": {
    "collapsed": false
   },
   "outputs": [
    {
     "name": "stdout",
     "output_type": "stream",
     "text": [
      "SVC(C=1, cache_size=100, class_weight=None, coef0=0.0,\n",
      "  decision_function_shape=None, degree=3, gamma=0.0, kernel='linear',\n",
      "  max_iter=-1, probability=False, random_state=None, shrinking=True,\n",
      "  tol=0.001, verbose=False)\n"
     ]
    }
   ],
   "source": [
    "from sklearn.metrics import f1_score, make_scorer\n",
    "from sklearn import grid_search\n",
    "\n",
    "svc = SVC()\n",
    "parameters = [\n",
    "  {\"kernel\": [\"linear\", \"poly\", \"rbf\"],\n",
    "   \"C\": [0.1, 1, 10], \n",
    "   \"cache_size\": [100, 200, 300],\n",
    "   \"gamma\": [0.0, 0.001, 0.0001, \"auto\"]}\n",
    "]\n",
    "scoring_function = make_scorer(f1_score, pos_label = \"yes\")\n",
    "\n",
    "reg = grid_search.GridSearchCV(svc, param_grid = parameters, scoring = scoring_function)\n",
    "reg.fit(X_train, y_train)\n",
    "\n",
    "best_est = reg.best_estimator_\n",
    "print(best_est)"
   ]
  },
  {
   "cell_type": "markdown",
   "metadata": {},
   "source": [
    "Comparing the final set of parameters to the default cache size of 200 to 100, and a default gamma of 'auto' to 0.0. "
   ]
  },
  {
   "cell_type": "markdown",
   "metadata": {},
   "source": [
    "###Question 10"
   ]
  },
  {
   "cell_type": "markdown",
   "metadata": {},
   "source": [
    "For the final model, what is the model’s final F1 score?"
   ]
  },
  {
   "cell_type": "markdown",
   "metadata": {},
   "source": [
    "####Answer"
   ]
  },
  {
   "cell_type": "markdown",
   "metadata": {},
   "source": [
    "The full set of results for SVM based classifier, both with and without parameter optimization is shown below, sorted according to the test time and test F1 score."
   ]
  },
  {
   "cell_type": "code",
   "execution_count": 14,
   "metadata": {
    "collapsed": false
   },
   "outputs": [
    {
     "data": {
      "text/html": [
       "<div>\n",
       "<table border=\"1\" class=\"dataframe\">\n",
       "  <thead>\n",
       "    <tr style=\"text-align: right;\">\n",
       "      <th></th>\n",
       "      <th>classifier</th>\n",
       "      <th>sampleSize</th>\n",
       "      <th>classifierTime</th>\n",
       "      <th>trainTime</th>\n",
       "      <th>trainf1Score</th>\n",
       "      <th>testTime</th>\n",
       "      <th>testf1Score</th>\n",
       "      <th>GridSearchCV</th>\n",
       "    </tr>\n",
       "  </thead>\n",
       "  <tbody>\n",
       "    <tr>\n",
       "      <th>1</th>\n",
       "      <td>SVC</td>\n",
       "      <td>200</td>\n",
       "      <td>0.0200</td>\n",
       "      <td>0.0020</td>\n",
       "      <td>0.88</td>\n",
       "      <td>0.0000</td>\n",
       "      <td>0.72</td>\n",
       "      <td>1</td>\n",
       "    </tr>\n",
       "    <tr>\n",
       "      <th>0</th>\n",
       "      <td>SVC</td>\n",
       "      <td>100</td>\n",
       "      <td>0.0080</td>\n",
       "      <td>0.0000</td>\n",
       "      <td>0.91</td>\n",
       "      <td>0.0000</td>\n",
       "      <td>0.64</td>\n",
       "      <td>1</td>\n",
       "    </tr>\n",
       "    <tr>\n",
       "      <th>1</th>\n",
       "      <td>SVC</td>\n",
       "      <td>200</td>\n",
       "      <td>0.0040</td>\n",
       "      <td>0.0020</td>\n",
       "      <td>0.87</td>\n",
       "      <td>0.0010</td>\n",
       "      <td>0.77</td>\n",
       "      <td>0</td>\n",
       "    </tr>\n",
       "    <tr>\n",
       "      <th>0</th>\n",
       "      <td>SVC</td>\n",
       "      <td>100</td>\n",
       "      <td>0.0010</td>\n",
       "      <td>0.0010</td>\n",
       "      <td>0.87</td>\n",
       "      <td>0.0010</td>\n",
       "      <td>0.72</td>\n",
       "      <td>0</td>\n",
       "    </tr>\n",
       "    <tr>\n",
       "      <th>2</th>\n",
       "      <td>SVC</td>\n",
       "      <td>300</td>\n",
       "      <td>0.0780</td>\n",
       "      <td>0.0020</td>\n",
       "      <td>0.87</td>\n",
       "      <td>0.0010</td>\n",
       "      <td>0.69</td>\n",
       "      <td>1</td>\n",
       "    </tr>\n",
       "    <tr>\n",
       "      <th>2</th>\n",
       "      <td>SVC</td>\n",
       "      <td>300</td>\n",
       "      <td>0.0070</td>\n",
       "      <td>0.0050</td>\n",
       "      <td>0.88</td>\n",
       "      <td>0.0020</td>\n",
       "      <td>0.78</td>\n",
       "      <td>0</td>\n",
       "    </tr>\n",
       "  </tbody>\n",
       "</table>\n",
       "</div>"
      ],
      "text/plain": [
       "  classifier  sampleSize classifierTime trainTime trainf1Score testTime  \\\n",
       "1        SVC         200         0.0200    0.0020         0.88   0.0000   \n",
       "0        SVC         100         0.0080    0.0000         0.91   0.0000   \n",
       "1        SVC         200         0.0040    0.0020         0.87   0.0010   \n",
       "0        SVC         100         0.0010    0.0010         0.87   0.0010   \n",
       "2        SVC         300         0.0780    0.0020         0.87   0.0010   \n",
       "2        SVC         300         0.0070    0.0050         0.88   0.0020   \n",
       "\n",
       "  testf1Score  GridSearchCV  \n",
       "1        0.72             1  \n",
       "0        0.64             1  \n",
       "1        0.77             0  \n",
       "0        0.72             0  \n",
       "2        0.69             1  \n",
       "2        0.78             0  "
      ]
     },
     "execution_count": 14,
     "metadata": {},
     "output_type": "execute_result"
    }
   ],
   "source": [
    "bestdf_svc_results = create_df(best_est)\n",
    "bestdf_svc_results[\"GridSearchCV\"] = 1\n",
    "df_svc_results[\"GridSearchCV\"] = 0\n",
    "\n",
    "df_results = pd.DataFrame([])\n",
    "df_results = df_results.append(bestdf_svc_results)\n",
    "df_results = df_results.append(df_svc_results)\n",
    "df_results.sort_values(by = [\"testTime\", \"testf1Score\"], ascending = [True, False])"
   ]
  },
  {
   "cell_type": "markdown",
   "metadata": {},
   "source": [
    "As it can be seen, the optimized parameter set has made a slight improvement to the test time and test F1 score over all sample sizes. Do note that the GridSearchCV algorithm was run using the full dataset."
   ]
  }
 ],
 "metadata": {
  "kernelspec": {
   "display_name": "Python 3",
   "language": "python",
   "name": "python3"
  },
  "language_info": {
   "codemirror_mode": {
    "name": "ipython",
    "version": 3
   },
   "file_extension": ".py",
   "mimetype": "text/x-python",
   "name": "python",
   "nbconvert_exporter": "python",
   "pygments_lexer": "ipython3",
   "version": "3.5.1"
  }
 },
 "nbformat": 4,
 "nbformat_minor": 0
}
