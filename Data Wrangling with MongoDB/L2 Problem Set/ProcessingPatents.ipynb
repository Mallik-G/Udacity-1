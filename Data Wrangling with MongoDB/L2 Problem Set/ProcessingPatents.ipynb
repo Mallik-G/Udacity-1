{
 "cells": [
  {
   "cell_type": "code",
   "execution_count": 1,
   "metadata": {
    "collapsed": true
   },
   "outputs": [],
   "source": [
    "#!/usr/bin/env python\n",
    "# -*- coding: utf-8 -*-\n",
    "# So, the problem is that the gigantic file is actually not a valid XML, because\n",
    "# it has several root elements, and XML declarations.\n",
    "# It is, a matter of fact, a collection of a lot of concatenated XML documents.\n",
    "# So, one solution would be to split the file into separate documents,\n",
    "# so that you can process the resulting files as valid XML documents.\n",
    "\n",
    "import xml.etree.ElementTree as ET\n",
    "PATENTS = 'patent.data'\n",
    "\n",
    "def get_root(fname):\n",
    "    tree = ET.parse(fname)\n",
    "    return tree.getroot()\n",
    "\n",
    "\n",
    "def split_file(filename):\n",
    "    # we want you to split the input file into separate files\n",
    "    # each containing a single patent.\n",
    "    # As a hint - each patent declaration starts with the same line that was causing the error\n",
    "    # The new files should be saved with filename in the following format:\n",
    "    # \"{}-{}\".format(filename, n) where n is a counter, starting from 0.\n",
    "\n",
    "    pass\n",
    "\n",
    "\n",
    "def test():\n",
    "    split_file(PATENTS)\n",
    "    for n in range(4):\n",
    "        try:\n",
    "            fname = \"{}-{}\".format(PATENTS, n)\n",
    "            f = open(fname, \"r\")\n",
    "            if not f.readline().startswith(\"<?xml\"):\n",
    "                print \"You have not split the file {} in the correct boundary!\".format(fname)\n",
    "            f.close()\n",
    "        except:\n",
    "            print \"Could not find file {}. Check if the filename is correct!\".format(fname)\n",
    "\n",
    "\n",
    "test()"
   ]
  },
  {
   "cell_type": "code",
   "execution_count": 4,
   "metadata": {
    "collapsed": false,
    "scrolled": true
   },
   "outputs": [
    {
     "name": "stdout",
     "output_type": "stream",
     "text": [
      "Passed.\n"
     ]
    }
   ],
   "source": [
    "#!/usr/bin/env python\n",
    "# -*- coding: utf-8 -*-\n",
    "# So, the problem is that the gigantic file is actually not a valid XML, because\n",
    "# it has several root elements, and XML declarations.\n",
    "# It is, a matter of fact, a collection of a lot of concatenated XML documents.\n",
    "# So, one solution would be to split the file into separate documents,\n",
    "# so that you can process the resulting files as valid XML documents.\n",
    "\n",
    "import xml.etree.ElementTree as ET\n",
    "\n",
    "PATENTS = 'data/patent.data'\n",
    "\n",
    "\n",
    "def get_root(fname):\n",
    "    tree = ET.parse(fname)\n",
    "    return tree.getroot()\n",
    "\n",
    "\n",
    "def split_file(filename):\n",
    "    # we want you to split the input file into separate files\n",
    "    # each containing a single patent.\n",
    "    # As a hint - each patent declaration starts with the same line that was causing the error\n",
    "    # The new files should be saved with filename in the following format:\n",
    "    # \"{}-{}\".format(filename, n) where n is a counter, starting from 0.\n",
    "\n",
    "    output = []\n",
    "    data = {}\n",
    "\n",
    "    f = open(filename)\n",
    "    count = 0\n",
    "    file_number = 0\n",
    "\n",
    "    output.append(f.readline())\n",
    "\n",
    "    for line in f.readlines():\n",
    "\n",
    "        if line.startswith(\"<?xml\"):\n",
    "            data[\"data/patent.data-{}\".format(file_number)] = output\n",
    "            root = ET.fromstringlist(output)\n",
    "            tree = ET.ElementTree(root)\n",
    "            tree.write(\"data/patent.data-{}\".format(file_number), encoding = 'UTF-8')\n",
    "            \n",
    "            output = []\n",
    "            file_number += 1\n",
    "            \n",
    "        output.append(line)\n",
    "\n",
    "    data[\"data/patent.data-{}\".format(file_number)] = output\n",
    "    root = ET.fromstringlist(output)\n",
    "    tree = ET.ElementTree(root)\n",
    "    tree.write(\"data/patent.data-{}\".format(file_number), encoding = 'UTF-8')\n",
    "    pass\n",
    "\n",
    "\n",
    "def test():\n",
    "    split_file(PATENTS)\n",
    "    for n in range(4):\n",
    "        try:\n",
    "            fname = \"{}-{}\".format(PATENTS, n)\n",
    "            f = open(fname, \"r\")\n",
    "            if not f.readline().startswith(\"<?xml\"):\n",
    "                print \"You have not split the file {} in the correct boundary!\".format(fname)\n",
    "            f.close()\n",
    "        except:\n",
    "            print \"Could not find file {}. Check if the filename is correct!\".format(fname)\n",
    "    print \"Passed.\"\n",
    "\n",
    "\n",
    "test()"
   ]
  },
  {
   "cell_type": "code",
   "execution_count": null,
   "metadata": {
    "collapsed": true
   },
   "outputs": [],
   "source": []
  }
 ],
 "metadata": {
  "kernelspec": {
   "display_name": "Python 2",
   "language": "python",
   "name": "python2"
  },
  "language_info": {
   "codemirror_mode": {
    "name": "ipython",
    "version": 2
   },
   "file_extension": ".py",
   "mimetype": "text/x-python",
   "name": "python",
   "nbconvert_exporter": "python",
   "pygments_lexer": "ipython2",
   "version": "2.7.10"
  }
 },
 "nbformat": 4,
 "nbformat_minor": 0
}
