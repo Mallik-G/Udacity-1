{
 "cells": [
  {
   "cell_type": "code",
   "execution_count": 1,
   "metadata": {
    "collapsed": true
   },
   "outputs": [],
   "source": [
    "#!/usr/bin/env python\n",
    "# -*- coding: utf-8 -*-\n",
    "# This and the following exercise are using US Patent database.\n",
    "# The patent.data file is a small excerpt of a much larger datafile\n",
    "# that is available for download from US Patent website. They are pretty large ( >100 MB each).\n",
    "# The data itself is in XML, however there is a problem with how it's formatted.\n",
    "# Please run this script and observe the error. Then find the line that is causing the error.\n",
    "# You can do that by just looking at the datafile in the web UI, or programmatically.\n",
    "# For quiz purposes it does not matter, but as an exercise we suggest that you try to do it programmatically.\n",
    "# The original file is ~600MB large, you might not be able to open it in a text editor.\n",
    "# NOTE: You do not need to correct the error - for now, just find where the error is occurring.\n",
    "\n",
    "import xml.etree.ElementTree as ET\n",
    "\n",
    "PATENTS = 'patent.data'\n",
    "\n",
    "def get_root(fname):\n",
    "\n",
    "    tree = ET.parse(fname)\n",
    "    return tree.getroot()\n",
    "\n",
    "\n",
    "get_root(PATENTS)"
   ]
  },
  {
   "cell_type": "code",
   "execution_count": 2,
   "metadata": {
    "collapsed": false,
    "scrolled": true
   },
   "outputs": [
    {
     "ename": "ParseError",
     "evalue": "junk after document element: line 657, column 0",
     "output_type": "error",
     "traceback": [
      "\u001b[1;36m  File \u001b[1;32m\"<string>\"\u001b[1;36m, line \u001b[1;32munknown\u001b[0m\n\u001b[1;31mParseError\u001b[0m\u001b[1;31m:\u001b[0m junk after document element: line 657, column 0\n"
     ]
    }
   ],
   "source": [
    "#!/usr/bin/env python\n",
    "# -*- coding: utf-8 -*-\n",
    "# This and the following exercise are using US Patent database.\n",
    "# The patent.data file is a small excerpt of a much larger datafile\n",
    "# that is available for download from US Patent website. They are pretty large ( >100 MB each).\n",
    "# The data itself is in XML, however there is a problem with how it's formatted.\n",
    "# Please run this script and observe the error. Then find the line that is causing the error.\n",
    "# You can do that by just looking at the datafile in the web UI, or programmatically.\n",
    "# For quiz purposes it does not matter, but as an exercise we suggest that you try to do it programmatically.\n",
    "# The original file is ~600MB large, you might not be able to open it in a text editor.\n",
    "# NOTE: You do not need to correct the error - for now, just find where the error is occurring.\n",
    "\n",
    "import xml.etree.ElementTree as ET\n",
    "\n",
    "PATENTS = 'data/patent.data'\n",
    "\n",
    "def get_root(fname):\n",
    "\n",
    "    tree = ET.parse(fname)\n",
    "    return tree.getroot()\n",
    "\n",
    "\n",
    "get_root(PATENTS)"
   ]
  },
  {
   "cell_type": "code",
   "execution_count": null,
   "metadata": {
    "collapsed": true
   },
   "outputs": [],
   "source": []
  }
 ],
 "metadata": {
  "kernelspec": {
   "display_name": "Python 2",
   "language": "python",
   "name": "python2"
  },
  "language_info": {
   "codemirror_mode": {
    "name": "ipython",
    "version": 2
   },
   "file_extension": ".py",
   "mimetype": "text/x-python",
   "name": "python",
   "nbconvert_exporter": "python",
   "pygments_lexer": "ipython2",
   "version": "2.7.10"
  }
 },
 "nbformat": 4,
 "nbformat_minor": 0
}
