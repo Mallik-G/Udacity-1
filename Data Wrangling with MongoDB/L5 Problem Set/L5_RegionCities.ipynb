{
 "cells": [
  {
   "cell_type": "code",
   "execution_count": 1,
   "metadata": {
    "collapsed": true
   },
   "outputs": [],
   "source": [
    "#!/usr/bin/env python\n",
    "\"\"\"\n",
    "Use an aggregation query to answer the following question. \n",
    "\n",
    "Which Region in India has the largest number of cities with longitude between 75 and 80?\n",
    "\n",
    "Please modify only the 'make_pipeline' function so that it creates and returns an aggregation \n",
    "pipeline that can be passed to the MongoDB aggregate function. As in our examples in this lesson, \n",
    "the aggregation pipeline should be a list of one or more dictionary objects. \n",
    "Please review the lesson examples if you are unsure of the syntax.\n",
    "\n",
    "Your code will be run against a MongoDB instance that we have provided. If you want to run this \n",
    "code locally on your machine, you have to install MongoDB, download and insert the dataset.\n",
    "For instructions related to MongoDB setup and datasets please see Course Materials.\n",
    "\n",
    "Please note that the dataset you are using here is a different version of the cities collection\n",
    "provided in the course materials. If you attempt some of the same queries that we look at in the \n",
    "problem set, your results may be different.\n",
    "\"\"\"\n",
    "\n",
    "def get_db(db_name):\n",
    "    from pymongo import MongoClient\n",
    "    client = MongoClient('localhost:27017')\n",
    "    db = client[db_name]\n",
    "    return db\n",
    "\n",
    "def make_pipeline():\n",
    "    # complete the aggregation pipeline\n",
    "    pipeline = [ ]\n",
    "    return pipeline\n",
    "\n",
    "def aggregate(db, pipeline):\n",
    "    result = db.cities.aggregate(pipeline)\n",
    "    return result\n",
    "\n",
    "if __name__ == '__main__':\n",
    "    # The following statements will be used to test your code by the grader.\n",
    "    # Any modifications to the code past this point will not be reflected by\n",
    "    # the Test Run.\n",
    "    db = get_db('examples')\n",
    "    pipeline = make_pipeline()\n",
    "    result = aggregate(db, pipeline)\n",
    "    import pprint\n",
    "    pprint.pprint(result[\"result\"][0])\n",
    "    assert len(result[\"result\"]) == 1\n",
    "    assert result[\"result\"][0][\"_id\"] == 'Tamil Nadu'\n",
    "    assert result[\"result\"][0][\"count\"] == 424"
   ]
  },
  {
   "cell_type": "code",
   "execution_count": 1,
   "metadata": {
    "collapsed": false,
    "scrolled": true
   },
   "outputs": [
    {
     "ename": "IndentationError",
     "evalue": "expected an indented block (<ipython-input-1-20c1253fe8a3>, line 59)",
     "output_type": "error",
     "traceback": [
      "\u001b[1;36m  File \u001b[1;32m\"<ipython-input-1-20c1253fe8a3>\"\u001b[1;36m, line \u001b[1;32m59\u001b[0m\n\u001b[1;33m    #assert result[\"result\"][0] == {'_id': 'Shahpur', 'count': 6}\u001b[0m\n\u001b[1;37m                                                                 ^\u001b[0m\n\u001b[1;31mIndentationError\u001b[0m\u001b[1;31m:\u001b[0m expected an indented block\n"
     ]
    }
   ],
   "source": [
    "#!/usr/bin/env python\n",
    "\"\"\"\n",
    "Use an aggregation query to answer the following question. \n",
    "\n",
    "Which Region in India has the largest number of cities with longitude between 75 and 80?\n",
    "\n",
    "Please modify only the 'make_pipeline' function so that it creates and returns an aggregation \n",
    "pipeline that can be passed to the MongoDB aggregate function. As in our examples in this lesson, \n",
    "the aggregation pipeline should be a list of one or more dictionary objects. \n",
    "Please review the lesson examples if you are unsure of the syntax.\n",
    "\n",
    "Your code will be run against a MongoDB instance that we have provided. If you want to run this \n",
    "code locally on your machine, you have to install MongoDB, download and insert the dataset.\n",
    "For instructions related to MongoDB setup and datasets please see Course Materials.\n",
    "\n",
    "Please note that the dataset you are using here is a different version of the cities collection\n",
    "provided in the course materials. If you attempt some of the same queries that we look at in the \n",
    "problem set, your results may be different.\n",
    "\"\"\"\n",
    "\n",
    "def get_db(db_name):\n",
    "    from pymongo import MongoClient\n",
    "    client = MongoClient('localhost:27017')\n",
    "    db = client[db_name]\n",
    "    return db\n",
    "\n",
    "def make_pipeline():\n",
    "    pipeline = [{\"$match\": {\"country\": \"India\",\n",
    "                            \"lon\": {\"$gte\": 75},\n",
    "                            \"lon\": {\"$lte\": 80}}},\n",
    "                {\"$unwind\": \"$isPartOf\"},\n",
    "                {\"$group\": {\"_id\": \"$isPartOf\",\n",
    "                            \"count\": {\"$sum\": 1}}},\n",
    "                {\"$sort\": {\"count\": -1}},\n",
    "                {\"$limit\": 1}]\n",
    "    return pipeline\n",
    "\n",
    "def aggregate(db, pipeline):\n",
    "    result = db.cities.aggregate(pipeline)\n",
    "    return result\n",
    "\n",
    "if __name__ == '__main__':\n",
    "    # The following statements will be used to test your code by the grader.\n",
    "    # Any modifications to the code past this point will not be reflected by\n",
    "    # the Test Run.\n",
    "    #db = get_db('examples')\n",
    "    #pipeline = make_pipeline()\n",
    "    #result = aggregate(db, pipeline)\n",
    "    #import pprint\n",
    "    #pprint.pprint(result[\"result\"][0])\n",
    "    #assert len(result[\"result\"]) == 1\n",
    "    #assert result[\"result\"][0][\"_id\"] == 'Tamil Nadu'\n",
    "    #assert result[\"result\"][0][\"count\"] == 424"
   ]
  },
  {
   "cell_type": "code",
   "execution_count": null,
   "metadata": {
    "collapsed": true
   },
   "outputs": [],
   "source": []
  }
 ],
 "metadata": {
  "kernelspec": {
   "display_name": "Python 2",
   "language": "python",
   "name": "python2"
  },
  "language_info": {
   "codemirror_mode": {
    "name": "ipython",
    "version": 2
   },
   "file_extension": ".py",
   "mimetype": "text/x-python",
   "name": "python",
   "nbconvert_exporter": "python",
   "pygments_lexer": "ipython2",
   "version": "2.7.10"
  }
 },
 "nbformat": 4,
 "nbformat_minor": 0
}
