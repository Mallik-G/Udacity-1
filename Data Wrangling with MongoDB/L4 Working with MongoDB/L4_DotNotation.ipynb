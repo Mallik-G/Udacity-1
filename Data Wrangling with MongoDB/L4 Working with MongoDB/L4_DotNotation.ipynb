{
 "cells": [
  {
   "cell_type": "code",
   "execution_count": 1,
   "metadata": {
    "collapsed": true
   },
   "outputs": [],
   "source": [
    "#!/usr/bin/env python\n",
    "\"\"\"\n",
    "Your task is to write a query that will return all cars with width dimension\n",
    "greater than 2.5. Please modify only the 'dot_query' function, as only that\n",
    "will be taken into account.\n",
    "\n",
    "Your code will be run against a MongoDB instance that we have provided.\n",
    "If you want to run this code locally on your machine, you will need to install\n",
    "MongoDB, download and insert the dataset. For instructions related to MongoDB\n",
    "setup and datasets, please see the Course Materials.\n",
    "\"\"\"\n",
    "\n",
    "\n",
    "def dot_query():\n",
    "    # Edit the line below with your query - try to use dot notation.\n",
    "    # You can check out example_auto.txt for an example of the document\n",
    "    # structure in the collection.\n",
    "    query = {}\n",
    "    return query\n",
    "\n",
    "\n",
    "# Do not edit code below this line in the online code editor.\n",
    "# Code here is for local use on your own computer.\n",
    "def get_db():\n",
    "    from pymongo import MongoClient\n",
    "    client = MongoClient('localhost:27017')\n",
    "    db = client.examples\n",
    "    return db\n",
    "\n",
    "\n",
    "if __name__ == \"__main__\":\n",
    "    db = get_db()\n",
    "    query = dot_query()\n",
    "    cars = db.cars.find(query)\n",
    "\n",
    "    print \"Found cars:\", cars.count()\n",
    "    import pprint\n",
    "    pprint.pprint(cars[0])"
   ]
  },
  {
   "cell_type": "code",
   "execution_count": 1,
   "metadata": {
    "collapsed": false,
    "scrolled": true
   },
   "outputs": [
    {
     "ename": "IndentationError",
     "evalue": "expected an indented block (<ipython-input-1-4b344a8d0bf8>, line 35)",
     "output_type": "error",
     "traceback": [
      "\u001b[1;36m  File \u001b[1;32m\"<ipython-input-1-4b344a8d0bf8>\"\u001b[1;36m, line \u001b[1;32m35\u001b[0m\n\u001b[1;33m    #pprint.pprint(cars[0])\u001b[0m\n\u001b[1;37m                           ^\u001b[0m\n\u001b[1;31mIndentationError\u001b[0m\u001b[1;31m:\u001b[0m expected an indented block\n"
     ]
    }
   ],
   "source": [
    "#!/usr/bin/env python\n",
    "\"\"\"\n",
    "Your task is to write a query that will return all cars with width dimension\n",
    "greater than 2.5. Please modify only the 'dot_query' function, as only that\n",
    "will be taken into account.\n",
    "\n",
    "Your code will be run against a MongoDB instance that we have provided.\n",
    "If you want to run this code locally on your machine, you will need to install\n",
    "MongoDB, download and insert the dataset. For instructions related to MongoDB\n",
    "setup and datasets, please see the Course Materials.\n",
    "\"\"\"\n",
    "\n",
    "\n",
    "def dot_query():\n",
    "    query = {\"dimensions.width\":{\"$gt\":2.5}}\n",
    "    return query\n",
    "\n",
    "\n",
    "# Do not edit code below this line in the online code editor.\n",
    "# Code here is for local use on your own computer.\n",
    "def get_db():\n",
    "    from pymongo import MongoClient\n",
    "    client = MongoClient('localhost:27017')\n",
    "    db = client.examples\n",
    "    return db\n",
    "\n",
    "\n",
    "if __name__ == \"__main__\":\n",
    "    #db = get_db()\n",
    "    #query = dot_query()\n",
    "    #cars = db.cars.find(query)\n",
    "\n",
    "    #print \"Found cars:\", cars.count()\n",
    "    #import pprint\n",
    "    #pprint.pprint(cars[0])"
   ]
  },
  {
   "cell_type": "code",
   "execution_count": null,
   "metadata": {
    "collapsed": true
   },
   "outputs": [],
   "source": []
  }
 ],
 "metadata": {
  "kernelspec": {
   "display_name": "Python 2",
   "language": "python",
   "name": "python2"
  },
  "language_info": {
   "codemirror_mode": {
    "name": "ipython",
    "version": 2
   },
   "file_extension": ".py",
   "mimetype": "text/x-python",
   "name": "python",
   "nbconvert_exporter": "python",
   "pygments_lexer": "ipython2",
   "version": "2.7.10"
  }
 },
 "nbformat": 4,
 "nbformat_minor": 0
}
