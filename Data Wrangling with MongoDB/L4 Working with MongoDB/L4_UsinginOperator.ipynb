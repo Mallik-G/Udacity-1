{
 "cells": [
  {
   "cell_type": "code",
   "execution_count": 1,
   "metadata": {
    "collapsed": true
   },
   "outputs": [],
   "source": [
    "#!/usr/bin/env python\n",
    "\"\"\"\n",
    "Your task is to write a query that will return all cars manufactured by\n",
    "\"Ford Motor Company\" that are assembled in Germany, United Kingdom, or Japan.\n",
    "Please modify only 'in_query' function, as only that will be taken into account.\n",
    "\n",
    "Your code will be run against a MongoDB instance that we have provided.\n",
    "If you want to run this code locally on your machine,\n",
    "you have to install MongoDB, download and insert the dataset.\n",
    "For instructions related to MongoDB setup and datasets please see Course Materials.\n",
    "\"\"\"\n",
    "\n",
    "\n",
    "def in_query():\n",
    "    # Modify the below line with your query; try to use the $in operator.\n",
    "    query = {}\n",
    "    \n",
    "    return query\n",
    "\n",
    "\n",
    "# Do not edit code below this line in the online code editor.\n",
    "# Code here is for local use on your own computer.\n",
    "def get_db():\n",
    "    from pymongo import MongoClient\n",
    "    client = MongoClient('localhost:27017')\n",
    "    db = client.examples\n",
    "    return db\n",
    "\n",
    "\n",
    "if __name__ == \"__main__\":\n",
    "\n",
    "    db = get_db()\n",
    "    query = in_query()\n",
    "    autos = db.autos.find(query, {\"name\":1, \"manufacturer\":1, \"assembly\": 1, \"_id\":0})\n",
    "\n",
    "    print \"Found autos:\", autos.count()\n",
    "    import pprint\n",
    "    for a in autos:\n",
    "        pprint.pprint(a)"
   ]
  },
  {
   "cell_type": "code",
   "execution_count": 1,
   "metadata": {
    "collapsed": false,
    "scrolled": true
   },
   "outputs": [
    {
     "ename": "IndentationError",
     "evalue": "expected an indented block (<ipython-input-1-494a165bda91>, line 37)",
     "output_type": "error",
     "traceback": [
      "\u001b[1;36m  File \u001b[1;32m\"<ipython-input-1-494a165bda91>\"\u001b[1;36m, line \u001b[1;32m37\u001b[0m\n\u001b[1;33m    #pprint.pprint(a)\u001b[0m\n\u001b[1;37m                     ^\u001b[0m\n\u001b[1;31mIndentationError\u001b[0m\u001b[1;31m:\u001b[0m expected an indented block\n"
     ]
    }
   ],
   "source": [
    "#!/usr/bin/env python\n",
    "\"\"\"\n",
    "Your task is to write a query that will return all cars manufactured by\n",
    "\"Ford Motor Company\" that are assembled in Germany, United Kingdom, or Japan.\n",
    "Please modify only 'in_query' function, as only that will be taken into account.\n",
    "\n",
    "Your code will be run against a MongoDB instance that we have provided.\n",
    "If you want to run this code locally on your machine,\n",
    "you have to install MongoDB, download and insert the dataset.\n",
    "For instructions related to MongoDB setup and datasets please see Course Materials.\n",
    "\"\"\"\n",
    "\n",
    "\n",
    "def in_query():\n",
    "    query = {\"manufacturer\": \"Ford Motor Company\", \"assembly\":{\"$in\": [\"Germany\", \"United Kingdom\", \"Japan\"]} }\n",
    "    return query\n",
    "\n",
    "\n",
    "# Do not edit code below this line in the online code editor.\n",
    "# Code here is for local use on your own computer.\n",
    "def get_db():\n",
    "    from pymongo import MongoClient\n",
    "    client = MongoClient('localhost:27017')\n",
    "    db = client.examples\n",
    "    return db\n",
    "\n",
    "\n",
    "if __name__ == \"__main__\":\n",
    "\n",
    "    #db = get_db()\n",
    "    #query = in_query()\n",
    "    #autos = db.autos.find(query, {\"name\":1, \"manufacturer\":1, \"assembly\": 1, \"_id\":0})\n",
    "\n",
    "    #print \"Found autos:\", autos.count()\n",
    "    #import pprint\n",
    "    #for a in autos:\n",
    "        #pprint.pprint(a)"
   ]
  },
  {
   "cell_type": "code",
   "execution_count": null,
   "metadata": {
    "collapsed": true
   },
   "outputs": [],
   "source": []
  }
 ],
 "metadata": {
  "kernelspec": {
   "display_name": "Python 2",
   "language": "python",
   "name": "python2"
  },
  "language_info": {
   "codemirror_mode": {
    "name": "ipython",
    "version": 2
   },
   "file_extension": ".py",
   "mimetype": "text/x-python",
   "name": "python",
   "nbconvert_exporter": "python",
   "pygments_lexer": "ipython2",
   "version": "2.7.10"
  }
 },
 "nbformat": 4,
 "nbformat_minor": 0
}
