{
 "cells": [
  {
   "cell_type": "code",
   "execution_count": 7,
   "metadata": {
    "collapsed": true
   },
   "outputs": [],
   "source": [
    "import csv\n",
    "\n",
    "def fix_turnstile_data(filenames):\n",
    "    '''\n",
    "    Filenames is a list of MTA Subway turnstile text files. A link to an example\n",
    "    MTA Subway turnstile text file can be seen at the URL below:\n",
    "    http://web.mta.info/developers/data/nyct/turnstile/turnstile_110507.txt\n",
    "    \n",
    "    As you can see, there are numerous data points included in each row of the\n",
    "    a MTA Subway turnstile text file. \n",
    "\n",
    "    You want to write a function that will update each row in the text\n",
    "    file so there is only one entry per row. A few examples below:\n",
    "    A002,R051,02-00-00,05-28-11,00:00:00,REGULAR,003178521,001100739\n",
    "    A002,R051,02-00-00,05-28-11,04:00:00,REGULAR,003178541,001100746\n",
    "    A002,R051,02-00-00,05-28-11,08:00:00,REGULAR,003178559,001100775\n",
    "    \n",
    "    Write the updates to a different text file in the format of \"updated_\" + filename.\n",
    "    For example:\n",
    "        1) if you read in a text file called \"turnstile_110521.txt\"\n",
    "        2) you should write the updated data to \"updated_turnstile_110521.txt\"\n",
    "\n",
    "    The order of the fields should be preserved. Remember to read through the \n",
    "    Instructor Notes below for more details on the task. \n",
    "    \n",
    "    In addition, here is a CSV reader/writer introductory tutorial:\n",
    "    http://goo.gl/HBbvyy\n",
    "    \n",
    "    You can see a sample of the turnstile text file that's passed into this function\n",
    "    and the the corresponding updated file in the links below:\n",
    "    \n",
    "    Sample input file:\n",
    "    https://www.dropbox.com/s/mpin5zv4hgrx244/turnstile_110528.txt\n",
    "    Sample updated file:\n",
    "    https://www.dropbox.com/s/074xbgio4c39b7h/solution_turnstile_110528.txt\n",
    "    '''\n",
    "    for name in filenames:\n",
    "        # your code here"
   ]
  },
  {
   "cell_type": "code",
   "execution_count": 14,
   "metadata": {
    "collapsed": false
   },
   "outputs": [
    {
     "name": "stdout",
     "output_type": "stream",
     "text": [
      "['A042', 'R086', '01-00-04', '01-00-04', '05-27-11', '12:00:00', 'REGULAR', '000915806']\n",
      "['A042', 'R086', '01-00-04', '05-27-11', '12:00:00', 'REGULAR', '000915806', '004180746']\n"
     ]
    },
    {
     "data": {
      "text/plain": [
       "['turnstile_110528.txt']"
      ]
     },
     "execution_count": 14,
     "metadata": {},
     "output_type": "execute_result"
    }
   ],
   "source": [
    "import csv\n",
    "\n",
    "def fix_turnstile_data(dirname, filenames):\n",
    "    '''\n",
    "    Filenames is a list of MTA Subway turnstile text files. A link to an example\n",
    "    MTA Subway turnstile text file can be seen at the URL below:\n",
    "    http://web.mta.info/developers/data/nyct/turnstile/turnstile_110507.txt\n",
    "    \n",
    "    As you can see, there are numerous data points included in each row of the\n",
    "    a MTA Subway turnstile text file. \n",
    "\n",
    "    You want to write a function that will update each row in the text\n",
    "    file so there is only one entry per row. A few examples below:\n",
    "    A002,R051,02-00-00,05-28-11,00:00:00,REGULAR,003178521,001100739\n",
    "    A002,R051,02-00-00,05-28-11,04:00:00,REGULAR,003178541,001100746\n",
    "    A002,R051,02-00-00,05-28-11,08:00:00,REGULAR,003178559,001100775\n",
    "    \n",
    "    Write the updates to a different text file in the format of \"updated_\" + filename.\n",
    "    For example:\n",
    "        1) if you read in a text file called \"turnstile_110521.txt\"\n",
    "        2) you should write the updated data to \"updated_turnstile_110521.txt\"\n",
    "\n",
    "    The order of the fields should be preserved. Remember to read through the \n",
    "    Instructor Notes below for more details on the task. \n",
    "    \n",
    "    In addition, here is a CSV reader/writer introductory tutorial:\n",
    "    http://goo.gl/HBbvyy\n",
    "    \n",
    "    You can see a sample of the turnstile text file that's passed into this function\n",
    "    and the the corresponding updated file in the links below:\n",
    "    \n",
    "    Sample input file:\n",
    "    https://www.dropbox.com/s/mpin5zv4hgrx244/turnstile_110528.txt\n",
    "    Sample updated file:\n",
    "    https://www.dropbox.com/s/074xbgio4c39b7h/solution_turnstile_110528.txt\n",
    "    '''\n",
    "    for name in filenames:\n",
    "        f_in = open(dirname + name, 'rb')\n",
    "        f_out = open(dirname + 'update_' + name, 'w')\n",
    "        reader_in = csv.reader(f_in)\n",
    "        writer_out = csv.writer(f_out)\n",
    "        reader_in.next()\n",
    "        \n",
    "        for line in reader_in:\n",
    "            header=line[0:3]\n",
    "            length=((len(line)-3)/5)\n",
    "            index=3\n",
    "            b=[]\n",
    "            \n",
    "        for index in range(2, length + 1):\n",
    "            fw = header + line[index:(index+5)]\n",
    "            writer_out.writerow(fw)\n",
    "            print fw\n",
    "            index = index + 5\n",
    "            \n",
    "        #f_in.close()\n",
    "        #f_out.close()\n",
    "           \n",
    "    return filenames\n",
    "\n",
    "dirname = 'data/'\n",
    "filenames = ['turnstile_110528.txt']\n",
    "fix_turnstile_data(dirname, filenames)"
   ]
  },
  {
   "cell_type": "code",
   "execution_count": null,
   "metadata": {
    "collapsed": true
   },
   "outputs": [],
   "source": []
  }
 ],
 "metadata": {
  "kernelspec": {
   "display_name": "Python 2",
   "language": "python",
   "name": "python2"
  },
  "language_info": {
   "codemirror_mode": {
    "name": "ipython",
    "version": 2
   },
   "file_extension": ".py",
   "mimetype": "text/x-python",
   "name": "python",
   "nbconvert_exporter": "python",
   "pygments_lexer": "ipython2",
   "version": "2.7.10"
  }
 },
 "nbformat": 4,
 "nbformat_minor": 0
}
