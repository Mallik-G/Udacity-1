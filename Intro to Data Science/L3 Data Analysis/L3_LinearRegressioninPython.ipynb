{
 "cells": [
  {
   "cell_type": "code",
   "execution_count": 2,
   "metadata": {
    "collapsed": true
   },
   "outputs": [],
   "source": [
    "import statsmodels.api as sm\n",
    "\n",
    "def linear_regression(features, values):\n",
    "    \"\"\"\n",
    "    Performs linear regression given a dataset with an arbitrary number of features.\n",
    "    'features' is the input data points (or the X's) and 'values' is the output data points\n",
    "    (or the Y's).\n",
    "    \n",
    "    Returns the intercept and the parameters, that is, the optimal values of theta.\n",
    "    \n",
    "    This page contains example code that may be helpful:\n",
    "    http://statsmodels.sourceforge.net/0.5.0/generated/statsmodels.regression.linear_model.OLS.html\n",
    "    \"\"\"\n",
    "\n",
    "    ###########################\n",
    "    ### YOUR CODE GOES HERE ###\n",
    "    ###########################\n",
    "    \n",
    "    return intercept, params"
   ]
  },
  {
   "cell_type": "code",
   "execution_count": 3,
   "metadata": {
    "collapsed": false
   },
   "outputs": [],
   "source": [
    "import statsmodels.api as sm\n",
    "\n",
    "def linear_regression(features, values):\n",
    "    \"\"\"\n",
    "    Performs linear regression given a dataset with an arbitrary number of features.\n",
    "    'features' is the input data points (or the X's) and 'values' is the output data points\n",
    "    (or the Y's).\n",
    "    \n",
    "    Returns the intercept and the parameters, that is, the optimal values of theta.\n",
    "    \n",
    "    This page contains example code that may be helpful:\n",
    "    http://statsmodels.sourceforge.net/0.5.0/generated/statsmodels.regression.linear_model.OLS.html\n",
    "    \"\"\"\n",
    "\n",
    "    features = sm.add_constant(features)\n",
    "    model = sm.OLS(values, features)\n",
    "    results = model.fit()\n",
    "    intercept = results.params[0]\n",
    "    params = results.params[1:]\n",
    "    \n",
    "    return intercept, params"
   ]
  },
  {
   "cell_type": "code",
   "execution_count": null,
   "metadata": {
    "collapsed": true
   },
   "outputs": [],
   "source": []
  }
 ],
 "metadata": {
  "kernelspec": {
   "display_name": "Python 2",
   "language": "python",
   "name": "python2"
  },
  "language_info": {
   "codemirror_mode": {
    "name": "ipython",
    "version": 2
   },
   "file_extension": ".py",
   "mimetype": "text/x-python",
   "name": "python",
   "nbconvert_exporter": "python",
   "pygments_lexer": "ipython2",
   "version": "2.7.10"
  }
 },
 "nbformat": 4,
 "nbformat_minor": 0
}
