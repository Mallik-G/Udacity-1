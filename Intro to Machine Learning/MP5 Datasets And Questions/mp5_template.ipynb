{
 "cells": [
  {
   "cell_type": "code",
   "execution_count": 1,
   "metadata": {
    "collapsed": false
   },
   "outputs": [
    {
     "name": "stdout",
     "output_type": "stream",
     "text": [
      "Overwriting explore_enron_data.py\n"
     ]
    }
   ],
   "source": [
    " %%writefile explore_enron_data.py\n",
    "# %load explore_enron_data.py\n",
    "\n",
    "#!/usr/bin/python\n",
    "\n",
    "\"\"\" \n",
    "    starter code for exploring the Enron dataset (emails + finances) \n",
    "    loads up the dataset (pickled dict of dicts)\n",
    "\n",
    "    the dataset has the form\n",
    "    enron_data[\"LASTNAME FIRSTNAME MIDDLEINITIAL\"] = { features_dict }\n",
    "\n",
    "    {features_dict} is a dictionary of features associated with that person\n",
    "    you should explore features_dict as part of the mini-project,\n",
    "    but here's an example to get you started:\n",
    "\n",
    "    enron_data[\"SKILLING JEFFREY K\"][\"bonus\"] = 5600000\n",
    "    \n",
    "\"\"\"\n",
    "\n",
    "import pickle\n",
    "\n",
    "enron_data = pickle.load(open(\"data/final_project_dataset.pkl\", \"r\"))\n",
    "\n",
    "print \"How many data points (people) are in the dataset?\"\n",
    "points = len(enron_data.keys())\n",
    "print points\n",
    "\n",
    "print \"For each person, how many features are available?\",\n",
    "perfeat = len(enron_data[enron_data.keys()[0]].keys())\n",
    "print perfeat\n",
    "\n",
    "print \"How many POIs are there in the E+F dataset?\"\n",
    "poi_count = 0\n",
    "for k in enron_data:\n",
    "    if enron_data[k][\"poi\"] == 1:\n",
    "        poi_count += 1\n",
    "\n",
    "print poi_count\n",
    "\n",
    "print \"What is the total value of the stock belonging to James Prentice?\"\n",
    "jpstock = enron_data['PRENTICE JAMES']['total_stock_value']\n",
    "print jpstock\n",
    "\n",
    "print \"How many email messages do we have from Wesley Colwell to persons of interest?\"\n",
    "wcemail = enron_data['COLWELL WESLEY']['from_this_person_to_poi']\n",
    "print wcemail \n",
    "\n",
    "print \"What’s the value of stock options exercised by Jeffrey Skilling?\"\n",
    "jsstock = enron_data['SKILLING JEFFREY K']['exercised_stock_options']\n",
    "print jsstock\n",
    "\n",
    "print \"How many folks in this dataset have a quantified salary?\"\n",
    "quantified_salary_count = 0\n",
    "for k in enron_data:\n",
    "    if enron_data[k]['salary'] != 'NaN':\n",
    "        quantified_salary_count += 1\n",
    "\n",
    "print quantified_salary_count\n",
    "\n",
    "print \"What about a known email address?\"\n",
    "email_address_count = 0\n",
    "for k in enron_data:\n",
    "    if enron_data[k]['salary'] != 'NaN':\n",
    "        email_address_count += 1\n",
    "\n",
    "print email_address_count"
   ]
  },
  {
   "cell_type": "code",
   "execution_count": null,
   "metadata": {
    "collapsed": true
   },
   "outputs": [],
   "source": []
  }
 ],
 "metadata": {
  "kernelspec": {
   "display_name": "Python 2",
   "language": "python",
   "name": "python2"
  },
  "language_info": {
   "codemirror_mode": {
    "name": "ipython",
    "version": 2
   },
   "file_extension": ".py",
   "mimetype": "text/x-python",
   "name": "python",
   "nbconvert_exporter": "python",
   "pygments_lexer": "ipython2",
   "version": "2.7.10"
  }
 },
 "nbformat": 4,
 "nbformat_minor": 0
}
